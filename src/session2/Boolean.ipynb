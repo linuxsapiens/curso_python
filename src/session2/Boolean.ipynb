{
 "cells": [
  {
   "cell_type": "markdown",
   "id": "891f4702-afab-46ed-b90a-e0c5121cbf80",
   "metadata": {},
   "source": [
    "### Tipo boolean\n",
    "Tipo lógico\n",
    "* Mínima expresión racional\n",
    "* Representado por 2 valores ( cierto o falso ), ( encendido, apagado )\n",
    "\n",
    "Linguisticamente\n",
    "* Estoy vivo <- Es verdadero\n",
    "* 1 + 1 = 3\n",
    "\n",
    "Negación\n",
    "* No verdadero = falso\n",
    "* No falso = verdadero"
   ]
  },
  {
   "cell_type": "code",
   "execution_count": 1,
   "id": "c2d1a226-5b51-49c8-8c0e-992fdf46714e",
   "metadata": {},
   "outputs": [
    {
     "data": {
      "text/plain": [
       "False"
      ]
     },
     "execution_count": 1,
     "metadata": {},
     "output_type": "execute_result"
    }
   ],
   "source": [
    "1+1 == 3"
   ]
  },
  {
   "cell_type": "code",
   "execution_count": 2,
   "id": "9f1e0350-8a1d-4856-84e7-1b59145cc983",
   "metadata": {},
   "outputs": [
    {
     "data": {
      "text/plain": [
       "True"
      ]
     },
     "execution_count": 2,
     "metadata": {},
     "output_type": "execute_result"
    }
   ],
   "source": [
    "1+1 == 2"
   ]
  },
  {
   "cell_type": "code",
   "execution_count": null,
   "id": "a26366bc-7c89-4965-9a31-ac0319410a98",
   "metadata": {},
   "outputs": [],
   "source": []
  }
 ],
 "metadata": {
  "kernelspec": {
   "display_name": "Python 3 (ipykernel)",
   "language": "python",
   "name": "python3"
  },
  "language_info": {
   "codemirror_mode": {
    "name": "ipython",
    "version": 3
   },
   "file_extension": ".py",
   "mimetype": "text/x-python",
   "name": "python",
   "nbconvert_exporter": "python",
   "pygments_lexer": "ipython3",
   "version": "3.10.12"
  }
 },
 "nbformat": 4,
 "nbformat_minor": 5
}
