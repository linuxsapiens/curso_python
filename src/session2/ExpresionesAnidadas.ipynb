{
 "cells": [
  {
   "cell_type": "code",
   "execution_count": 1,
   "id": "425e7caf-ae13-4931-878b-b0b8ad202989",
   "metadata": {},
   "outputs": [
    {
     "data": {
      "text/plain": [
       "False"
      ]
     },
     "execution_count": 1,
     "metadata": {},
     "output_type": "execute_result"
    }
   ],
   "source": [
    "a = 10\n",
    "b = 5\n",
    "a * b - 2**b >= 20 and not (a % b) != 0"
   ]
  },
  {
   "cell_type": "markdown",
   "id": "1c5b159c-cd3f-4a90-9904-3379cfc210fb",
   "metadata": {},
   "source": [
    "## Orden de precedencia\n",
    "* Primero los paréntesis\n",
    "* Segundo, expresiones aritmétricas por sus propias reglas\n",
    "* Tercero, los relacionales de izquierda a derecha\n",
    "* Cuarto, los lógicos"
   ]
  }
 ],
 "metadata": {
  "kernelspec": {
   "display_name": "Python 3 (ipykernel)",
   "language": "python",
   "name": "python3"
  },
  "language_info": {
   "codemirror_mode": {
    "name": "ipython",
    "version": 3
   },
   "file_extension": ".py",
   "mimetype": "text/x-python",
   "name": "python",
   "nbconvert_exporter": "python",
   "pygments_lexer": "ipython3",
   "version": "3.10.12"
  }
 },
 "nbformat": 4,
 "nbformat_minor": 5
}
