{
 "cells": [
  {
   "cell_type": "code",
   "execution_count": 1,
   "id": "86dcbda2-c5ae-499b-a530-5ba646970659",
   "metadata": {},
   "outputs": [
    {
     "name": "stdout",
     "output_type": "stream",
     "text": [
      "Defaulting to user installation because normal site-packages is not writeable\n",
      "Collecting wifi-qrcode-generator\n",
      "  Downloading wifi_qrcode_generator-1.0.1-py3-none-any.whl.metadata (2.0 kB)\n",
      "Collecting qrcode[pil] (from wifi-qrcode-generator)\n",
      "  Downloading qrcode-7.4.2-py3-none-any.whl.metadata (17 kB)\n",
      "Requirement already satisfied: typing-extensions in /home/gera/.local/lib/python3.10/site-packages (from qrcode[pil]->wifi-qrcode-generator) (4.11.0)\n",
      "Collecting pypng (from qrcode[pil]->wifi-qrcode-generator)\n",
      "  Downloading pypng-0.20220715.0-py3-none-any.whl.metadata (13 kB)\n",
      "Requirement already satisfied: pillow>=9.1.0 in /usr/local/lib/python3.10/dist-packages (from qrcode[pil]->wifi-qrcode-generator) (10.1.0)\n",
      "Downloading wifi_qrcode_generator-1.0.1-py3-none-any.whl (7.5 kB)\n",
      "Downloading pypng-0.20220715.0-py3-none-any.whl (58 kB)\n",
      "\u001b[2K   \u001b[38;2;114;156;31m━━━━━━━━━━━━━━━━━━━━━━━━━━━━━━━━━━━━━━━━\u001b[0m \u001b[32m58.1/58.1 kB\u001b[0m \u001b[31m668.0 kB/s\u001b[0m eta \u001b[36m0:00:00\u001b[0m kB/s\u001b[0m eta \u001b[36m0:00:01\u001b[0m\n",
      "\u001b[?25hDownloading qrcode-7.4.2-py3-none-any.whl (46 kB)\n",
      "\u001b[2K   \u001b[38;2;114;156;31m━━━━━━━━━━━━━━━━━━━━━━━━━━━━━━━━━━━━━━━━\u001b[0m \u001b[32m46.2/46.2 kB\u001b[0m \u001b[31m2.7 MB/s\u001b[0m eta \u001b[36m0:00:00\u001b[0m\n",
      "\u001b[?25hInstalling collected packages: pypng, qrcode, wifi-qrcode-generator\n",
      "Successfully installed pypng-0.20220715.0 qrcode-7.4.2 wifi-qrcode-generator-1.0.1\n",
      "\n",
      "\u001b[1m[\u001b[0m\u001b[34;49mnotice\u001b[0m\u001b[1;39;49m]\u001b[0m\u001b[39;49m A new release of pip is available: \u001b[0m\u001b[31;49m24.0\u001b[0m\u001b[39;49m -> \u001b[0m\u001b[32;49m24.2\u001b[0m\n",
      "\u001b[1m[\u001b[0m\u001b[34;49mnotice\u001b[0m\u001b[1;39;49m]\u001b[0m\u001b[39;49m To update, run: \u001b[0m\u001b[32;49mpython3 -m pip install --upgrade pip\u001b[0m\n",
      "Note: you may need to restart the kernel to use updated packages.\n"
     ]
    }
   ],
   "source": [
    "pip install wifi-qrcode-generator"
   ]
  },
  {
   "cell_type": "code",
   "execution_count": 2,
   "id": "ae073dd8-997b-4117-8465-9b8dd310daea",
   "metadata": {},
   "outputs": [],
   "source": [
    "from wifi_qrcode_generator import wifi_qrcode\n",
    "\n",
    "qr_code = wifi_qrcode(\n",
    "    \"MEGACABLE-5G-3BA3\", \n",
    "    hidden=False, \n",
    "    authentication_type='WPA', \n",
    "    password='very complicated password')\n",
    "\n",
    "qr_image = qr_code.make_image()\n",
    "\n",
    "qr_image.save(\"myQR.png\")"
   ]
  },
  {
   "cell_type": "code",
   "execution_count": null,
   "id": "b598ea1d-c0e9-4d13-b5f6-b0d54a879ff3",
   "metadata": {},
   "outputs": [],
   "source": []
  }
 ],
 "metadata": {
  "kernelspec": {
   "display_name": "Python 3 (ipykernel)",
   "language": "python",
   "name": "python3"
  },
  "language_info": {
   "codemirror_mode": {
    "name": "ipython",
    "version": 3
   },
   "file_extension": ".py",
   "mimetype": "text/x-python",
   "name": "python",
   "nbconvert_exporter": "python",
   "pygments_lexer": "ipython3",
   "version": "3.10.12"
  }
 },
 "nbformat": 4,
 "nbformat_minor": 5
}
