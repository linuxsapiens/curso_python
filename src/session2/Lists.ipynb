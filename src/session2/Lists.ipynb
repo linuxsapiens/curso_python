{
 "cells": [
  {
   "cell_type": "code",
   "execution_count": 2,
   "id": "5ec9ed2e-dbec-4923-add4-b73c43fe6451",
   "metadata": {},
   "outputs": [],
   "source": [
    "numeros = [1,2,3,4,5]"
   ]
  },
  {
   "cell_type": "code",
   "execution_count": 3,
   "id": "a43564ef-a6ef-459d-be91-4568573ac819",
   "metadata": {},
   "outputs": [],
   "source": [
    "# en python no es necesario que los elementos de la lista sean del mismo tipo de dato\n",
    "datos = [5, \"Hola\", 3.14, \"mundo\"]"
   ]
  },
  {
   "cell_type": "code",
   "execution_count": 4,
   "id": "60c7a10e-2bab-4155-92a6-f22f3ffb24eb",
   "metadata": {},
   "outputs": [
    {
     "data": {
      "text/plain": [
       "5"
      ]
     },
     "execution_count": 4,
     "metadata": {},
     "output_type": "execute_result"
    }
   ],
   "source": [
    "datos[0]"
   ]
  },
  {
   "cell_type": "code",
   "execution_count": 5,
   "id": "7aa4977d-24b4-4cc3-bbec-07818573109e",
   "metadata": {},
   "outputs": [
    {
     "data": {
      "text/plain": [
       "'mundo'"
      ]
     },
     "execution_count": 5,
     "metadata": {},
     "output_type": "execute_result"
    }
   ],
   "source": [
    "datos[-1]"
   ]
  },
  {
   "cell_type": "code",
   "execution_count": 6,
   "id": "f6d533ca-89d0-493f-815f-a15dd17eba70",
   "metadata": {},
   "outputs": [
    {
     "data": {
      "text/plain": [
       "[3.14, 'mundo']"
      ]
     },
     "execution_count": 6,
     "metadata": {},
     "output_type": "execute_result"
    }
   ],
   "source": [
    "datos[-2:]"
   ]
  },
  {
   "cell_type": "code",
   "execution_count": 7,
   "id": "39647739-82c4-45fd-93c2-c2feb8707493",
   "metadata": {},
   "outputs": [
    {
     "data": {
      "text/plain": [
       "[1, 2, 3, 4, 5, 6, 7, 8]"
      ]
     },
     "execution_count": 7,
     "metadata": {},
     "output_type": "execute_result"
    }
   ],
   "source": [
    "# concatenacion con otras listas\n",
    "numeros + [6,7,8]"
   ]
  },
  {
   "cell_type": "code",
   "execution_count": 8,
   "id": "0451ec91-ad26-4e02-a120-9e3b7918aa90",
   "metadata": {},
   "outputs": [],
   "source": [
    "# los strings eran imutables, pero las listas no lo son\n",
    "pares = [0,2,4,5,8,10]"
   ]
  },
  {
   "cell_type": "code",
   "execution_count": 9,
   "id": "31f12f69-d39b-47c4-8744-fd19fba25e83",
   "metadata": {},
   "outputs": [],
   "source": [
    "pares[3] = 6"
   ]
  },
  {
   "cell_type": "code",
   "execution_count": 10,
   "id": "1611db27-f2f4-4c8b-ad3f-a8557c1cba6c",
   "metadata": {},
   "outputs": [
    {
     "data": {
      "text/plain": [
       "[0, 2, 4, 6, 8, 10]"
      ]
     },
     "execution_count": 10,
     "metadata": {},
     "output_type": "execute_result"
    }
   ],
   "source": [
    "pares"
   ]
  },
  {
   "cell_type": "code",
   "execution_count": 12,
   "id": "08fa2e27-71c6-441c-a735-f7d684d52690",
   "metadata": {},
   "outputs": [
    {
     "data": {
      "text/plain": [
       "[0, 2, 4, 6, 8, 10, 12]"
      ]
     },
     "execution_count": 12,
     "metadata": {},
     "output_type": "execute_result"
    }
   ],
   "source": [
    "# es posible agreagar elementos al final ( append )\n",
    "pares.append(12)\n",
    "pares"
   ]
  },
  {
   "cell_type": "code",
   "execution_count": 13,
   "id": "eb53adeb-6aa0-4e5e-bfe2-51f0898118d8",
   "metadata": {},
   "outputs": [],
   "source": [
    "pares.append(pares[-1]+2)"
   ]
  },
  {
   "cell_type": "code",
   "execution_count": 14,
   "id": "bd231418-8df1-4d8e-b95e-3af1008f516b",
   "metadata": {},
   "outputs": [
    {
     "data": {
      "text/plain": [
       "[0, 2, 4, 6, 8, 10, 12, 14]"
      ]
     },
     "execution_count": 14,
     "metadata": {},
     "output_type": "execute_result"
    }
   ],
   "source": [
    "pares"
   ]
  },
  {
   "cell_type": "code",
   "execution_count": 15,
   "id": "cc79b9a2-86de-4b01-b48d-6e335fb7356c",
   "metadata": {},
   "outputs": [],
   "source": [
    "# asignacion con slicing\n",
    "letras = ['a', 'b', 'c', 'd', 'e', 'f'] "
   ]
  },
  {
   "cell_type": "code",
   "execution_count": 16,
   "id": "1cd99b9d-9319-4d0b-93cd-1fc9ac1534b7",
   "metadata": {},
   "outputs": [
    {
     "data": {
      "text/plain": [
       "['a', 'b', 'c']"
      ]
     },
     "execution_count": 16,
     "metadata": {},
     "output_type": "execute_result"
    }
   ],
   "source": [
    "letras[:3]"
   ]
  },
  {
   "cell_type": "code",
   "execution_count": 17,
   "id": "aa730649-b07d-4c2c-a58c-c0024b37349a",
   "metadata": {},
   "outputs": [],
   "source": [
    "letras[:3] = ['A','B', 'C']"
   ]
  },
  {
   "cell_type": "code",
   "execution_count": 19,
   "id": "53ca98f9-9059-4812-9bfd-736eedd15870",
   "metadata": {},
   "outputs": [
    {
     "data": {
      "text/plain": [
       "['A', 'B', 'C', 'd', 'e', 'f']"
      ]
     },
     "execution_count": 19,
     "metadata": {},
     "output_type": "execute_result"
    }
   ],
   "source": [
    "letras"
   ]
  },
  {
   "cell_type": "code",
   "execution_count": 20,
   "id": "eca922b7-bbd5-4d15-9f8b-8a5afb75df7d",
   "metadata": {},
   "outputs": [],
   "source": [
    "letras[:3] = []"
   ]
  },
  {
   "cell_type": "code",
   "execution_count": 21,
   "id": "04d5e7b5-f265-4e80-8f66-c57faa02d789",
   "metadata": {},
   "outputs": [
    {
     "data": {
      "text/plain": [
       "['d', 'e', 'f']"
      ]
     },
     "execution_count": 21,
     "metadata": {},
     "output_type": "execute_result"
    }
   ],
   "source": [
    "letras"
   ]
  },
  {
   "cell_type": "code",
   "execution_count": 22,
   "id": "71cfd7f8-553a-4ea9-99cb-8610657058a3",
   "metadata": {},
   "outputs": [],
   "source": [
    "letras = []"
   ]
  },
  {
   "cell_type": "code",
   "execution_count": 23,
   "id": "82123d5e-8459-4535-9b70-ed851c5adfd1",
   "metadata": {},
   "outputs": [
    {
     "data": {
      "text/plain": [
       "[]"
      ]
     },
     "execution_count": 23,
     "metadata": {},
     "output_type": "execute_result"
    }
   ],
   "source": [
    "letras"
   ]
  },
  {
   "cell_type": "code",
   "execution_count": 24,
   "id": "6af6b9d8-5e28-483d-99a6-852fe19b883e",
   "metadata": {},
   "outputs": [
    {
     "data": {
      "text/plain": [
       "0"
      ]
     },
     "execution_count": 24,
     "metadata": {},
     "output_type": "execute_result"
    }
   ],
   "source": [
    "len( letras )"
   ]
  },
  {
   "cell_type": "code",
   "execution_count": 25,
   "id": "8079f9df-ea7b-49ba-a9ab-6683dc58a053",
   "metadata": {},
   "outputs": [
    {
     "data": {
      "text/plain": [
       "8"
      ]
     },
     "execution_count": 25,
     "metadata": {},
     "output_type": "execute_result"
    }
   ],
   "source": [
    "len( pares )"
   ]
  },
  {
   "cell_type": "code",
   "execution_count": 26,
   "id": "28d28c1f-6e7b-48f4-b305-2bdc57f047ab",
   "metadata": {},
   "outputs": [],
   "source": [
    "# Las listas pueden contener otras listas ( anidarse )\n",
    "a = [1,2,3]\n",
    "b = [4,5,6]\n",
    "c = [7,8,9]\n",
    "x = [a,b,c]"
   ]
  },
  {
   "cell_type": "code",
   "execution_count": 27,
   "id": "bd1bf8c2-6f28-4dcb-90b0-a50aa430af37",
   "metadata": {},
   "outputs": [
    {
     "data": {
      "text/plain": [
       "[[1, 2, 3], [4, 5, 6], [7, 8, 9]]"
      ]
     },
     "execution_count": 27,
     "metadata": {},
     "output_type": "execute_result"
    }
   ],
   "source": [
    "x"
   ]
  },
  {
   "cell_type": "code",
   "execution_count": 28,
   "id": "a6b6b633-6282-4667-977f-cabf8209ad0d",
   "metadata": {},
   "outputs": [
    {
     "data": {
      "text/plain": [
       "[1, 2, 3]"
      ]
     },
     "execution_count": 28,
     "metadata": {},
     "output_type": "execute_result"
    }
   ],
   "source": [
    "x[0]"
   ]
  },
  {
   "cell_type": "code",
   "execution_count": 29,
   "id": "fbcdb510-124a-4621-83c9-7d8b8cbff932",
   "metadata": {},
   "outputs": [
    {
     "data": {
      "text/plain": [
       "[7, 8, 9]"
      ]
     },
     "execution_count": 29,
     "metadata": {},
     "output_type": "execute_result"
    }
   ],
   "source": [
    "x[-1]"
   ]
  },
  {
   "cell_type": "code",
   "execution_count": 32,
   "id": "4cced46a-9221-4435-b48f-dbf906e345c9",
   "metadata": {},
   "outputs": [
    {
     "data": {
      "text/plain": [
       "2"
      ]
     },
     "execution_count": 32,
     "metadata": {},
     "output_type": "execute_result"
    }
   ],
   "source": [
    "# mostrar el segundo elemento de la primer lista\n",
    "x[0][1]"
   ]
  },
  {
   "cell_type": "code",
   "execution_count": 33,
   "id": "6b2f0290-834d-45a7-b00e-ec2363e64983",
   "metadata": {},
   "outputs": [
    {
     "data": {
      "text/plain": [
       "5"
      ]
     },
     "execution_count": 33,
     "metadata": {},
     "output_type": "execute_result"
    }
   ],
   "source": [
    "x[1][1]"
   ]
  },
  {
   "cell_type": "code",
   "execution_count": 34,
   "id": "2b2742ec-704e-4d86-b353-8b0bca8a76c9",
   "metadata": {},
   "outputs": [
    {
     "data": {
      "text/plain": [
       "9"
      ]
     },
     "execution_count": 34,
     "metadata": {},
     "output_type": "execute_result"
    }
   ],
   "source": [
    "x[2][2]"
   ]
  },
  {
   "cell_type": "code",
   "execution_count": 35,
   "id": "e60b83b9-2dc4-4fb7-8c9b-3f9d5ac6c566",
   "metadata": {},
   "outputs": [
    {
     "data": {
      "text/plain": [
       "9"
      ]
     },
     "execution_count": 35,
     "metadata": {},
     "output_type": "execute_result"
    }
   ],
   "source": [
    "x[-1][-1]"
   ]
  },
  {
   "cell_type": "code",
   "execution_count": null,
   "id": "ed386f46-2f87-4479-a009-d1888ec0fb0f",
   "metadata": {},
   "outputs": [],
   "source": []
  }
 ],
 "metadata": {
  "kernelspec": {
   "display_name": "Python 3 (ipykernel)",
   "language": "python",
   "name": "python3"
  },
  "language_info": {
   "codemirror_mode": {
    "name": "ipython",
    "version": 3
   },
   "file_extension": ".py",
   "mimetype": "text/x-python",
   "name": "python",
   "nbconvert_exporter": "python",
   "pygments_lexer": "ipython3",
   "version": "3.10.12"
  }
 },
 "nbformat": 4,
 "nbformat_minor": 5
}
