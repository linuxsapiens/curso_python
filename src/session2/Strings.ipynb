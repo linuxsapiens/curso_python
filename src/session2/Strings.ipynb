{
 "cells": [
  {
   "cell_type": "code",
   "execution_count": 1,
   "id": "2594ed07-e928-4d1b-9bf8-27341d21feb4",
   "metadata": {},
   "outputs": [
    {
     "data": {
      "text/plain": [
       "'Hola mundo'"
      ]
     },
     "execution_count": 1,
     "metadata": {},
     "output_type": "execute_result"
    }
   ],
   "source": [
    "# Cadenas de caractéres\n",
    "# Entre comillas simples o dobles\n",
    "'Hola mundo'"
   ]
  },
  {
   "cell_type": "code",
   "execution_count": 2,
   "id": "ea909207-c967-4bea-9a50-61b7309a6779",
   "metadata": {},
   "outputs": [
    {
     "data": {
      "text/plain": [
       "'Hola mundo loco'"
      ]
     },
     "execution_count": 2,
     "metadata": {},
     "output_type": "execute_result"
    }
   ],
   "source": [
    "\"Hola mundo loco\""
   ]
  },
  {
   "cell_type": "code",
   "execution_count": 3,
   "id": "e85a02d9-8b77-4ef4-9219-7a1c55824d2e",
   "metadata": {},
   "outputs": [
    {
     "data": {
      "text/plain": [
       "'Esta cadena inclue unas \"\"'"
      ]
     },
     "execution_count": 3,
     "metadata": {},
     "output_type": "execute_result"
    }
   ],
   "source": [
    "# Se usan los dos tipos para que sea posible incluir comillas dentro de la cadena\n",
    "'Esta cadena inclue unas \"\"'"
   ]
  },
  {
   "cell_type": "code",
   "execution_count": 5,
   "id": "b3227b21-8ba8-4059-a17e-372b52508f69",
   "metadata": {},
   "outputs": [
    {
     "data": {
      "text/plain": [
       "\"Esta 'palabra se encuentra escrita entre comillas simples\""
      ]
     },
     "execution_count": 5,
     "metadata": {},
     "output_type": "execute_result"
    }
   ],
   "source": [
    "\"Esta 'palabra' se encuentra escrita entre comillas simples\""
   ]
  },
  {
   "cell_type": "code",
   "execution_count": 6,
   "id": "ca3ab42b-1243-4a83-be23-98fc2b2850cd",
   "metadata": {},
   "outputs": [
    {
     "data": {
      "text/plain": [
       "'Esta \"palabra\" está entre comillas dobles'"
      ]
     },
     "execution_count": 6,
     "metadata": {},
     "output_type": "execute_result"
    }
   ],
   "source": [
    "\"Esta \\\"palabra\\\" está entre comillas dobles\""
   ]
  },
  {
   "cell_type": "code",
   "execution_count": 7,
   "id": "12373c43-9b58-4b91-9fb8-e05e39892111",
   "metadata": {},
   "outputs": [
    {
     "data": {
      "text/plain": [
       "\"Esta 'palabra' está entre comillas simples\""
      ]
     },
     "execution_count": 7,
     "metadata": {},
     "output_type": "execute_result"
    }
   ],
   "source": [
    "'Esta \\'palabra\\' está entre comillas simples'"
   ]
  },
  {
   "cell_type": "code",
   "execution_count": 8,
   "id": "6c74d78e-c0d9-49ba-b75b-cbbf98f604e4",
   "metadata": {},
   "outputs": [
    {
     "data": {
      "text/plain": [
       "'otra mas'"
      ]
     },
     "execution_count": 8,
     "metadata": {},
     "output_type": "execute_result"
    }
   ],
   "source": [
    "# No es la forma correcta como se muestran los datos\n",
    "\"Una cadeja\"\n",
    "'otra cadena'\n",
    "'otra mas'"
   ]
  },
  {
   "cell_type": "code",
   "execution_count": 9,
   "id": "24bf439f-54b4-44f7-9433-dabf59c5f1b6",
   "metadata": {},
   "outputs": [
    {
     "name": "stdout",
     "output_type": "stream",
     "text": [
      "Una cadena\n",
      "Otra cadena\n",
      "Una mas\n"
     ]
    }
   ],
   "source": [
    "print(\"Una cadena\")\n",
    "print(\"Otra cadena\")\n",
    "print(\"Una mas\")"
   ]
  },
  {
   "cell_type": "code",
   "execution_count": 10,
   "id": "9a4ad8d4-a8da-4c81-a103-7e44dfd62b5d",
   "metadata": {},
   "outputs": [
    {
     "name": "stdout",
     "output_type": "stream",
     "text": [
      "Cadena con \tun tabulador\n"
     ]
    }
   ],
   "source": [
    "# Permite imprimir caracteres especiales como tabuladores, saltos de linea, etc. \n",
    "print(\"Cadena con \\tun tabulador\")"
   ]
  },
  {
   "cell_type": "code",
   "execution_count": 12,
   "id": "980dafd4-d739-4960-9246-662da3fc4a10",
   "metadata": {},
   "outputs": [
    {
     "name": "stdout",
     "output_type": "stream",
     "text": [
      "Cadena con \n",
      "salto de linea\n"
     ]
    }
   ],
   "source": [
    "print(\"Cadena con \\nsalto de linea\")"
   ]
  },
  {
   "cell_type": "code",
   "execution_count": 13,
   "id": "d4114a3c-3235-4bb3-ab00-b9a09184b4d4",
   "metadata": {},
   "outputs": [
    {
     "name": "stdout",
     "output_type": "stream",
     "text": [
      "C:\\Users\\Gera\n"
     ]
    }
   ],
   "source": [
    "print(\"C:\\\\Users\\\\Gera\")"
   ]
  },
  {
   "cell_type": "code",
   "execution_count": 15,
   "id": "384d788c-1a87-400b-820b-09684dab0198",
   "metadata": {},
   "outputs": [
    {
     "name": "stdout",
     "output_type": "stream",
     "text": [
      "C:\\Users\\Gera\n"
     ]
    }
   ],
   "source": [
    "# Cadena raw sin interpretar caracteres especiales\n",
    "print(r\"C:\\Users\\Gera\")"
   ]
  },
  {
   "cell_type": "code",
   "execution_count": 17,
   "id": "252aa343-0d0c-43cf-a8f6-faeda3a5e692",
   "metadata": {},
   "outputs": [
    {
     "name": "stdout",
     "output_type": "stream",
     "text": [
      "\n",
      "Una linea\n",
      "Una mas \n",
      "otra \n",
      "con un \ttabulador\n",
      "\n"
     ]
    }
   ],
   "source": [
    "print(\"\"\"\n",
    "Una linea\n",
    "Una mas \n",
    "otra \n",
    "con un \\ttabulador\n",
    "\"\"\")"
   ]
  },
  {
   "cell_type": "code",
   "execution_count": 18,
   "id": "94f8e774-e97a-48ce-ac81-3646a9176c37",
   "metadata": {},
   "outputs": [
    {
     "data": {
      "text/plain": [
       "'Esto es un string \\ncon dos lineas'"
      ]
     },
     "execution_count": 18,
     "metadata": {},
     "output_type": "execute_result"
    }
   ],
   "source": [
    "c = \"Esto es un string \\ncon dos lineas\"\n",
    "c"
   ]
  },
  {
   "cell_type": "code",
   "execution_count": 19,
   "id": "66695ca3-009a-4cf2-970c-1893cb07e34b",
   "metadata": {},
   "outputs": [
    {
     "name": "stdout",
     "output_type": "stream",
     "text": [
      "Esto es un string \n",
      "con dos lineas\n"
     ]
    }
   ],
   "source": [
    "print(c)"
   ]
  },
  {
   "cell_type": "code",
   "execution_count": 20,
   "id": "f2ce2828-31f8-42ea-80bc-17f0cc10d945",
   "metadata": {},
   "outputs": [
    {
     "data": {
      "text/plain": [
       "'Esto es un string \\ncon dos lineasEsto es un string \\ncon dos lineas'"
      ]
     },
     "execution_count": 20,
     "metadata": {},
     "output_type": "execute_result"
    }
   ],
   "source": [
    "# Operaciones con strings\n",
    "# concatenacion\n",
    "c + c"
   ]
  },
  {
   "cell_type": "code",
   "execution_count": 21,
   "id": "52b0c1b0-c7d5-41f1-88e3-0c4cd37b018b",
   "metadata": {},
   "outputs": [
    {
     "name": "stdout",
     "output_type": "stream",
     "text": [
      "Esto es un string \n",
      "con dos lineasEsto es un string \n",
      "con dos lineas\n"
     ]
    }
   ],
   "source": [
    "print( c + c )"
   ]
  },
  {
   "cell_type": "code",
   "execution_count": 22,
   "id": "4810b9db-a9e6-4a34-a761-70c3b5980534",
   "metadata": {},
   "outputs": [
    {
     "name": "stdout",
     "output_type": "stream",
     "text": [
      "Una cadenacompuesta de 2 cadenas\n"
     ]
    }
   ],
   "source": [
    "s = \"Una cadena\" \"compuesta de 2 cadenas\"\n",
    "print(s)"
   ]
  },
  {
   "cell_type": "code",
   "execution_count": 31,
   "id": "f8202271-46a2-4259-9895-b2863cee839d",
   "metadata": {},
   "outputs": [],
   "source": [
    "c1 = \"Una cadena, \"\n",
    "c2 = \"Otra cadena\""
   ]
  },
  {
   "cell_type": "code",
   "execution_count": 32,
   "id": "149c7e68-e2d4-474f-b712-e2fc26bbb82a",
   "metadata": {},
   "outputs": [
    {
     "ename": "SyntaxError",
     "evalue": "invalid syntax. Perhaps you forgot a comma? (4273303934.py, line 1)",
     "output_type": "error",
     "traceback": [
      "\u001b[0;36m  Cell \u001b[0;32mIn[32], line 1\u001b[0;36m\u001b[0m\n\u001b[0;31m    print( c1 c2 )\u001b[0m\n\u001b[0m           ^\u001b[0m\n\u001b[0;31mSyntaxError\u001b[0m\u001b[0;31m:\u001b[0m invalid syntax. Perhaps you forgot a comma?\n"
     ]
    }
   ],
   "source": [
    "print( c1 c2 )"
   ]
  },
  {
   "cell_type": "code",
   "execution_count": 33,
   "id": "b464cd00-4eb6-4d15-838d-5cc4d5725754",
   "metadata": {},
   "outputs": [
    {
     "name": "stdout",
     "output_type": "stream",
     "text": [
      "Una cadena, Otra cadena\n"
     ]
    }
   ],
   "source": [
    "print( c1 + c2 )"
   ]
  },
  {
   "cell_type": "code",
   "execution_count": 34,
   "id": "c1b15006-e768-466f-902b-80130b3a0ec2",
   "metadata": {},
   "outputs": [
    {
     "name": "stdout",
     "output_type": "stream",
     "text": [
      "          un sring despues de 10 espacios\n"
     ]
    }
   ],
   "source": [
    "diez_espacios = \" \" * 10\n",
    "print(diez_espacios + \"un sring despues de 10 espacios\")"
   ]
  },
  {
   "cell_type": "markdown",
   "id": "f40d802b-d313-490c-a593-861f7d459525",
   "metadata": {},
   "source": [
    "### Ir a ejercicio 2"
   ]
  },
  {
   "cell_type": "code",
   "execution_count": 35,
   "id": "0e951ac1-f035-4d32-bcbb-c57c8f39da66",
   "metadata": {},
   "outputs": [],
   "source": [
    "# Es posible acceder a cada uno de los caracteres\n",
    "palabra = \"Python\""
   ]
  },
  {
   "cell_type": "code",
   "execution_count": 36,
   "id": "eb9cbb85-1322-468a-ad91-72e327594a40",
   "metadata": {},
   "outputs": [
    {
     "data": {
      "text/plain": [
       "'P'"
      ]
     },
     "execution_count": 36,
     "metadata": {},
     "output_type": "execute_result"
    }
   ],
   "source": [
    "palabra[0] # caracter en la posicion 0, en python el primer elemento es cero"
   ]
  },
  {
   "cell_type": "code",
   "execution_count": 37,
   "id": "9870d214-d9c7-4abf-9644-031574fc15c1",
   "metadata": {},
   "outputs": [
    {
     "data": {
      "text/plain": [
       "'h'"
      ]
     },
     "execution_count": 37,
     "metadata": {},
     "output_type": "execute_result"
    }
   ],
   "source": [
    "palabra[3]"
   ]
  },
  {
   "cell_type": "code",
   "execution_count": 38,
   "id": "19424123-96bf-4f6f-af24-648b2621c89f",
   "metadata": {},
   "outputs": [
    {
     "data": {
      "text/plain": [
       "'n'"
      ]
     },
     "execution_count": 38,
     "metadata": {},
     "output_type": "execute_result"
    }
   ],
   "source": [
    "# El incide negativo se cuenta desde el final de la cadena\n",
    "palabra[-1]"
   ]
  },
  {
   "cell_type": "code",
   "execution_count": 39,
   "id": "edf592fb-9969-4f74-8178-1f290aa84f13",
   "metadata": {},
   "outputs": [
    {
     "data": {
      "text/plain": [
       "'o'"
      ]
     },
     "execution_count": 39,
     "metadata": {},
     "output_type": "execute_result"
    }
   ],
   "source": [
    "palabra[-2]"
   ]
  },
  {
   "cell_type": "code",
   "execution_count": 40,
   "id": "d083a298-2f22-4cf2-96d8-8606fe2091b4",
   "metadata": {},
   "outputs": [
    {
     "data": {
      "text/plain": [
       "'P'"
      ]
     },
     "execution_count": 40,
     "metadata": {},
     "output_type": "execute_result"
    }
   ],
   "source": [
    "palabra[-6]"
   ]
  },
  {
   "cell_type": "code",
   "execution_count": 43,
   "id": "c47f7908-e965-4622-bfa8-6ee5b9c98015",
   "metadata": {},
   "outputs": [
    {
     "data": {
      "text/plain": [
       "'Py'"
      ]
     },
     "execution_count": 43,
     "metadata": {},
     "output_type": "execute_result"
    }
   ],
   "source": [
    "# slice, el ultimo se excluye\n",
    "palabra[0:2]"
   ]
  },
  {
   "cell_type": "code",
   "execution_count": 44,
   "id": "bb207e7f-9edc-4ce7-9765-f89177ca57aa",
   "metadata": {},
   "outputs": [
    {
     "data": {
      "text/plain": [
       "'tho'"
      ]
     },
     "execution_count": 44,
     "metadata": {},
     "output_type": "execute_result"
    }
   ],
   "source": [
    "palabra[2:-1]"
   ]
  },
  {
   "cell_type": "code",
   "execution_count": 45,
   "id": "f3b2d2cc-e2ce-4518-994b-c2c1ab79bd68",
   "metadata": {},
   "outputs": [
    {
     "data": {
      "text/plain": [
       "'thon'"
      ]
     },
     "execution_count": 45,
     "metadata": {},
     "output_type": "execute_result"
    }
   ],
   "source": [
    "palabra[2:]"
   ]
  },
  {
   "cell_type": "code",
   "execution_count": 46,
   "id": "ef3cef28-ec43-48a2-a398-5296644490c8",
   "metadata": {},
   "outputs": [
    {
     "data": {
      "text/plain": [
       "'Python'"
      ]
     },
     "execution_count": 46,
     "metadata": {},
     "output_type": "execute_result"
    }
   ],
   "source": [
    "palabra[:]"
   ]
  },
  {
   "cell_type": "code",
   "execution_count": 47,
   "id": "621f0cfb-24f4-46dd-ad4c-b4cee64f8687",
   "metadata": {},
   "outputs": [
    {
     "ename": "IndexError",
     "evalue": "string index out of range",
     "output_type": "error",
     "traceback": [
      "\u001b[0;31m---------------------------------------------------------------------------\u001b[0m",
      "\u001b[0;31mIndexError\u001b[0m                                Traceback (most recent call last)",
      "Cell \u001b[0;32mIn[47], line 1\u001b[0m\n\u001b[0;32m----> 1\u001b[0m \u001b[43mpalabra\u001b[49m\u001b[43m[\u001b[49m\u001b[38;5;241;43m99\u001b[39;49m\u001b[43m]\u001b[49m\n",
      "\u001b[0;31mIndexError\u001b[0m: string index out of range"
     ]
    }
   ],
   "source": [
    "palabra[99]"
   ]
  },
  {
   "cell_type": "code",
   "execution_count": 48,
   "id": "67245a97-3ac1-49c8-a12f-2299113193e3",
   "metadata": {},
   "outputs": [
    {
     "data": {
      "text/plain": [
       "'Python'"
      ]
     },
     "execution_count": 48,
     "metadata": {},
     "output_type": "execute_result"
    }
   ],
   "source": [
    "palabra[:99]"
   ]
  },
  {
   "cell_type": "code",
   "execution_count": 49,
   "id": "42758279-da50-4184-9bd9-f466c51dcdb5",
   "metadata": {},
   "outputs": [
    {
     "data": {
      "text/plain": [
       "''"
      ]
     },
     "execution_count": 49,
     "metadata": {},
     "output_type": "execute_result"
    }
   ],
   "source": [
    "palabra[99:]\n",
    "# no hay nungun caracter en la posicion inicial"
   ]
  },
  {
   "cell_type": "code",
   "execution_count": 50,
   "id": "d9860bda-8aa2-49ae-9be7-3a739b2951d8",
   "metadata": {},
   "outputs": [
    {
     "ename": "TypeError",
     "evalue": "'str' object does not support item assignment",
     "output_type": "error",
     "traceback": [
      "\u001b[0;31m---------------------------------------------------------------------------\u001b[0m",
      "\u001b[0;31mTypeError\u001b[0m                                 Traceback (most recent call last)",
      "Cell \u001b[0;32mIn[50], line 2\u001b[0m\n\u001b[1;32m      1\u001b[0m \u001b[38;5;66;03m# Los strings son inmutables\u001b[39;00m\n\u001b[0;32m----> 2\u001b[0m \u001b[43mpalabra\u001b[49m\u001b[43m[\u001b[49m\u001b[38;5;241;43m0\u001b[39;49m\u001b[43m]\u001b[49m \u001b[38;5;241m=\u001b[39m \u001b[38;5;124m\"\u001b[39m\u001b[38;5;124mT\u001b[39m\u001b[38;5;124m\"\u001b[39m\n",
      "\u001b[0;31mTypeError\u001b[0m: 'str' object does not support item assignment"
     ]
    }
   ],
   "source": [
    "# Los strings son inmutables\n",
    "palabra[0] = \"T\""
   ]
  },
  {
   "cell_type": "code",
   "execution_count": 51,
   "id": "21a138f7-bbfc-40ee-9aa6-8af3a4edfa3e",
   "metadata": {},
   "outputs": [],
   "source": [
    "palabra = \"T\" + palabra[1:]"
   ]
  },
  {
   "cell_type": "code",
   "execution_count": 52,
   "id": "3adaf97f-e2d3-44a3-ab02-5d948ae9d169",
   "metadata": {},
   "outputs": [
    {
     "data": {
      "text/plain": [
       "'Tython'"
      ]
     },
     "execution_count": 52,
     "metadata": {},
     "output_type": "execute_result"
    }
   ],
   "source": [
    "palabra"
   ]
  },
  {
   "cell_type": "code",
   "execution_count": 53,
   "id": "fbb2d6f5-9342-4cfb-8f30-fd4ba5355e22",
   "metadata": {},
   "outputs": [
    {
     "data": {
      "text/plain": [
       "6"
      ]
     },
     "execution_count": 53,
     "metadata": {},
     "output_type": "execute_result"
    }
   ],
   "source": [
    "# len ( length ) es una funcion que devuelve el tama~no de una cadena\n",
    "len(palabra)"
   ]
  },
  {
   "cell_type": "code",
   "execution_count": null,
   "id": "799911b0-d5fc-4bf8-a541-7155ec4aa50a",
   "metadata": {},
   "outputs": [],
   "source": []
  }
 ],
 "metadata": {
  "kernelspec": {
   "display_name": "Python 3 (ipykernel)",
   "language": "python",
   "name": "python3"
  },
  "language_info": {
   "codemirror_mode": {
    "name": "ipython",
    "version": 3
   },
   "file_extension": ".py",
   "mimetype": "text/x-python",
   "name": "python",
   "nbconvert_exporter": "python",
   "pygments_lexer": "ipython3",
   "version": "3.10.12"
  }
 },
 "nbformat": 4,
 "nbformat_minor": 5
}
