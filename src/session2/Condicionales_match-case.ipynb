{
 "cells": [
  {
   "cell_type": "code",
   "execution_count": null,
   "id": "9ac3e9bc-c2bd-4b17-87c7-53cfaf5cade6",
   "metadata": {},
   "outputs": [],
   "source": [
    "# Descripción de uso de la sentencia de control \"match-case\":\n",
    "# La sentencia \"match\" en Python 3.10+ se utiliza para el control de flujo basado en patrones.\n",
    "# Es similar a un switch-case en otros lenguajes, pero más potente y flexible.\n",
    "# Sintaxis básica:\n",
    "#   match variable_a_comparar:\n",
    "#       case patrón1:\n",
    "#           # Código si coincide con patrón1\n",
    "#       case patrón2:\n",
    "#           # Código si coincide con patrón2\n",
    "#       case _:\n",
    "#           # Código por defecto si no coincide con ningún patrón anterior"
   ]
  },
  {
   "cell_type": "code",
   "execution_count": 5,
   "id": "80f52323-8031-4ac1-b36e-fcca77259af4",
   "metadata": {},
   "outputs": [
    {
     "name": "stdout",
     "output_type": "stream",
     "text": [
      "Es uno\n",
      "Es otro número\n"
     ]
    }
   ],
   "source": [
    "# Ejemplo 1: match-case simple con valores literales\n",
    "def describir_tipo(valor):\n",
    "    match valor:\n",
    "        case 0:\n",
    "            print(\"Es cero\")\n",
    "        case 1:\n",
    "            print(\"Es uno\")\n",
    "        case 2:\n",
    "            print(\"Es dos\")\n",
    "        case _:\n",
    "            print(\"Es otro número\")\n",
    "\n",
    "# Ejemplo de uso:\n",
    "describir_tipo(1)  # Imprime: Es uno\n",
    "describir_tipo(5)  # Imprime: Es otro número"
   ]
  },
  {
   "cell_type": "code",
   "execution_count": null,
   "id": "588e348d-0016-49ea-9e56-6e592fb291cd",
   "metadata": {},
   "outputs": [],
   "source": [
    "# Ejemplo 2: match-case con tipos de datos\n",
    "def describir_dato(dato):\n",
    "    match dato:\n",
    "        case int():\n",
    "            print(\"Es un entero\")\n",
    "        case str():\n",
    "            print(\"Es una cadena\")\n",
    "        case list():\n",
    "            print(\"Es una lista\")\n",
    "        case _:\n",
    "            print(\"Es otro tipo de dato\")\n",
    "\n",
    "# Ejemplo de uso:\n",
    "describir_dato(42)          # Imprime: Es un entero\n",
    "describir_dato(\"Hola\")      # Imprime: Es una cadena\n",
    "describir_dato([1, 2, 3])   # Imprime: Es una lista"
   ]
  },
  {
   "cell_type": "code",
   "execution_count": null,
   "id": "acb1c780-93b5-4de3-986e-46dad72c8806",
   "metadata": {},
   "outputs": [],
   "source": [
    "# Ejemplo 3: match-case con patrones estructurales\n",
    "def analizar_punto(punto):\n",
    "    match punto:\n",
    "        case (0, 0):\n",
    "            print(\"Origen\")\n",
    "        case (0, y):\n",
    "            print(f\"Eje Y en {y}\")\n",
    "        case (x, 0):\n",
    "            print(f\"Eje X en {x}\")\n",
    "        case (x, y):\n",
    "            print(f\"Punto en ({x}, {y})\")\n",
    "        case _:\n",
    "            print(\"No es un punto válido\")\n",
    "\n",
    "# Ejemplo de uso:\n",
    "analizar_punto((0, 0))   # Imprime: Origen\n",
    "analizar_punto((0, 5))   # Imprime: Eje Y en 5\n",
    "analizar_punto((3, 4))   # Imprime: Punto en (3, 4)"
   ]
  },
  {
   "cell_type": "code",
   "execution_count": null,
   "id": "d8cc09ef-0638-40fc-9a66-32eb5277c248",
   "metadata": {},
   "outputs": [],
   "source": [
    "# Ejemplo 4: match-case con guardas\n",
    "def clasificar_edad(edad):\n",
    "    match edad:\n",
    "        case n if n < 0:\n",
    "            print(\"Edad inválida\")\n",
    "        case n if n < 18:\n",
    "            print(\"Menor de edad\")\n",
    "        case n if n < 65:\n",
    "            print(\"Adulto\")\n",
    "        case _:\n",
    "            print(\"Adulto mayor\")\n",
    "\n",
    "# Ejemplo de uso:\n",
    "clasificar_edad(15)  # Imprime: Menor de edad\n",
    "clasificar_edad(30)  # Imprime: Adulto\n",
    "clasificar_edad(70)  # Imprime: Adulto mayor"
   ]
  },
  {
   "cell_type": "code",
   "execution_count": 4,
   "id": "1e5644dd-c696-4e42-b08f-99b76ee82b35",
   "metadata": {},
   "outputs": [
    {
     "name": "stdout",
     "output_type": "stream",
     "text": [
      "Buen día\n"
     ]
    }
   ],
   "source": [
    "# Ejemplo 5: match-case con cadenas\n",
    "dato = \"mañana\"\n",
    "match dato:\n",
    "    case \"mañana\":\n",
    "        print(\"Buen día\")\n",
    "    case \"tarde\":\n",
    "        print(\"Buenas tardes\")\n",
    "    case \"noche\":\n",
    "        print(\"Buenas noches\")\n",
    "    case _:\n",
    "        print(0)\n"
   ]
  },
  {
   "cell_type": "code",
   "execution_count": null,
   "id": "30719a7d-65a9-4ba0-889b-574f5b776f45",
   "metadata": {},
   "outputs": [],
   "source": []
  }
 ],
 "metadata": {
  "kernelspec": {
   "display_name": "Python 3 (ipykernel)",
   "language": "python",
   "name": "python3"
  },
  "language_info": {
   "codemirror_mode": {
    "name": "ipython",
    "version": 3
   },
   "file_extension": ".py",
   "mimetype": "text/x-python",
   "name": "python",
   "nbconvert_exporter": "python",
   "pygments_lexer": "ipython3",
   "version": "3.10.12"
  }
 },
 "nbformat": 4,
 "nbformat_minor": 5
}
