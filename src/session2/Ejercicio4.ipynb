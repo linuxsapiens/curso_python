{
 "cells": [
  {
   "cell_type": "markdown",
   "id": "88e93c84-8969-41ac-9093-99f6ca696f5f",
   "metadata": {},
   "source": [
    "## Listas\n",
    "Dadas dos listas lista1 y lista2 debes realizar diferentes tareas por el orden indicado:\n",
    "\n",
    "Añade a la lista1 el número 1234 y luego el texto Hola.\n",
    "\n",
    "Añade a la lista2 el texto Adiós y luego el número 1234.\n",
    "\n",
    "Genera una lista3 con todos los elementos de la lista1 excepto el último.\n",
    "\n",
    "Genera una lista4 con todos los elementos de la lista2 excepto el primero y el último.\n",
    "\n",
    "Genera una lista5 con los elementos de la lista4 más la lista3.\n",
    "\n",
    "Los nombres de las variables deben ser los que se especifican o el ejercicio no validará."
   ]
  },
  {
   "cell_type": "code",
   "execution_count": 1,
   "id": "fda6abb0-e18a-4a51-972f-1edc614956e9",
   "metadata": {},
   "outputs": [
    {
     "name": "stdout",
     "output_type": "stream",
     "text": [
      "[1, 12, 123, 1234, 'Hola']\n",
      "['Bye', 'Ciao', 'Agur', 'Adieu', 'Adios', 1234]\n",
      "[1, 12, 123, 1234]\n",
      "['Ciao', 'Agur', 'Adieu', 'Adios']\n",
      "['Ciao', 'Agur', 'Adieu', 'Adios', 1, 12, 123, 1234]\n"
     ]
    }
   ],
   "source": [
    "# no modifiques el nombre de ninguna variable, puedes crear nuevas\n",
    "lista1 = [1, 12, 123]\n",
    "lista2 = [\"Bye\", \"Ciao\", \"Agur\", \"Adieu\"]\n",
    "\n",
    "# completa el ejercicio\n",
    "lista1.append(1234)\n",
    "lista1.append(\"Hola\")\n",
    "lista2.append(\"Adios\")\n",
    "lista2.append(1234)\n",
    "lista3 = lista1[:-1]\n",
    "lista4 = lista2[1:-1]\n",
    "lista5 = lista4 + lista3\n",
    "print(lista1)\n",
    "print(lista2)\n",
    "print(lista3)\n",
    "print(lista4)\n",
    "print(lista5)"
   ]
  }
 ],
 "metadata": {
  "kernelspec": {
   "display_name": "Python 3 (ipykernel)",
   "language": "python",
   "name": "python3"
  },
  "language_info": {
   "codemirror_mode": {
    "name": "ipython",
    "version": 3
   },
   "file_extension": ".py",
   "mimetype": "text/x-python",
   "name": "python",
   "nbconvert_exporter": "python",
   "pygments_lexer": "ipython3",
   "version": "3.10.12"
  }
 },
 "nbformat": 4,
 "nbformat_minor": 5
}
