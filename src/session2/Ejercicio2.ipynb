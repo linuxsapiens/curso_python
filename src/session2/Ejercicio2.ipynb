{
 "cells": [
  {
   "cell_type": "markdown",
   "id": "3e301667-3f37-43cb-9723-738551f72505",
   "metadata": {},
   "source": [
    "## Textos\n",
    "Dadas cuatro variables con diferentes textos (cadena1, cadena2, cadena3 y cadena4) utiliza lo que has aprendido para generar una cadena5 con el siguiente contenido:\n",
    "\n",
    "Python es un lenguaje de programación moderno\n",
    "Debes generar el contenido de cadena5 utilizando como origen el texto de las 4 primeras y el único carácter literal que puedes escribir son espacios \" \""
   ]
  },
  {
   "cell_type": "code",
   "execution_count": null,
   "id": "d02aa135-b650-43b1-9f55-d0718739c97b",
   "metadata": {},
   "outputs": [],
   "source": [
    "# \n",
    "cadena1 = \"moderno\"\n",
    "cadena2 = \"Python\"\n",
    "cadena4 = \"de programación\"\n",
    "cadena3 = \"es un lenguaje\"\n",
    "\n",
    "# completa el ejercicio\n",
    "cadena5 ="
   ]
  }
 ],
 "metadata": {
  "kernelspec": {
   "display_name": "Python 3 (ipykernel)",
   "language": "python",
   "name": "python3"
  },
  "language_info": {
   "codemirror_mode": {
    "name": "ipython",
    "version": 3
   },
   "file_extension": ".py",
   "mimetype": "text/x-python",
   "name": "python",
   "nbconvert_exporter": "python",
   "pygments_lexer": "ipython3",
   "version": "3.10.12"
  }
 },
 "nbformat": 4,
 "nbformat_minor": 5
}
