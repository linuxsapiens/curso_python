{
 "cells": [
  {
   "cell_type": "markdown",
   "id": "c257d0e4-5f96-4a37-82d4-39e83b97867a",
   "metadata": {},
   "source": [
    "## Operadores relacionales\n",
    "En una lista llamada expresiones encontramos diferentes operaciones relacionales, ¿podrías determinar mentalmente el resultado de cada expresión y almacenarlo en una nueva lista llamada resultados? Esta lista debe contener únicamente valores lógicos True y False. Por ejemplo, supongamos esta lista:\n",
    "\n",
    "expresiones = [1 == 1, 1 < 0]\n",
    "La respuesta que se espera que escribas es:\n",
    "\n",
    "resultados = [True, False]\n",
    "Correspondiendo True al resultado de 1==1 y False al de 1<0,  es decir, los resultados deben concordar con la posición de las expresiones, siendo resultados[0] la respuesta a la expresión expresiones[0].\n",
    "\n",
    "La lista de expresiones que debes calcular mentalment es la siguiente (se importará automáticamente durante la comprobación de la solución):\n",
    "\n",
    "expresiones = [False == True, 10 >= 2*4, 33/3 == 11, True > False, True*5 == 2.5*2]\n",
    "Sugerencia: ¿Eres muy perezos@ como para pensar? ¡Deja que Python calcule las expresiones por ti!"
   ]
  },
  {
   "cell_type": "code",
   "execution_count": 1,
   "id": "1aa8d188-7b41-4371-bd99-229df1e1d02f",
   "metadata": {},
   "outputs": [
    {
     "ename": "ModuleNotFoundError",
     "evalue": "No module named 'evaluate'",
     "output_type": "error",
     "traceback": [
      "\u001b[0;31m---------------------------------------------------------------------------\u001b[0m",
      "\u001b[0;31mModuleNotFoundError\u001b[0m                       Traceback (most recent call last)",
      "Cell \u001b[0;32mIn[1], line 1\u001b[0m\n\u001b[0;32m----> 1\u001b[0m \u001b[38;5;28;01mfrom\u001b[39;00m \u001b[38;5;21;01mevaluate\u001b[39;00m \u001b[38;5;28;01mimport\u001b[39;00m expresiones\n\u001b[1;32m      3\u001b[0m \u001b[38;5;66;03m# completa el ejercicio\u001b[39;00m\n\u001b[1;32m      4\u001b[0m resultados \u001b[38;5;241m=\u001b[39m [\u001b[38;5;28;01mFalse\u001b[39;00m \u001b[38;5;241m==\u001b[39m \u001b[38;5;28;01mTrue\u001b[39;00m, \u001b[38;5;241m10\u001b[39m \u001b[38;5;241m>\u001b[39m\u001b[38;5;241m=\u001b[39m \u001b[38;5;241m24\u001b[39m, \u001b[38;5;241m33\u001b[39m\u001b[38;5;241m/\u001b[39m\u001b[38;5;241m3\u001b[39m \u001b[38;5;241m==\u001b[39m \u001b[38;5;241m11\u001b[39m, \u001b[38;5;28;01mTrue\u001b[39;00m \u001b[38;5;241m>\u001b[39m \u001b[38;5;28;01mFalse\u001b[39;00m, True5 \u001b[38;5;241m==\u001b[39m \u001b[38;5;241m2.5\u001b[39m\u001b[38;5;241m*\u001b[39m\u001b[38;5;241m2\u001b[39m]\n",
      "\u001b[0;31mModuleNotFoundError\u001b[0m: No module named 'evaluate'"
     ]
    }
   ],
   "source": [
    "from evaluate import expresiones\n",
    "\n",
    "# completa el ejercicio\n",
    "resultados = [False == True, 10 >= 24, 33/3 == 11, True > False, True5 == 2.5*2]"
   ]
  }
 ],
 "metadata": {
  "kernelspec": {
   "display_name": "Python 3 (ipykernel)",
   "language": "python",
   "name": "python3"
  },
  "language_info": {
   "codemirror_mode": {
    "name": "ipython",
    "version": 3
   },
   "file_extension": ".py",
   "mimetype": "text/x-python",
   "name": "python",
   "nbconvert_exporter": "python",
   "pygments_lexer": "ipython3",
   "version": "3.10.12"
  }
 },
 "nbformat": 4,
 "nbformat_minor": 5
}
