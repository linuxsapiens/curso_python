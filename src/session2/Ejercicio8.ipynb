{
 "cells": [
  {
   "cell_type": "markdown",
   "id": "6ca127b2-6f43-4d3a-ab3b-9923364db44d",
   "metadata": {},
   "source": [
    "## Expresiones anidadas\n",
    "A partir de dos variables nombre  y edad crea una variable expresion que almacene si se cumplen TODAS las siguientes condiciones encadenando operadores lógicos en una sola línea:\n",
    "\n",
    "Que nombre sea diferente de cuatro asteriscos.\n",
    "\n",
    "Que edad sea mayor que 10 y a su vez menor que 18.\n",
    "\n",
    "Que la longitud del nombre sea mayor o igual que 3 pero a la vez menor que 10.\n",
    "\n",
    "Nota: Utiliza paréntesis para encadenar diferentes conjuntos de expresiones lógicas entre ellas.\n",
    "\n",
    "Por cierto, en este ejercicio edad y nombre se cargarán durante la solución así que no sabes qué contienen, no les des ningún valor manualmente o el test fallará."
   ]
  },
  {
   "cell_type": "code",
   "execution_count": 1,
   "id": "baa4815f-6866-4431-9123-e913e83274e0",
   "metadata": {},
   "outputs": [
    {
     "ename": "ModuleNotFoundError",
     "evalue": "No module named 'evaluate'",
     "output_type": "error",
     "traceback": [
      "\u001b[0;31m---------------------------------------------------------------------------\u001b[0m",
      "\u001b[0;31mModuleNotFoundError\u001b[0m                       Traceback (most recent call last)",
      "Cell \u001b[0;32mIn[1], line 2\u001b[0m\n\u001b[1;32m      1\u001b[0m \u001b[38;5;66;03m# no borres esta línea\u001b[39;00m\n\u001b[0;32m----> 2\u001b[0m \u001b[38;5;28;01mfrom\u001b[39;00m \u001b[38;5;21;01mevaluate\u001b[39;00m \u001b[38;5;28;01mimport\u001b[39;00m edad, nombre\n\u001b[1;32m      4\u001b[0m \u001b[38;5;66;03m# completa el ejercicio\u001b[39;00m\n\u001b[1;32m      5\u001b[0m expresion \u001b[38;5;241m=\u001b[39m (nombre \u001b[38;5;241m!=\u001b[39m \u001b[38;5;124m\"\u001b[39m\u001b[38;5;124m****\u001b[39m\u001b[38;5;124m\"\u001b[39m \u001b[38;5;129;01mand\u001b[39;00m \u001b[38;5;28mlen\u001b[39m(nombre) \u001b[38;5;241m>\u001b[39m\u001b[38;5;241m=\u001b[39m \u001b[38;5;241m3\u001b[39m \u001b[38;5;129;01mand\u001b[39;00m \u001b[38;5;28mlen\u001b[39m(nombre) \u001b[38;5;241m<\u001b[39m \u001b[38;5;241m10\u001b[39m) \u001b[38;5;129;01mand\u001b[39;00m (edad \u001b[38;5;241m>\u001b[39m \u001b[38;5;241m10\u001b[39m \u001b[38;5;129;01mand\u001b[39;00m edad \u001b[38;5;241m<\u001b[39m \u001b[38;5;241m18\u001b[39m)\n",
      "\u001b[0;31mModuleNotFoundError\u001b[0m: No module named 'evaluate'"
     ]
    }
   ],
   "source": [
    "# no borres esta línea\n",
    "from evaluate import edad, nombre\n",
    "\n",
    "# completa el ejercicio\n",
    "expresion = (nombre != \"****\" and len(nombre) >= 3 and len(nombre) < 10) and (edad > 10 and edad < 18)"
   ]
  },
  {
   "cell_type": "code",
   "execution_count": null,
   "id": "6b7166e7-ad73-4876-b541-1ffd2ca5ec8a",
   "metadata": {},
   "outputs": [],
   "source": []
  }
 ],
 "metadata": {
  "kernelspec": {
   "display_name": "Python 3 (ipykernel)",
   "language": "python",
   "name": "python3"
  },
  "language_info": {
   "codemirror_mode": {
    "name": "ipython",
    "version": 3
   },
   "file_extension": ".py",
   "mimetype": "text/x-python",
   "name": "python",
   "nbconvert_exporter": "python",
   "pygments_lexer": "ipython3",
   "version": "3.10.12"
  }
 },
 "nbformat": 4,
 "nbformat_minor": 5
}
