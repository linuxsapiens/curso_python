{
 "cells": [
  {
   "cell_type": "code",
   "execution_count": null,
   "id": "96d015f1-46e3-41a8-a7cf-fe7154fceef4",
   "metadata": {},
   "outputs": [],
   "source": [
    "# Descripción de uso de la sentencia de control \"if\":\n",
    "# La sentencia \"if\" se utiliza para ejecutar un bloque de código solo si se cumple una condición específica.\n",
    "# Sintaxis básica:\n",
    "#   if condición:\n",
    "#       # Código a ejecutar si la condición es verdadera\n",
    "# \n",
    "# Se puede extender con \"elif\" (else if) para múltiples condiciones y \"else\" para un caso por defecto.\n",
    "\n",
    "# Inicio\n",
    "if True:\n",
    "    print(\"Ejecutar el bloque código\")\n",
    "    print(\"Este también\")\n",
    "\n",
    "if False:\n",
    "    print(\"Ejecutar el bloque de código\")"
   ]
  },
  {
   "cell_type": "code",
   "execution_count": null,
   "id": "9c4d550a-739e-48e9-9210-442bb1428f00",
   "metadata": {},
   "outputs": [],
   "source": [
    "# Ejemplo 1: if-then simple\n",
    "edad = 18\n",
    "if edad >= 18:\n",
    "    print(\"Eres mayor de edad.\")\n",
    "\n",
    "# Ejemplo 2: if-then-else\n",
    "tiene_licencia = False\n",
    "if tiene_licencia:\n",
    "    print(\"Puedes conducir.\")\n",
    "else:\n",
    "    print(\"No puedes conducir.\")"
   ]
  },
  {
   "cell_type": "code",
   "execution_count": null,
   "id": "1d4cb9e8-fb34-451d-b138-78a9cd71aaf6",
   "metadata": {},
   "outputs": [],
   "source": [
    "# Ejemplo 3: if-then-elif-else (múltiples condiciones)\n",
    "nota = 85\n",
    "if nota >= 90:\n",
    "    print(\"Calificación: A\")\n",
    "elif nota >= 80:\n",
    "    print(\"Calificación: B\")\n",
    "elif nota >= 70:\n",
    "    print(\"Calificación: C\")\n",
    "elif nota >= 60:\n",
    "    print(\"Calificación: D\")\n",
    "else:\n",
    "    print(\"Calificación: F\")"
   ]
  },
  {
   "cell_type": "code",
   "execution_count": null,
   "id": "803e59df-36f9-41cc-a2e0-f1d0376e9465",
   "metadata": {},
   "outputs": [],
   "source": [
    "# Ejemplo 4: Condiciones anidadas\n",
    "es_fin_de_semana = True\n",
    "esta_lloviendo = False\n",
    "\n",
    "if es_fin_de_semana:\n",
    "    if esta_lloviendo:\n",
    "        print(\"Quédate en casa y ve una película.\")\n",
    "    else:\n",
    "        print(\"Ve al parque a disfrutar del día.\")\n",
    "else:\n",
    "    print(\"Es día laborable, a trabajar.\")"
   ]
  },
  {
   "cell_type": "code",
   "execution_count": null,
   "id": "e00b603e-f60e-4239-9f1b-0f1844e5939f",
   "metadata": {},
   "outputs": [],
   "source": [
    "# Ejemplo 5: Uso de operadores lógicos en condiciones\n",
    "edad = 25\n",
    "tiene_trabajo = True\n",
    "tiene_ahorros = False\n",
    "\n",
    "if edad >= 18 and (tiene_trabajo or tiene_ahorros):\n",
    "    print(\"Puedes solicitar un préstamo.\")\n",
    "else:\n",
    "    print(\"No cumples los requisitos para un préstamo.\")"
   ]
  },
  {
   "cell_type": "code",
   "execution_count": 5,
   "id": "40ea7234-d619-4899-9525-c4576057ac11",
   "metadata": {},
   "outputs": [
    {
     "name": "stdout",
     "output_type": "stream",
     "text": [
      "Puedes tomar un descanso.\n"
     ]
    }
   ],
   "source": [
    "# Ejemplo 6: Uso del operador \"not\"\n",
    "esta_ocupado = False\n",
    "\n",
    "if not esta_ocupado:\n",
    "    print(\"Puedes tomar un descanso.\")\n",
    "else:\n",
    "    print(\"Sigue trabajando.\")"
   ]
  },
  {
   "cell_type": "code",
   "execution_count": 4,
   "id": "a629d552-f0a7-478d-90a7-6aab06b3650b",
   "metadata": {},
   "outputs": [
    {
     "name": "stdout",
     "output_type": "stream",
     "text": [
      "Pago comisión 350.0\n"
     ]
    }
   ],
   "source": [
    "# Sentencia pass\n",
    "comision = 5\n",
    "ventas = 10000\n",
    "limiteComision = 3000\n",
    "pagoComision = 0\n",
    "if ventas >= limiteComision and comision:\n",
    "    pagoComision = (ventas - limiteComision) * (comision/100)\n",
    "else:\n",
    "    pass\n",
    "\n",
    "print(f\"Pago comisión {pagoComision}\")"
   ]
  },
  {
   "cell_type": "code",
   "execution_count": null,
   "id": "0df0766a-6bd3-4328-857a-828b6bc25f86",
   "metadata": {},
   "outputs": [],
   "source": []
  }
 ],
 "metadata": {
  "kernelspec": {
   "display_name": "Python 3 (ipykernel)",
   "language": "python",
   "name": "python3"
  },
  "language_info": {
   "codemirror_mode": {
    "name": "ipython",
    "version": 3
   },
   "file_extension": ".py",
   "mimetype": "text/x-python",
   "name": "python",
   "nbconvert_exporter": "python",
   "pygments_lexer": "ipython3",
   "version": "3.10.12"
  }
 },
 "nbformat": 4,
 "nbformat_minor": 5
}
