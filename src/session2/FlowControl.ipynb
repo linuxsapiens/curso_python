{
 "cells": [
  {
   "cell_type": "markdown",
   "id": "875284ef-66c8-43f7-83cf-ffa5221f9187",
   "metadata": {},
   "source": [
    "## Control de flujo\n",
    "las sentencias control de flujo del programa, permiten cambiar el curso de la ejecución del mismo, así como realizar ciclos o bucles de repetición de código"
   ]
  },
  {
   "cell_type": "code",
   "execution_count": 1,
   "id": "800f8eb9-372c-424e-9938-d4f6455368cd",
   "metadata": {},
   "outputs": [
    {
     "name": "stdout",
     "output_type": "stream",
     "text": [
      "0 es un numero par\n",
      "1 es un numero impar\n",
      "2 es un numero par\n",
      "3 es un numero impar\n",
      "4 es un numero par\n",
      "5 es un numero impar\n",
      "6 es un numero par\n",
      "7 es un numero impar\n",
      "8 es un numero par\n",
      "9 es un numero impar\n"
     ]
    }
   ],
   "source": [
    "n = 0\n",
    "while n < 10:\n",
    "    if (n % 2) == 0:\n",
    "        print(n, 'es un numero par')\n",
    "    else:\n",
    "        print(n, 'es un numero impar')\n",
    "    n = n + 1\n"
   ]
  },
  {
   "cell_type": "code",
   "execution_count": null,
   "id": "dc488448-abb8-49d5-847f-9ad2cddc5019",
   "metadata": {},
   "outputs": [],
   "source": []
  }
 ],
 "metadata": {
  "kernelspec": {
   "display_name": "Python 3 (ipykernel)",
   "language": "python",
   "name": "python3"
  },
  "language_info": {
   "codemirror_mode": {
    "name": "ipython",
    "version": 3
   },
   "file_extension": ".py",
   "mimetype": "text/x-python",
   "name": "python",
   "nbconvert_exporter": "python",
   "pygments_lexer": "ipython3",
   "version": "3.10.12"
  }
 },
 "nbformat": 4,
 "nbformat_minor": 5
}
