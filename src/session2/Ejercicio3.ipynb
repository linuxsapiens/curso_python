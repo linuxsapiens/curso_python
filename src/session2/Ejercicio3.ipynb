{
 "cells": [
  {
   "cell_type": "markdown",
   "id": "08e64704-23df-4fd0-871e-538408f569e6",
   "metadata": {},
   "source": [
    "## Slicing\n",
    "Al realizar una consulta en un registro hemos obtenido una cadena de texto al revés. Al parecer contiene el nombre de un alumno, la nota de un exámen y la materia. Realiza lo siguiente:\n",
    "\n",
    "Voltea la cadena y guárdala en una variable llamada cadena_volteada. Puedes devolver una cadena volteada usando un tercer índice negativo con slicing tal que así: cadena[::-1]\n",
    "\n",
    "Extrae el nombre y apellido del alumno y almacénalos en una variable llamada nombre.\n",
    "\n",
    "Extrae la nota y almacénala en una variable llamada nota.\n",
    "\n",
    "Extrae la materia y almacénala en una variable llamada materia.\n",
    "\n",
    "Genera exactamente la siguiente estructura formateando las anteriores variables en una cadena llamada cadena_formateada donde nombre, nota y materia hacen referencia a las variables extraídas:\n",
    "\n",
    "{nombre} ha sacado un {nota} en {materia}\n",
    "Ejemplo:\n",
    "\n",
    "Ramón García ha sacado un 8.1 en Matemáticas\n",
    "Notas y consejos:\n",
    "\n",
    "Todas las variables del enunciado deben existir y contener el valor correcto para pasar las pruebas.\n",
    "\n",
    "Utiliza slicing para extraer las porciones de la cadena que te interesan.\n",
    "\n",
    "Crea tantas variables como necesites para hacerlo más sencillo."
   ]
  },
  {
   "cell_type": "code",
   "execution_count": 4,
   "id": "24270c90-bbc5-4f12-9800-f026b5cd1db2",
   "metadata": {},
   "outputs": [
    {
     "name": "stdout",
     "output_type": "stream",
     "text": [
      "Ramón García,7.6,Historia\n"
     ]
    }
   ],
   "source": [
    "# Variables del ejercicio (no las modifiques)\n",
    "cadena_corrupta = \"airotsiH,6.7,aícraG nómaR\"\n",
    "\n",
    "# Completa el ejercicio\n",
    "cadena_volteada = cadena_corrupta[::-1]\n",
    "print(cadena_volteada)"
   ]
  },
  {
   "cell_type": "code",
   "execution_count": 7,
   "id": "f58aa270-6530-4059-834e-55899cba7f63",
   "metadata": {},
   "outputs": [
    {
     "name": "stdout",
     "output_type": "stream",
     "text": [
      "Ramón García ha sacado un 7.6 en Historia\n"
     ]
    }
   ],
   "source": [
    "# Variables del ejercicio (no las modifiques)\n",
    "cadena_corrupta = \"airotsiH,6.7,aícraG nómaR\"\n",
    "\n",
    "# Completa el ejercicio\n",
    "cadena_volteada = cadena_corrupta[::-1]\n",
    "nombre = cadena_volteada[0:12]\n",
    "nota = cadena_volteada[13:16]\n",
    "materia = cadena_volteada[17:]\n",
    "cadena_formateada = nombre + \" ha sacado un \" + nota + \" en \" + materia\n",
    "print(cadena_formateada)"
   ]
  },
  {
   "cell_type": "code",
   "execution_count": null,
   "id": "21cd76a7-536d-4913-bdac-8136c756d54e",
   "metadata": {},
   "outputs": [],
   "source": []
  }
 ],
 "metadata": {
  "kernelspec": {
   "display_name": "Python 3 (ipykernel)",
   "language": "python",
   "name": "python3"
  },
  "language_info": {
   "codemirror_mode": {
    "name": "ipython",
    "version": 3
   },
   "file_extension": ".py",
   "mimetype": "text/x-python",
   "name": "python",
   "nbconvert_exporter": "python",
   "pygments_lexer": "ipython3",
   "version": "3.10.12"
  }
 },
 "nbformat": 4,
 "nbformat_minor": 5
}
