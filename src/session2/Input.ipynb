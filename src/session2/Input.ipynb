{
 "cells": [
  {
   "cell_type": "code",
   "execution_count": 1,
   "id": "2888f0f0-df9d-4521-af25-8be4b66bf2f5",
   "metadata": {},
   "outputs": [
    {
     "name": "stdin",
     "output_type": "stream",
     "text": [
      " Hola\n"
     ]
    }
   ],
   "source": [
    "# Entrada desde teclas\n",
    "# input permita ingresar un valor y guardarlo en una variable \n",
    "valor = input()"
   ]
  },
  {
   "cell_type": "code",
   "execution_count": 2,
   "id": "b1d77a0f-60fd-4f39-a9ff-857255a13b87",
   "metadata": {},
   "outputs": [
    {
     "data": {
      "text/plain": [
       "'Hola'"
      ]
     },
     "execution_count": 2,
     "metadata": {},
     "output_type": "execute_result"
    }
   ],
   "source": [
    "valor"
   ]
  },
  {
   "cell_type": "code",
   "execution_count": 3,
   "id": "40664fee-d008-4d35-95f7-8bad7c69cd47",
   "metadata": {},
   "outputs": [
    {
     "name": "stdin",
     "output_type": "stream",
     "text": [
      " 100\n"
     ]
    }
   ],
   "source": [
    "valor = input()"
   ]
  },
  {
   "cell_type": "code",
   "execution_count": 4,
   "id": "ce54ac93-eb28-4712-9435-61289ab4d23c",
   "metadata": {},
   "outputs": [
    {
     "data": {
      "text/plain": [
       "'100'"
      ]
     },
     "execution_count": 4,
     "metadata": {},
     "output_type": "execute_result"
    }
   ],
   "source": [
    "valor"
   ]
  },
  {
   "cell_type": "code",
   "execution_count": 7,
   "id": "e832c1f2-bd00-4805-9b83-40d751b112f9",
   "metadata": {},
   "outputs": [
    {
     "name": "stdin",
     "output_type": "stream",
     "text": [
      "Introduce tu nombre Gerardo\n"
     ]
    }
   ],
   "source": [
    "# lo que se ingresa se guarda como una cadena de caracteres\n",
    "valor = input(\"Introduce tu nombre\")"
   ]
  },
  {
   "cell_type": "code",
   "execution_count": 8,
   "id": "b1d21628-f379-4d17-b938-d258496d45cc",
   "metadata": {},
   "outputs": [
    {
     "data": {
      "text/plain": [
       "'Gerardo'"
      ]
     },
     "execution_count": 8,
     "metadata": {},
     "output_type": "execute_result"
    }
   ],
   "source": [
    "valor"
   ]
  },
  {
   "cell_type": "code",
   "execution_count": 9,
   "id": "0182f767-93bc-4b22-a39d-f9f5534eaff5",
   "metadata": {},
   "outputs": [
    {
     "name": "stdin",
     "output_type": "stream",
     "text": [
      "Introduce tu edad 49\n"
     ]
    }
   ],
   "source": [
    "valor = input(\"Introduce tu edad\")"
   ]
  },
  {
   "cell_type": "code",
   "execution_count": 10,
   "id": "4ab4c6a3-44b1-41be-9cc6-9463fec8bfa3",
   "metadata": {},
   "outputs": [
    {
     "ename": "TypeError",
     "evalue": "can only concatenate str (not \"int\") to str",
     "output_type": "error",
     "traceback": [
      "\u001b[0;31m---------------------------------------------------------------------------\u001b[0m",
      "\u001b[0;31mTypeError\u001b[0m                                 Traceback (most recent call last)",
      "Cell \u001b[0;32mIn[10], line 1\u001b[0m\n\u001b[0;32m----> 1\u001b[0m \u001b[43mvalor\u001b[49m\u001b[43m \u001b[49m\u001b[38;5;241;43m+\u001b[39;49m\u001b[43m \u001b[49m\u001b[38;5;241;43m10\u001b[39;49m\n",
      "\u001b[0;31mTypeError\u001b[0m: can only concatenate str (not \"int\") to str"
     ]
    }
   ],
   "source": [
    "valor + 10"
   ]
  },
  {
   "cell_type": "code",
   "execution_count": 11,
   "id": "74489767-596e-4077-b370-43462a3c8493",
   "metadata": {},
   "outputs": [
    {
     "name": "stdin",
     "output_type": "stream",
     "text": [
      "introduce tu edad 49\n"
     ]
    }
   ],
   "source": [
    "valor = input(\"introduce tu edad\")"
   ]
  },
  {
   "cell_type": "code",
   "execution_count": 12,
   "id": "1cc40493-bd41-48ee-a48e-5564987b7fe8",
   "metadata": {},
   "outputs": [],
   "source": [
    "valor = int(valor)"
   ]
  },
  {
   "cell_type": "code",
   "execution_count": 13,
   "id": "a7659fe0-e62b-4975-970b-212c5edd4e15",
   "metadata": {},
   "outputs": [
    {
     "data": {
      "text/plain": [
       "49"
      ]
     },
     "execution_count": 13,
     "metadata": {},
     "output_type": "execute_result"
    }
   ],
   "source": [
    "valor"
   ]
  },
  {
   "cell_type": "code",
   "execution_count": 14,
   "id": "909bc196-626c-4eb8-a219-db8e36730f54",
   "metadata": {},
   "outputs": [
    {
     "data": {
      "text/plain": [
       "39"
      ]
     },
     "execution_count": 14,
     "metadata": {},
     "output_type": "execute_result"
    }
   ],
   "source": [
    "valor -10"
   ]
  },
  {
   "cell_type": "code",
   "execution_count": 15,
   "id": "7b2be665-a4ea-42df-8a68-7ed8fcd9d4f4",
   "metadata": {},
   "outputs": [
    {
     "name": "stdin",
     "output_type": "stream",
     "text": [
      "introduce tu edad 40.4\n"
     ]
    }
   ],
   "source": [
    "valor = input(\"introduce tu edad\")"
   ]
  },
  {
   "cell_type": "code",
   "execution_count": 16,
   "id": "44f876ff-f8e7-4e5e-8cb5-68665e84e749",
   "metadata": {},
   "outputs": [
    {
     "ename": "ValueError",
     "evalue": "invalid literal for int() with base 10: '40.4'",
     "output_type": "error",
     "traceback": [
      "\u001b[0;31m---------------------------------------------------------------------------\u001b[0m",
      "\u001b[0;31mValueError\u001b[0m                                Traceback (most recent call last)",
      "Cell \u001b[0;32mIn[16], line 1\u001b[0m\n\u001b[0;32m----> 1\u001b[0m valor \u001b[38;5;241m=\u001b[39m \u001b[38;5;28;43mint\u001b[39;49m\u001b[43m(\u001b[49m\u001b[43mvalor\u001b[49m\u001b[43m)\u001b[49m\n",
      "\u001b[0;31mValueError\u001b[0m: invalid literal for int() with base 10: '40.4'"
     ]
    }
   ],
   "source": [
    "valor = int(valor)"
   ]
  },
  {
   "cell_type": "code",
   "execution_count": 17,
   "id": "1beb28c8-ab65-4843-bb51-f84929f15890",
   "metadata": {},
   "outputs": [],
   "source": [
    "valor = float(valor)"
   ]
  },
  {
   "cell_type": "code",
   "execution_count": 18,
   "id": "e46f1685-3b0f-4dc4-b5f8-181e02258fd8",
   "metadata": {},
   "outputs": [
    {
     "data": {
      "text/plain": [
       "30.4"
      ]
     },
     "execution_count": 18,
     "metadata": {},
     "output_type": "execute_result"
    }
   ],
   "source": [
    "valor - 10"
   ]
  },
  {
   "cell_type": "code",
   "execution_count": 19,
   "id": "94b42960-c1a6-4069-ae3e-8c543a8bf14c",
   "metadata": {},
   "outputs": [
    {
     "name": "stdin",
     "output_type": "stream",
     "text": [
      "Introduce tu estatura 1.85\n"
     ]
    }
   ],
   "source": [
    "valor = float(input(\"Introduce tu estatura\"))"
   ]
  },
  {
   "cell_type": "code",
   "execution_count": 20,
   "id": "7ca169f0-7c38-4904-a62a-a3cf0a61b340",
   "metadata": {},
   "outputs": [
    {
     "data": {
      "text/plain": [
       "1.85"
      ]
     },
     "execution_count": 20,
     "metadata": {},
     "output_type": "execute_result"
    }
   ],
   "source": [
    "valor"
   ]
  },
  {
   "cell_type": "code",
   "execution_count": null,
   "id": "09184b0b-f6b2-40d8-9d25-65fcba103556",
   "metadata": {},
   "outputs": [],
   "source": []
  }
 ],
 "metadata": {
  "kernelspec": {
   "display_name": "Python 3 (ipykernel)",
   "language": "python",
   "name": "python3"
  },
  "language_info": {
   "codemirror_mode": {
    "name": "ipython",
    "version": 3
   },
   "file_extension": ".py",
   "mimetype": "text/x-python",
   "name": "python",
   "nbconvert_exporter": "python",
   "pygments_lexer": "ipython3",
   "version": "3.10.12"
  }
 },
 "nbformat": 4,
 "nbformat_minor": 5
}
