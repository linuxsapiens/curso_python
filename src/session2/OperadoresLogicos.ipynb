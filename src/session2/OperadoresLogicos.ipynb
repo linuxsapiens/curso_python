{
 "cells": [
  {
   "cell_type": "code",
   "execution_count": 1,
   "id": "dbec8fcd-606f-4b8a-b76f-d026e71d330d",
   "metadata": {},
   "outputs": [
    {
     "data": {
      "text/plain": [
       "False"
      ]
     },
     "execution_count": 1,
     "metadata": {},
     "output_type": "execute_result"
    }
   ],
   "source": [
    "# Negacion NOT, invierte un valor logico\n",
    "not True"
   ]
  },
  {
   "cell_type": "code",
   "execution_count": 2,
   "id": "936bee68-01db-43bb-a0ef-8503e3da692c",
   "metadata": {},
   "outputs": [
    {
     "data": {
      "text/plain": [
       "True"
      ]
     },
     "execution_count": 2,
     "metadata": {},
     "output_type": "execute_result"
    }
   ],
   "source": [
    "not True == False"
   ]
  },
  {
   "cell_type": "markdown",
   "id": "34b1ef91-ec85-418b-a2eb-881297c0fc96",
   "metadata": {},
   "source": [
    "### conjuncion AND\n",
    "* Viene de conjunto\n",
    "* Sinónimo de unido, contiguo o cercano\n",
    "* Agrupa uniendo\n",
    "\n",
    "### Disyunción OR\n",
    "* Viende disyunto\n",
    "* Sinónimo de separado, apartado o distante\n",
    "* Agrupa separando\n"
   ]
  },
  {
   "cell_type": "code",
   "execution_count": 3,
   "id": "f6cabe23-7203-4f96-864c-9a4357ca97e2",
   "metadata": {},
   "outputs": [
    {
     "data": {
      "text/plain": [
       "True"
      ]
     },
     "execution_count": 3,
     "metadata": {},
     "output_type": "execute_result"
    }
   ],
   "source": [
    "True and True"
   ]
  },
  {
   "cell_type": "code",
   "execution_count": 4,
   "id": "21a58780-e869-4a2b-b629-9609b316e935",
   "metadata": {},
   "outputs": [
    {
     "data": {
      "text/plain": [
       "False"
      ]
     },
     "execution_count": 4,
     "metadata": {},
     "output_type": "execute_result"
    }
   ],
   "source": [
    "True and False"
   ]
  },
  {
   "cell_type": "code",
   "execution_count": 5,
   "id": "b529d50c-d981-4c14-9a0a-9a433307ac0b",
   "metadata": {},
   "outputs": [
    {
     "data": {
      "text/plain": [
       "False"
      ]
     },
     "execution_count": 5,
     "metadata": {},
     "output_type": "execute_result"
    }
   ],
   "source": [
    "False and True"
   ]
  },
  {
   "cell_type": "code",
   "execution_count": 6,
   "id": "b300c4db-ffd9-42c7-a0ad-a775b546ca1a",
   "metadata": {},
   "outputs": [
    {
     "data": {
      "text/plain": [
       "False"
      ]
     },
     "execution_count": 6,
     "metadata": {},
     "output_type": "execute_result"
    }
   ],
   "source": [
    "False and False"
   ]
  },
  {
   "cell_type": "code",
   "execution_count": 8,
   "id": "437907eb-cc17-4225-8428-f4014b1914d6",
   "metadata": {},
   "outputs": [
    {
     "data": {
      "text/plain": [
       "False"
      ]
     },
     "execution_count": 8,
     "metadata": {},
     "output_type": "execute_result"
    }
   ],
   "source": [
    "a = 45 # 13 45\n",
    "a > 10 and a < 20"
   ]
  },
  {
   "cell_type": "code",
   "execution_count": 9,
   "id": "47ed420f-1aff-4065-bd18-b4d022254e94",
   "metadata": {},
   "outputs": [
    {
     "data": {
      "text/plain": [
       "False"
      ]
     },
     "execution_count": 9,
     "metadata": {},
     "output_type": "execute_result"
    }
   ],
   "source": [
    "c = \"Hola mundo\"\n",
    "len(c) > 20 and c[0] == \"H\""
   ]
  },
  {
   "cell_type": "code",
   "execution_count": 10,
   "id": "49b3a65a-a880-4f59-8124-c547f032bd8a",
   "metadata": {},
   "outputs": [
    {
     "data": {
      "text/plain": [
       "True"
      ]
     },
     "execution_count": 10,
     "metadata": {},
     "output_type": "execute_result"
    }
   ],
   "source": [
    "True or True"
   ]
  },
  {
   "cell_type": "code",
   "execution_count": 11,
   "id": "e18f0a19-c5aa-4e75-b2f4-710e5036eee5",
   "metadata": {},
   "outputs": [
    {
     "data": {
      "text/plain": [
       "True"
      ]
     },
     "execution_count": 11,
     "metadata": {},
     "output_type": "execute_result"
    }
   ],
   "source": [
    "True or False"
   ]
  },
  {
   "cell_type": "code",
   "execution_count": 12,
   "id": "a6edd937-11df-45da-b397-04d27f8caaf2",
   "metadata": {},
   "outputs": [
    {
     "data": {
      "text/plain": [
       "True"
      ]
     },
     "execution_count": 12,
     "metadata": {},
     "output_type": "execute_result"
    }
   ],
   "source": [
    "False or True"
   ]
  },
  {
   "cell_type": "code",
   "execution_count": 13,
   "id": "2ed666f5-9771-4166-8031-9c9ee02b5856",
   "metadata": {},
   "outputs": [
    {
     "data": {
      "text/plain": [
       "False"
      ]
     },
     "execution_count": 13,
     "metadata": {},
     "output_type": "execute_result"
    }
   ],
   "source": [
    "False or False"
   ]
  },
  {
   "cell_type": "code",
   "execution_count": 16,
   "id": "01c8734a-92cb-4c15-8bae-d016fc0fa021",
   "metadata": {},
   "outputs": [
    {
     "data": {
      "text/plain": [
       "True"
      ]
     },
     "execution_count": 16,
     "metadata": {},
     "output_type": "execute_result"
    }
   ],
   "source": [
    "c = \"QUIT\" # SALIR\n",
    "c == \"EXIT\" or c == \"QUIT\" or c == \"LOGOUT\""
   ]
  },
  {
   "cell_type": "code",
   "execution_count": 19,
   "id": "6576f3ca-4dee-4060-9790-a7b5a2f8aea7",
   "metadata": {},
   "outputs": [
    {
     "data": {
      "text/plain": [
       "True"
      ]
     },
     "execution_count": 19,
     "metadata": {},
     "output_type": "execute_result"
    }
   ],
   "source": [
    "c = \"SARA\" # CLARA\n",
    "c[0] == \"S\" or c[0] == \"s\""
   ]
  }
 ],
 "metadata": {
  "kernelspec": {
   "display_name": "Python 3 (ipykernel)",
   "language": "python",
   "name": "python3"
  },
  "language_info": {
   "codemirror_mode": {
    "name": "ipython",
    "version": 3
   },
   "file_extension": ".py",
   "mimetype": "text/x-python",
   "name": "python",
   "nbconvert_exporter": "python",
   "pygments_lexer": "ipython3",
   "version": "3.10.12"
  }
 },
 "nbformat": 4,
 "nbformat_minor": 5
}
