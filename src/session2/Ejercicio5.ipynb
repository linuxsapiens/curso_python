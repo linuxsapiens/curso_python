{
 "cells": [
  {
   "cell_type": "markdown",
   "id": "ff43f261-9b8d-4fcf-acbb-fd4cd566bfcc",
   "metadata": {},
   "source": [
    "## Inputs\n",
    "Realiza un programa con los siguientes requisitos:\n",
    "\n",
    "Debes leer por teclado dos cadenas de caracteres, una llamada nombre y otra llamada apellido.\n",
    "\n",
    "Debes leer por teclado un número entero llamado edad (recuerda que la variable debe ser de tipo entero).\n",
    "\n",
    "Debes leer por teclado un número flotante llamado numero_magico.\n",
    "\n",
    "Finalmente debes crear una variable cadena_final con el siguiente formato:\n",
    "\n",
    "NOMBRE APELLIDO: Tu número de la suerte es el EDAD*NUMERO_MAGICO\n",
    "Por ejemplo, si se introducen los valores \"Juan\", \"Pérez\", 20 y 4.5 , cadena_final contendrá lo siguiente:\n",
    "\n",
    "Juan Pérez: Tu número de la suerte es el 90.0\n",
    "Nota: En este ejercicio no tienes que intoducir ningún valor en los inputs, sólo programar correctamente las variables y generar la cadena_final tal como se pide. El sistema se encargará de introducir él mismo los valores en los inputs y comprobar que el resultado sea el esperado. Si lo necesitas puedes hacer conversiones entre formatos con las funciones int, float y str, esta última convierte números a cadenas, por ejemplo, str(10) devuelve '10'"
   ]
  },
  {
   "cell_type": "code",
   "execution_count": 3,
   "id": "2a2510e2-040e-45ea-aca6-a09e69d092fa",
   "metadata": {},
   "outputs": [
    {
     "name": "stdin",
     "output_type": "stream",
     "text": [
      " Gerardo\n",
      " Jaramillo\n",
      " 49\n",
      " 1.2\n"
     ]
    },
    {
     "name": "stdout",
     "output_type": "stream",
     "text": [
      "Gerardo Jaramillo: Tu número de la suerte es el 58.8\n"
     ]
    }
   ],
   "source": [
    "# Completa el ejercicio\n",
    "nombre = input()\n",
    "apellido = input()\n",
    "edad = int(input())\n",
    "numero_magico = float(input())\n",
    "cadena_final = nombre + \" \" + apellido + \": Tu número de la suerte es el \" + str(edad*numero_magico)\n",
    "print( cadena_final )"
   ]
  },
  {
   "cell_type": "code",
   "execution_count": null,
   "id": "b4599f29-45dc-4410-8857-edba1761c1ab",
   "metadata": {},
   "outputs": [],
   "source": []
  }
 ],
 "metadata": {
  "kernelspec": {
   "display_name": "Python 3 (ipykernel)",
   "language": "python",
   "name": "python3"
  },
  "language_info": {
   "codemirror_mode": {
    "name": "ipython",
    "version": 3
   },
   "file_extension": ".py",
   "mimetype": "text/x-python",
   "name": "python",
   "nbconvert_exporter": "python",
   "pygments_lexer": "ipython3",
   "version": "3.10.12"
  }
 },
 "nbformat": 4,
 "nbformat_minor": 5
}
