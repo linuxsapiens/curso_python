{
 "cells": [
  {
   "cell_type": "code",
   "execution_count": 1,
   "id": "1c5e5b2b-abe2-4a7f-8af2-839844611770",
   "metadata": {},
   "outputs": [],
   "source": [
    "# Pilas y colas, las colas no existen en python pero se puede utilizar un modulo de libreria para poder usarlas"
   ]
  },
  {
   "cell_type": "code",
   "execution_count": 2,
   "id": "7c102246-667d-43d3-af3b-eeb632a607b6",
   "metadata": {},
   "outputs": [],
   "source": [
    "pila =[3,4,5]"
   ]
  },
  {
   "cell_type": "code",
   "execution_count": 3,
   "id": "c43cce45-3a38-4a43-933f-e7d43eb8f88a",
   "metadata": {},
   "outputs": [],
   "source": [
    "pila.append(6)"
   ]
  },
  {
   "cell_type": "code",
   "execution_count": 4,
   "id": "ef6f9c05-36ba-4d75-90f8-c8536526e4d8",
   "metadata": {},
   "outputs": [
    {
     "data": {
      "text/plain": [
       "[3, 4, 5, 6]"
      ]
     },
     "execution_count": 4,
     "metadata": {},
     "output_type": "execute_result"
    }
   ],
   "source": [
    "pila"
   ]
  },
  {
   "cell_type": "code",
   "execution_count": 5,
   "id": "01e1e842-049d-47fd-99a3-2408c8fbbbf8",
   "metadata": {},
   "outputs": [
    {
     "data": {
      "text/plain": [
       "6"
      ]
     },
     "execution_count": 5,
     "metadata": {},
     "output_type": "execute_result"
    }
   ],
   "source": [
    "pila.pop()"
   ]
  },
  {
   "cell_type": "code",
   "execution_count": 6,
   "id": "95b9a865-95c8-4229-b071-851727ef9054",
   "metadata": {},
   "outputs": [
    {
     "data": {
      "text/plain": [
       "[3, 4, 5]"
      ]
     },
     "execution_count": 6,
     "metadata": {},
     "output_type": "execute_result"
    }
   ],
   "source": [
    "pila"
   ]
  },
  {
   "cell_type": "code",
   "execution_count": 7,
   "id": "3bbd8176-5621-44bf-9fbc-afd8d11920c6",
   "metadata": {},
   "outputs": [
    {
     "data": {
      "text/plain": [
       "5"
      ]
     },
     "execution_count": 7,
     "metadata": {},
     "output_type": "execute_result"
    }
   ],
   "source": [
    "pila.pop()"
   ]
  },
  {
   "cell_type": "code",
   "execution_count": 8,
   "id": "0676a572-9f8b-4599-aeb1-b3c2567c1671",
   "metadata": {},
   "outputs": [
    {
     "data": {
      "text/plain": [
       "4"
      ]
     },
     "execution_count": 8,
     "metadata": {},
     "output_type": "execute_result"
    }
   ],
   "source": [
    "pila.pop()"
   ]
  },
  {
   "cell_type": "code",
   "execution_count": 9,
   "id": "91064ad1-cdc6-4f57-9755-7098348f358a",
   "metadata": {},
   "outputs": [
    {
     "data": {
      "text/plain": [
       "3"
      ]
     },
     "execution_count": 9,
     "metadata": {},
     "output_type": "execute_result"
    }
   ],
   "source": [
    "pila.pop()"
   ]
  },
  {
   "cell_type": "code",
   "execution_count": 10,
   "id": "7a190e27-7c5e-4644-9670-2e2d71f9f398",
   "metadata": {},
   "outputs": [
    {
     "ename": "IndexError",
     "evalue": "pop from empty list",
     "output_type": "error",
     "traceback": [
      "\u001b[1;31m---------------------------------------------------------------------------\u001b[0m",
      "\u001b[1;31mIndexError\u001b[0m                                Traceback (most recent call last)",
      "Cell \u001b[1;32mIn[10], line 1\u001b[0m\n\u001b[1;32m----> 1\u001b[0m \u001b[43mpila\u001b[49m\u001b[38;5;241;43m.\u001b[39;49m\u001b[43mpop\u001b[49m\u001b[43m(\u001b[49m\u001b[43m)\u001b[49m\n",
      "\u001b[1;31mIndexError\u001b[0m: pop from empty list"
     ]
    }
   ],
   "source": [
    "pila.pop()"
   ]
  },
  {
   "cell_type": "code",
   "execution_count": 11,
   "id": "611f4298-cf5e-44d5-8507-53343fc117c5",
   "metadata": {},
   "outputs": [],
   "source": [
    "# Una cola es una coleccion donde el primer elemento en entrar es el primero en salir\n",
    "from collections import deque"
   ]
  },
  {
   "cell_type": "code",
   "execution_count": 12,
   "id": "18729a5c-8c18-4c2d-884a-9a51fac7ea2b",
   "metadata": {},
   "outputs": [],
   "source": [
    "cola = deque()"
   ]
  },
  {
   "cell_type": "code",
   "execution_count": 13,
   "id": "6fd1d8e7-b2ce-4818-a39f-47d6c7bdcbc8",
   "metadata": {},
   "outputs": [
    {
     "data": {
      "text/plain": [
       "deque([])"
      ]
     },
     "execution_count": 13,
     "metadata": {},
     "output_type": "execute_result"
    }
   ],
   "source": [
    "cola"
   ]
  },
  {
   "cell_type": "code",
   "execution_count": 15,
   "id": "645948f4-77e4-424f-9ce8-e493f4a98571",
   "metadata": {},
   "outputs": [],
   "source": [
    "cola = deque(['Gera', 'Luis', 'Carlos'])"
   ]
  },
  {
   "cell_type": "code",
   "execution_count": 16,
   "id": "6dfb1e6e-1f82-4728-8614-f221620b04d6",
   "metadata": {},
   "outputs": [
    {
     "data": {
      "text/plain": [
       "deque(['Gera', 'Luis', 'Carlos'])"
      ]
     },
     "execution_count": 16,
     "metadata": {},
     "output_type": "execute_result"
    }
   ],
   "source": [
    "cola"
   ]
  },
  {
   "cell_type": "code",
   "execution_count": 17,
   "id": "b9dc3b97-a6e7-430c-84e8-65ae7aea9739",
   "metadata": {},
   "outputs": [],
   "source": [
    "cola.append('Lucy')"
   ]
  },
  {
   "cell_type": "code",
   "execution_count": 18,
   "id": "b103a30c-947b-45ac-90f1-a82d31c070e9",
   "metadata": {},
   "outputs": [],
   "source": [
    "cola.append('Jorge')"
   ]
  },
  {
   "cell_type": "code",
   "execution_count": 19,
   "id": "cbbc5f73-c10b-4755-977d-eb8f2946a7c2",
   "metadata": {},
   "outputs": [
    {
     "data": {
      "text/plain": [
       "deque(['Gera', 'Luis', 'Carlos', 'Lucy', 'Jorge'])"
      ]
     },
     "execution_count": 19,
     "metadata": {},
     "output_type": "execute_result"
    }
   ],
   "source": [
    "cola"
   ]
  },
  {
   "cell_type": "code",
   "execution_count": 20,
   "id": "ad7e2369-d2b6-44ea-ba48-493df1ae9c6a",
   "metadata": {},
   "outputs": [
    {
     "data": {
      "text/plain": [
       "'Gera'"
      ]
     },
     "execution_count": 20,
     "metadata": {},
     "output_type": "execute_result"
    }
   ],
   "source": [
    "cola.popleft()"
   ]
  },
  {
   "cell_type": "code",
   "execution_count": 21,
   "id": "4d7272e8-9c95-4d34-a7b6-7a72a1830363",
   "metadata": {},
   "outputs": [
    {
     "data": {
      "text/plain": [
       "deque(['Luis', 'Carlos', 'Lucy', 'Jorge'])"
      ]
     },
     "execution_count": 21,
     "metadata": {},
     "output_type": "execute_result"
    }
   ],
   "source": [
    "cola"
   ]
  },
  {
   "cell_type": "code",
   "execution_count": 22,
   "id": "cb13ef73-0499-470b-bff3-5a1fabc078aa",
   "metadata": {},
   "outputs": [],
   "source": [
    "siguiente = cola.popleft()"
   ]
  },
  {
   "cell_type": "code",
   "execution_count": 23,
   "id": "63371b1d-e693-49b9-bc84-85777f7d5824",
   "metadata": {},
   "outputs": [
    {
     "data": {
      "text/plain": [
       "'Luis'"
      ]
     },
     "execution_count": 23,
     "metadata": {},
     "output_type": "execute_result"
    }
   ],
   "source": [
    "siguiente"
   ]
  },
  {
   "cell_type": "code",
   "execution_count": 24,
   "id": "9937bb4a-9437-4176-9044-bf8a6b60efa5",
   "metadata": {},
   "outputs": [
    {
     "data": {
      "text/plain": [
       "deque(['Carlos', 'Lucy', 'Jorge'])"
      ]
     },
     "execution_count": 24,
     "metadata": {},
     "output_type": "execute_result"
    }
   ],
   "source": [
    "cola"
   ]
  },
  {
   "cell_type": "code",
   "execution_count": 25,
   "id": "39775501-e06c-4072-ad43-34f51abb4eaf",
   "metadata": {},
   "outputs": [
    {
     "data": {
      "text/plain": [
       "'Carlos'"
      ]
     },
     "execution_count": 25,
     "metadata": {},
     "output_type": "execute_result"
    }
   ],
   "source": [
    "cola[0]"
   ]
  },
  {
   "cell_type": "code",
   "execution_count": 26,
   "id": "5e66d795-00e1-4b80-8cab-2778e0d946f8",
   "metadata": {},
   "outputs": [
    {
     "data": {
      "text/plain": [
       "'Jorge'"
      ]
     },
     "execution_count": 26,
     "metadata": {},
     "output_type": "execute_result"
    }
   ],
   "source": [
    "cola[-1]"
   ]
  },
  {
   "cell_type": "code",
   "execution_count": 27,
   "id": "e100d041-a420-4567-85cc-a8fa69db6101",
   "metadata": {},
   "outputs": [
    {
     "data": {
      "text/plain": [
       "collections.deque"
      ]
     },
     "execution_count": 27,
     "metadata": {},
     "output_type": "execute_result"
    }
   ],
   "source": [
    "type(cola)"
   ]
  },
  {
   "cell_type": "code",
   "execution_count": 28,
   "id": "d8c591e3-92fb-4934-bcc4-f8b95873e1e2",
   "metadata": {},
   "outputs": [],
   "source": [
    "cola.append(10)"
   ]
  },
  {
   "cell_type": "code",
   "execution_count": 29,
   "id": "65b138b2-72fc-4eb3-bd33-baec368e62c0",
   "metadata": {},
   "outputs": [],
   "source": [
    "cola.append([1,2,3])"
   ]
  },
  {
   "cell_type": "code",
   "execution_count": 30,
   "id": "100c2552-ce8d-47da-9306-8a765abf2007",
   "metadata": {},
   "outputs": [
    {
     "data": {
      "text/plain": [
       "deque(['Carlos', 'Lucy', 'Jorge', 10, [1, 2, 3]])"
      ]
     },
     "execution_count": 30,
     "metadata": {},
     "output_type": "execute_result"
    }
   ],
   "source": [
    "cola"
   ]
  },
  {
   "cell_type": "code",
   "execution_count": 31,
   "id": "8363d463-f725-49a8-8e0f-7b18c5e354cb",
   "metadata": {},
   "outputs": [],
   "source": [
    "cola.append('Carlos')"
   ]
  },
  {
   "cell_type": "code",
   "execution_count": 32,
   "id": "df3ae123-ef4a-4120-9683-04732c3d9206",
   "metadata": {},
   "outputs": [
    {
     "data": {
      "text/plain": [
       "deque(['Carlos', 'Lucy', 'Jorge', 10, [1, 2, 3], 'Carlos'])"
      ]
     },
     "execution_count": 32,
     "metadata": {},
     "output_type": "execute_result"
    }
   ],
   "source": [
    "cola"
   ]
  },
  {
   "cell_type": "code",
   "execution_count": null,
   "id": "fd086c83-fff6-43df-838f-f6a92a99a585",
   "metadata": {},
   "outputs": [],
   "source": []
  }
 ],
 "metadata": {
  "kernelspec": {
   "display_name": "Python 3 (ipykernel)",
   "language": "python",
   "name": "python3"
  },
  "language_info": {
   "codemirror_mode": {
    "name": "ipython",
    "version": 3
   },
   "file_extension": ".py",
   "mimetype": "text/x-python",
   "name": "python",
   "nbconvert_exporter": "python",
   "pygments_lexer": "ipython3",
   "version": "3.12.5"
  }
 },
 "nbformat": 4,
 "nbformat_minor": 5
}
