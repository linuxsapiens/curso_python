{
 "cells": [
  {
   "cell_type": "code",
   "execution_count": 1,
   "id": "67a93a53-53f9-4462-bce7-64ea955c70c7",
   "metadata": {},
   "outputs": [],
   "source": [
    "# Excepciones multiples.- Las excepciones un identificador ( un tipo de excepcion )"
   ]
  },
  {
   "cell_type": "code",
   "execution_count": 3,
   "id": "19eeffd5-61e1-4cc7-9790-f5280d8e2740",
   "metadata": {},
   "outputs": [
    {
     "name": "stdin",
     "output_type": "stream",
     "text": [
      "ingresa un numero Hola\n"
     ]
    },
    {
     "name": "stdout",
     "output_type": "stream",
     "text": [
      "Error\n"
     ]
    }
   ],
   "source": [
    "try:\n",
    "    n = input('ingresa un numero')\n",
    "    10/n\n",
    "except:\n",
    "    print('Error')"
   ]
  },
  {
   "cell_type": "code",
   "execution_count": 4,
   "id": "fe5faf1f-6f23-4826-9a42-65c7ac7070c1",
   "metadata": {},
   "outputs": [
    {
     "name": "stdin",
     "output_type": "stream",
     "text": [
      "ingresa un numero Hola\n"
     ]
    },
    {
     "name": "stdout",
     "output_type": "stream",
     "text": [
      "TypeError\n"
     ]
    }
   ],
   "source": [
    "# Identificar el tipo de error que se genera\n",
    "try:\n",
    "    n = input('ingresa un numero')\n",
    "    10/n\n",
    "except Exception as e:\n",
    "    print( type(e).__name__)"
   ]
  },
  {
   "cell_type": "code",
   "execution_count": 16,
   "id": "e41686dd-9a27-4819-910d-253f2cc97927",
   "metadata": {},
   "outputs": [
    {
     "name": "stdin",
     "output_type": "stream",
     "text": [
      "ingresa un numero -0\n"
     ]
    },
    {
     "name": "stdout",
     "output_type": "stream",
     "text": [
      "No es posible dividir entre cero\n"
     ]
    }
   ],
   "source": [
    "try:\n",
    "    n = float(input('ingresa un numero'))\n",
    "    10/n\n",
    "except TypeError:\n",
    "    print(\"Creo que ingresaste algo que no es un numero\")\n",
    "except ValueError:\n",
    "    print(\"Creo que ingresaste algo que no es un numero*******\")\n",
    "except ZeroDivisionError:\n",
    "    print(\"No es posible dividir entre cero\")\n",
    "except Exception as e:\n",
    "    print( type(e).__name__)"
   ]
  },
  {
   "cell_type": "code",
   "execution_count": null,
   "id": "1c081a9a-03b7-4367-994c-67e26abe1789",
   "metadata": {},
   "outputs": [],
   "source": []
  }
 ],
 "metadata": {
  "kernelspec": {
   "display_name": "Python 3 (ipykernel)",
   "language": "python",
   "name": "python3"
  },
  "language_info": {
   "codemirror_mode": {
    "name": "ipython",
    "version": 3
   },
   "file_extension": ".py",
   "mimetype": "text/x-python",
   "name": "python",
   "nbconvert_exporter": "python",
   "pygments_lexer": "ipython3",
   "version": "3.12.5"
  }
 },
 "nbformat": 4,
 "nbformat_minor": 5
}
