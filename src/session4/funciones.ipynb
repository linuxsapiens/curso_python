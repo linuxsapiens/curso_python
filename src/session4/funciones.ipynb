{
 "cells": [
  {
   "cell_type": "code",
   "execution_count": 1,
   "id": "07e6ce18-07bf-4dc5-b9d8-020f02a435af",
   "metadata": {},
   "outputs": [
    {
     "data": {
      "text/plain": [
       "4"
      ]
     },
     "execution_count": 1,
     "metadata": {},
     "output_type": "execute_result"
    }
   ],
   "source": [
    "# funciones.- Son bloques o fragmentos que se pueden ejecutar multiples veces, pueden recibir y devolver informacion para establecer comunicacion con el poceso \n",
    "# principal o el bloque desde donde se mando a llamar. Tienen un nombre que las identifica y se que usa para mandarlas a ejecutar\n",
    "len(\"Hola\")"
   ]
  },
  {
   "cell_type": "code",
   "execution_count": 6,
   "id": "0883a8b8-d55c-41f3-826f-9020fb849979",
   "metadata": {},
   "outputs": [
    {
     "name": "stdout",
     "output_type": "stream",
     "text": [
      "Hola mundo loco\n",
      "Otro\n",
      "Hola mundo loco\n",
      "Otro\n",
      "Hola mundo loco\n",
      "Otro\n",
      "Hola mundo loco\n",
      "Otro\n",
      "Hola mundo loco\n",
      "Otro\n"
     ]
    }
   ],
   "source": [
    "# Ejemplo 1.- Funcion sin parametros\n",
    "def saludar():\n",
    "    \"\"\" Esta funcion solamente salida\"\"\"\n",
    "    print(\"Hola mundo loco\")\n",
    "    print(\"Otro\")\n",
    "\n",
    "saludar()\n",
    "saludar()\n",
    "saludar()\n",
    "saludar()\n",
    "saludar()"
   ]
  },
  {
   "cell_type": "code",
   "execution_count": 9,
   "id": "b5ba25de-7d88-47e3-a4bc-2224bbb6bdae",
   "metadata": {},
   "outputs": [
    {
     "name": "stdout",
     "output_type": "stream",
     "text": [
      "Hola Gera, como estas ?\n",
      "Hola Luis, como estas ?\n"
     ]
    }
   ],
   "source": [
    "# 2.- Funcion con parametros\n",
    "def saluda_persona(nombre):\n",
    "    \"\"\" Esta funcion saluda a una persona\"\"\"\n",
    "    print(f\"Hola {nombre}, como estas ?\")\n",
    "\n",
    "# Llamada a la funcion\n",
    "saluda_persona(\"Gera\")\n",
    "saluda_persona('Luis')"
   ]
  },
  {
   "cell_type": "code",
   "execution_count": 5,
   "id": "29134898-4daa-49fe-ac17-908675a1943b",
   "metadata": {},
   "outputs": [
    {
     "name": "stdout",
     "output_type": "stream",
     "text": [
      "5 x 0 = 0\n",
      "5 x 1 = 5\n",
      "5 x 2 = 10\n",
      "5 x 3 = 15\n",
      "5 x 4 = 20\n",
      "5 x 5 = 25\n",
      "5 x 6 = 30\n",
      "5 x 7 = 35\n",
      "5 x 8 = 40\n",
      "5 x 9 = 45\n",
      "5\n"
     ]
    }
   ],
   "source": [
    "# Ambito de las variables\n",
    "# Si fue asignada en el bloque principal, entonces la funcion si la puede usar\n",
    "# Si fue asignada dentro de una funcion, entonces solo se puede usar dentro de la funcion y en bloque principal no existe\n",
    "# si la variable es asignada en bloque principal y tambien en la funcion, la variable de la funcion sera independiente de la bloque princical\n",
    "# Si dentro de la funcion se usa \"global\" para definir una variable, se refiere a la del bloque principal.\n",
    "def tabla():\n",
    "    # v = 5 # Esta variable es local a esta fucion, solo existe en el bloque de la funcion\n",
    "    global v\n",
    "    v = 5\n",
    "    for i in range(10):\n",
    "        print(\"{} x {} = {}\".format( v, i, v*i))\n",
    "\n",
    "v = 9\n",
    "tabla()\n",
    "print(v)"
   ]
  },
  {
   "cell_type": "code",
   "execution_count": 6,
   "id": "340a582a-3b2e-4c61-8b55-f7c40f2cba5b",
   "metadata": {},
   "outputs": [
    {
     "name": "stdout",
     "output_type": "stream",
     "text": [
      "La suma es = 8\n"
     ]
    }
   ],
   "source": [
    "# 3.- Funciones con valor de retorno\n",
    "def suma(a,b):\n",
    "    '''Esta funcion suma dos valores y regresa el resultado'''\n",
    "    return a + b\n",
    "\n",
    "res = suma(3,5)\n",
    "print(f\"La suma es = {res}\")"
   ]
  },
  {
   "cell_type": "code",
   "execution_count": 9,
   "id": "705d29e8-ac83-40ff-a2db-539330602024",
   "metadata": {},
   "outputs": [
    {
     "name": "stdout",
     "output_type": "stream",
     "text": [
      "9\n",
      "27\n"
     ]
    }
   ],
   "source": [
    "# 4.- Funcion con parametros por defecto\n",
    "def potencia(base, exponente = 2):\n",
    "    '''Calcula la potencia de un numero, por defecto, eleva al cuadrado'''\n",
    "    return base ** exponente\n",
    "\n",
    "print(potencia(3))\n",
    "print(potencia(3,3))"
   ]
  },
  {
   "cell_type": "code",
   "execution_count": 16,
   "id": "36097f41-0d60-4529-9fee-6448f0ca589f",
   "metadata": {},
   "outputs": [
    {
     "name": "stdout",
     "output_type": "stream",
     "text": [
      "9.0\n",
      "4.857142857142857\n",
      "10.0\n"
     ]
    }
   ],
   "source": [
    "# 5.- funcion con una cantidad variable o indeterminada de argumentos ( cero o mas )\n",
    "def promedio(*args):\n",
    "    '''Calcula el primerio de una cantidad indeterminada de elementos'''\n",
    "    return sum(args) / len(args)\n",
    "\n",
    "print(promedio(8,9,10))\n",
    "print(promedio(3,4,5,6,7,8,1))\n",
    "print(promedio(10))"
   ]
  },
  {
   "cell_type": "code",
   "execution_count": 18,
   "id": "aacc359d-2790-4bff-ab59-ae3a878885d5",
   "metadata": {},
   "outputs": [
    {
     "name": "stdout",
     "output_type": "stream",
     "text": [
      "<class 'tuple'>\n",
      "1\n"
     ]
    }
   ],
   "source": [
    "def inferior(*args):\n",
    "    inf = max(args)\n",
    "    print(type(args))\n",
    "    for n in args:\n",
    "        if n < inf:\n",
    "            inf = n\n",
    "    return inf\n",
    "\n",
    "print(inferior(1,2,3,4,5))"
   ]
  },
  {
   "cell_type": "code",
   "execution_count": 27,
   "id": "0804521b-61cb-4f9c-98d3-bb4f0c0a3171",
   "metadata": {},
   "outputs": [
    {
     "name": "stdout",
     "output_type": "stream",
     "text": [
      "<class 'dict'>\n",
      " nombre = Gera\n",
      " edad = 40\n",
      " hijos = ['Ivan', 'Jesus']\n"
     ]
    }
   ],
   "source": [
    "# 6.- Funcion con argumentos indeterminados con palabra clave ( key = value )\n",
    "def info_persona(**kwargs):\n",
    "    '''print informacion sobre una persona'''\n",
    "    print(type(kwargs))\n",
    "    for llave, valor in kwargs.items():\n",
    "        print(f\" {llave} = {valor}\")\n",
    "\n",
    "info_persona(nombre=\"Gera\", edad=40, hijos=[\"Ivan\", \"Jesus\"])\n",
    "#dicc = {\"nombre\": \"Luis\", \"edad\": 40}\n",
    "#info_persona(dicc)"
   ]
  },
  {
   "cell_type": "code",
   "execution_count": 29,
   "id": "099d864a-38db-416e-9928-b6384af0d653",
   "metadata": {},
   "outputs": [
    {
     "name": "stdout",
     "output_type": "stream",
     "text": [
      "arg1 = 1\n",
      "arg2 = 2\n",
      "args = (3, 4, 5)\n",
      "kwarg1 = default\n",
      "kwargs = {'x': 10, 'y': 20, 'z': 80}\n"
     ]
    }
   ],
   "source": [
    "# 7.- funcion que combina varios tipos de parametros\n",
    "def compleja(arg1, arg2, *args, kwarg1 = \"default\", **kwargs):\n",
    "    '''Ejemplo de una funcion que combina distintos tipos de parametros'''\n",
    "    print(f\"arg1 = {arg1}\")\n",
    "    print(f\"arg2 = {arg2}\")\n",
    "    print(f\"args = {args}\")\n",
    "    print(f\"kwarg1 = {kwarg1}\")\n",
    "    print(f\"kwargs = {kwargs}\")\n",
    "\n",
    "compleja(1,2,3,4,5,x=10, y=20, z=80)"
   ]
  },
  {
   "cell_type": "code",
   "execution_count": 35,
   "id": "acda35a8-dc61-4106-ae53-74e82be94e2b",
   "metadata": {},
   "outputs": [
    {
     "name": "stdout",
     "output_type": "stream",
     "text": [
      "<class 'tuple'>\n",
      " Minimo = 8, maximo = 10, promedio = 9.0\n"
     ]
    }
   ],
   "source": [
    "# 8 funcion que regresa varios valores de retorno\n",
    "def estadis(numeros):\n",
    "    '''Calcula varias estadisticas de una lista de numeros'''\n",
    "    minimo = min(numeros)\n",
    "    maximo = max(numeros)\n",
    "    prom = sum(numeros) / len(numeros)\n",
    "    return minimo, maximo, prom\n",
    "\n",
    "lista = [8,9,10]\n",
    "#val_min, val_max, val_prom = estadis(lista)\n",
    "#print(f\" Minimo = {val_min}, maximo = {val_max}, promedio = {val_prom}\")\n",
    "res = estadis(lista)\n",
    "print(type(resultados))\n",
    "print(f\" Minimo = {res[0]}, maximo = {res[1]}, promedio = {res[2]}\")"
   ]
  },
  {
   "cell_type": "code",
   "execution_count": 36,
   "id": "e6305d3b-b8bb-4214-ad49-8d6bba8dca8e",
   "metadata": {},
   "outputs": [
    {
     "name": "stdout",
     "output_type": "stream",
     "text": [
      "Hola 10 [1, 2, 3]\n"
     ]
    }
   ],
   "source": [
    "def test():\n",
    "    return \"Hola\", 10, [1,2,3]\n",
    "\n",
    "test()\n",
    "s,n,l = test()\n",
    "print( s, n, l )"
   ]
  },
  {
   "cell_type": "code",
   "execution_count": 38,
   "id": "1f4101c1-1ea6-4343-ae6e-e9b7fc704338",
   "metadata": {},
   "outputs": [
    {
     "name": "stdout",
     "output_type": "stream",
     "text": [
      "120\n"
     ]
    }
   ],
   "source": [
    "# funciones recurrentes.- Son funciones que se llaman a ejecutar a si mismas\n",
    "# factorial 5 = 5x4x3x2x1\n",
    "def factorial(num):\n",
    "    if num > 1:\n",
    "        return num * factorial(num-1)\n",
    "    return 1\n",
    "\n",
    "print(factorial(5))"
   ]
  },
  {
   "cell_type": "code",
   "execution_count": 40,
   "id": "29ab1ece-e011-48be-83a8-b467f5c5abc8",
   "metadata": {},
   "outputs": [
    {
     "name": "stdout",
     "output_type": "stream",
     "text": [
      "2\n"
     ]
    }
   ],
   "source": [
    "# parametros por valor y parametros por referencia\n",
    "# Los parametros de tipos simples (string, int, bool ) se copia su valor a una funcion\n",
    "def duplicar(num):\n",
    "    num *= 2\n",
    "\n",
    "n = 2\n",
    "duplicar(n)\n",
    "print(n)"
   ]
  },
  {
   "cell_type": "code",
   "execution_count": 42,
   "id": "dd8f0de4-b44b-4261-9a00-d0b5d8faabf1",
   "metadata": {},
   "outputs": [
    {
     "name": "stdout",
     "output_type": "stream",
     "text": [
      "[4, 8, 12]\n"
     ]
    }
   ],
   "source": [
    "# Los parametros de tipos de datos complejos ( listas, dic, tupla ) se pasan por referencia, se envia la direccion de memoria original\n",
    "def duplicar_lista(numeros):\n",
    "    for i,v in enumerate(numeros):\n",
    "        numeros[i] *= 2\n",
    "\n",
    "lista = [2,4,6]\n",
    "duplicar_lista(lista)\n",
    "print(lista)"
   ]
  },
  {
   "cell_type": "code",
   "execution_count": 44,
   "id": "5172535c-6d45-4951-a8e9-0141f9224933",
   "metadata": {},
   "outputs": [
    {
     "name": "stdout",
     "output_type": "stream",
     "text": [
      "10 10\n",
      "5 10\n"
     ]
    }
   ],
   "source": [
    "# Mas sobre las referencias\n",
    "a = 10\n",
    "b = a\n",
    "print(a, b)\n",
    "a = 5\n",
    "print(a, b)"
   ]
  },
  {
   "cell_type": "code",
   "execution_count": 46,
   "id": "009ae525-3a48-4b2a-9e63-7edb82f4d0f4",
   "metadata": {},
   "outputs": [
    {
     "name": "stdout",
     "output_type": "stream",
     "text": [
      "[1, 2, 3, 4] [1, 2, 3, 4]\n",
      "[1000, 2, 3, 4] [1000, 2, 3, 4]\n"
     ]
    }
   ],
   "source": [
    "lista1 = [1,2,3,4]\n",
    "lista2 = lista1\n",
    "print(lista1, lista2)\n",
    "lista1[0] = 1000\n",
    "print(lista1,lista2)"
   ]
  },
  {
   "cell_type": "code",
   "execution_count": 47,
   "id": "baa1fbbb-a206-4ef5-be79-e1cf2eed477a",
   "metadata": {},
   "outputs": [
    {
     "name": "stdout",
     "output_type": "stream",
     "text": [
      "0x4c74803340\n",
      "0x4c74803340\n",
      "0x7ffe7b420a38\n",
      "0x7ffe7b420ad8\n"
     ]
    }
   ],
   "source": [
    "def mem_addr(variable):\n",
    "    print(hex(id(variable)))\n",
    "\n",
    "mem_addr(lista1)\n",
    "mem_addr(lista2)\n",
    "mem_addr(a)\n",
    "mem_addr(b)"
   ]
  },
  {
   "cell_type": "code",
   "execution_count": 48,
   "id": "1cf97d8c-e17c-4817-aae1-e583d19fe432",
   "metadata": {},
   "outputs": [
    {
     "data": {
      "text/plain": [
       "[1000, 2, 3, 4]"
      ]
     },
     "execution_count": 48,
     "metadata": {},
     "output_type": "execute_result"
    }
   ],
   "source": [
    "lista1[:]"
   ]
  },
  {
   "cell_type": "code",
   "execution_count": 49,
   "id": "1af6a23b-0560-47fa-a5a9-89f9830bd4db",
   "metadata": {},
   "outputs": [],
   "source": [
    "lista3 = lista1[:]"
   ]
  },
  {
   "cell_type": "code",
   "execution_count": 50,
   "id": "d91c401f-a378-4a37-a131-be5815e7606e",
   "metadata": {},
   "outputs": [
    {
     "name": "stdout",
     "output_type": "stream",
     "text": [
      "0x4c74803340\n",
      "0x4c74803340\n",
      "0x4c74800d80\n"
     ]
    }
   ],
   "source": [
    "mem_addr(lista1)\n",
    "mem_addr(lista2)\n",
    "mem_addr(lista3)"
   ]
  },
  {
   "cell_type": "code",
   "execution_count": 52,
   "id": "2a89d284-fd68-40db-96da-14bac322b0af",
   "metadata": {},
   "outputs": [
    {
     "name": "stdout",
     "output_type": "stream",
     "text": [
      "[1000, 2000, 3, 4]\n",
      "[1000, 2000, 3, 4]\n",
      "[1000, 2, 3, 4]\n"
     ]
    }
   ],
   "source": [
    "lista1[1] = 2000\n",
    "print(lista1)\n",
    "print(lista2)\n",
    "print(lista3)"
   ]
  },
  {
   "cell_type": "code",
   "execution_count": 53,
   "id": "51752899-46e8-4fb1-95c7-51dc1dd13c4c",
   "metadata": {},
   "outputs": [
    {
     "name": "stdout",
     "output_type": "stream",
     "text": [
      "[1000, 2000, 3000, 4]\n",
      "[1000, 2000, 3000, 4]\n",
      "[1000, 2, 3, 4]\n"
     ]
    }
   ],
   "source": [
    "lista1[2] = 3000\n",
    "print(lista1)\n",
    "print(lista2)\n",
    "print(lista3)"
   ]
  },
  {
   "cell_type": "code",
   "execution_count": 54,
   "id": "55fe21ce-8655-4d23-8dd5-68178aae4baf",
   "metadata": {},
   "outputs": [
    {
     "data": {
      "text/plain": [
       "12"
      ]
     },
     "execution_count": 54,
     "metadata": {},
     "output_type": "execute_result"
    }
   ],
   "source": [
    "# Funciones integradas standard \n",
    "int(\"12\")"
   ]
  },
  {
   "cell_type": "code",
   "execution_count": 58,
   "id": "e35b96e6-8a76-4e53-ac31-4392bfb1ca84",
   "metadata": {},
   "outputs": [
    {
     "data": {
      "text/plain": [
       "85"
      ]
     },
     "execution_count": 58,
     "metadata": {},
     "output_type": "execute_result"
    }
   ],
   "source": [
    "int(\"0b1010101\",2)"
   ]
  },
  {
   "cell_type": "code",
   "execution_count": 59,
   "id": "7f447884-3650-484b-b73e-23c2eb5735d4",
   "metadata": {},
   "outputs": [
    {
     "data": {
      "text/plain": [
       "1.4"
      ]
     },
     "execution_count": 59,
     "metadata": {},
     "output_type": "execute_result"
    }
   ],
   "source": [
    "float(\"1.4\")"
   ]
  },
  {
   "cell_type": "code",
   "execution_count": 60,
   "id": "60fbf901-669d-43d9-8e89-56457e1eab7d",
   "metadata": {},
   "outputs": [
    {
     "data": {
      "text/plain": [
       "'45'"
      ]
     },
     "execution_count": 60,
     "metadata": {},
     "output_type": "execute_result"
    }
   ],
   "source": [
    "str(45)"
   ]
  },
  {
   "cell_type": "code",
   "execution_count": 61,
   "id": "b2be11ac-72f3-40ae-aad7-e97a54520b34",
   "metadata": {},
   "outputs": [
    {
     "data": {
      "text/plain": [
       "'0xff'"
      ]
     },
     "execution_count": 61,
     "metadata": {},
     "output_type": "execute_result"
    }
   ],
   "source": [
    "hex(255)"
   ]
  },
  {
   "cell_type": "code",
   "execution_count": 62,
   "id": "c4d761dc-784d-4b65-b807-28843586994e",
   "metadata": {},
   "outputs": [
    {
     "data": {
      "text/plain": [
       "'0b1010101'"
      ]
     },
     "execution_count": 62,
     "metadata": {},
     "output_type": "execute_result"
    }
   ],
   "source": [
    "bin(85)"
   ]
  },
  {
   "cell_type": "code",
   "execution_count": 63,
   "id": "14a5fb37-b0b6-46ce-8e75-8e9ec15a5b22",
   "metadata": {},
   "outputs": [
    {
     "data": {
      "text/plain": [
       "10"
      ]
     },
     "execution_count": 63,
     "metadata": {},
     "output_type": "execute_result"
    }
   ],
   "source": [
    "abs(-10)"
   ]
  },
  {
   "cell_type": "code",
   "execution_count": 64,
   "id": "0ab82611-8319-4d21-81b1-0686c9f82d15",
   "metadata": {},
   "outputs": [
    {
     "data": {
      "text/plain": [
       "2"
      ]
     },
     "execution_count": 64,
     "metadata": {},
     "output_type": "execute_result"
    }
   ],
   "source": [
    "round(1.5)"
   ]
  },
  {
   "cell_type": "code",
   "execution_count": 65,
   "id": "70fcf9e2-07b0-4991-81a2-9d0dc6f37d1f",
   "metadata": {},
   "outputs": [
    {
     "data": {
      "text/plain": [
       "7"
      ]
     },
     "execution_count": 65,
     "metadata": {},
     "output_type": "execute_result"
    }
   ],
   "source": [
    "eval('5+2')"
   ]
  },
  {
   "cell_type": "code",
   "execution_count": 66,
   "id": "648eeca4-4459-4a3b-944b-32af3d0b4226",
   "metadata": {},
   "outputs": [
    {
     "data": {
      "text/plain": [
       "10"
      ]
     },
     "execution_count": 66,
     "metadata": {},
     "output_type": "execute_result"
    }
   ],
   "source": [
    "n = 5\n",
    "eval('n * 2')"
   ]
  },
  {
   "cell_type": "code",
   "execution_count": 68,
   "id": "97291bac-d8e7-4fb0-99b1-ab8ec3ff7c03",
   "metadata": {},
   "outputs": [
    {
     "data": {
      "text/plain": [
       "str"
      ]
     },
     "execution_count": 68,
     "metadata": {},
     "output_type": "execute_result"
    }
   ],
   "source": [
    "type(eval('\"Hola\" + \"Mundo\"'))"
   ]
  },
  {
   "cell_type": "code",
   "execution_count": 69,
   "id": "355000bc-c541-40ba-8059-94d8e8750fd4",
   "metadata": {},
   "outputs": [
    {
     "name": "stdout",
     "output_type": "stream",
     "text": [
      "Welcome to Python 3.12's help utility! If this is your first time using\n",
      "Python, you should definitely check out the tutorial at\n",
      "https://docs.python.org/3.12/tutorial/.\n",
      "\n",
      "Enter the name of any module, keyword, or topic to get help on writing\n",
      "Python programs and using Python modules.  To get a list of available\n",
      "modules, keywords, symbols, or topics, enter \"modules\", \"keywords\",\n",
      "\"symbols\", or \"topics\".\n",
      "\n",
      "Each module also comes with a one-line summary of what it does; to list\n",
      "the modules whose name or summary contain a given string such as \"spam\",\n",
      "enter \"modules spam\".\n",
      "\n",
      "To quit this help utility and return to the interpreter,\n",
      "enter \"q\" or \"quit\".\n",
      "\n"
     ]
    },
    {
     "name": "stdin",
     "output_type": "stream",
     "text": [
      "help>  hex\n"
     ]
    },
    {
     "name": "stdout",
     "output_type": "stream",
     "text": [
      "Help on built-in function hex in module builtins:\n",
      "\n",
      "hex(number, /)\n",
      "    Return the hexadecimal representation of an integer.\n",
      "\n",
      "    >>> hex(12648430)\n",
      "    '0xc0ffee'\n",
      "\n"
     ]
    },
    {
     "name": "stdin",
     "output_type": "stream",
     "text": [
      "help>  quit\n"
     ]
    },
    {
     "name": "stdout",
     "output_type": "stream",
     "text": [
      "\n",
      "You are now leaving help and returning to the Python interpreter.\n",
      "If you want to ask for help on a particular object directly from the\n",
      "interpreter, you can type \"help(object)\".  Executing \"help('string')\"\n",
      "has the same effect as typing a particular string at the help> prompt.\n"
     ]
    }
   ],
   "source": [
    "help()"
   ]
  },
  {
   "cell_type": "code",
   "execution_count": null,
   "id": "6c35507c-221b-454b-a936-c5c2c651131c",
   "metadata": {},
   "outputs": [],
   "source": []
  }
 ],
 "metadata": {
  "kernelspec": {
   "display_name": "Python 3 (ipykernel)",
   "language": "python",
   "name": "python3"
  },
  "language_info": {
   "codemirror_mode": {
    "name": "ipython",
    "version": 3
   },
   "file_extension": ".py",
   "mimetype": "text/x-python",
   "name": "python",
   "nbconvert_exporter": "python",
   "pygments_lexer": "ipython3",
   "version": "3.12.5"
  }
 },
 "nbformat": 4,
 "nbformat_minor": 5
}
