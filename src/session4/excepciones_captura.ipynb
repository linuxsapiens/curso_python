{
 "cells": [
  {
   "cell_type": "code",
   "execution_count": 1,
   "id": "061a764a-74a8-4ebf-8729-08fee3ef0a93",
   "metadata": {},
   "outputs": [],
   "source": [
    "# Manejo de excepciones"
   ]
  },
  {
   "cell_type": "code",
   "execution_count": 3,
   "id": "356db49c-a749-480b-b09b-8011f36b51b3",
   "metadata": {},
   "outputs": [
    {
     "name": "stdin",
     "output_type": "stream",
     "text": [
      "Ingresa un numero:  Hola\n"
     ]
    },
    {
     "name": "stdout",
     "output_type": "stream",
     "text": [
      "Ha ocurrido un error\n"
     ]
    }
   ],
   "source": [
    "# Capturar cuando se presenta un error\n",
    "try:\n",
    "    m = 5\n",
    "    n = float(input(\"Ingresa un numero: \"))\n",
    "    print(\"{}/{}={}\".format(n,m,n/m))\n",
    "except:\n",
    "    print(\"Ha ocurrido un error\")"
   ]
  },
  {
   "cell_type": "code",
   "execution_count": 4,
   "id": "9fc19150-6f2a-49bf-9bc8-77333c3c8e27",
   "metadata": {},
   "outputs": [
    {
     "name": "stdin",
     "output_type": "stream",
     "text": [
      "Ingresa un numero:  Hola\n"
     ]
    },
    {
     "name": "stdout",
     "output_type": "stream",
     "text": [
      "Ha ocurrido un error\n"
     ]
    },
    {
     "name": "stdin",
     "output_type": "stream",
     "text": [
      "Ingresa un numero:  Adios\n"
     ]
    },
    {
     "name": "stdout",
     "output_type": "stream",
     "text": [
      "Ha ocurrido un error\n"
     ]
    },
    {
     "name": "stdin",
     "output_type": "stream",
     "text": [
      "Ingresa un numero:  RRR\n"
     ]
    },
    {
     "name": "stdout",
     "output_type": "stream",
     "text": [
      "Ha ocurrido un error\n"
     ]
    },
    {
     "name": "stdin",
     "output_type": "stream",
     "text": [
      "Ingresa un numero:  10\n"
     ]
    },
    {
     "name": "stdout",
     "output_type": "stream",
     "text": [
      "10.0/5=2.0\n"
     ]
    }
   ],
   "source": [
    "# Capturar cuando se presenta un error\n",
    "while True:\n",
    "    try:\n",
    "        m = 5\n",
    "        n = float(input(\"Ingresa un numero: \"))\n",
    "        print(\"{}/{}={}\".format(n,m,n/m))\n",
    "        break\n",
    "    except:\n",
    "        print(\"Ha ocurrido un error\")"
   ]
  },
  {
   "cell_type": "code",
   "execution_count": 6,
   "id": "6342080c-173f-489a-8fe4-4db77b179b27",
   "metadata": {},
   "outputs": [
    {
     "name": "stdin",
     "output_type": "stream",
     "text": [
      "Ingresa un numero:  10\n"
     ]
    },
    {
     "name": "stdout",
     "output_type": "stream",
     "text": [
      "10.0/5=2.0\n",
      "Lo has hecho bien\n"
     ]
    }
   ],
   "source": [
    "while True:\n",
    "    try:\n",
    "        m = 5\n",
    "        n = float(input(\"Ingresa un numero: \"))\n",
    "        print(\"{}/{}={}\".format(n,m,n/m))\n",
    "    except:\n",
    "        print(\"Ha ocurrido un error\")\n",
    "        print(\"No te fijaste bien que se preguntaba\")\n",
    "    else:\n",
    "        print(\"Lo has hecho bien\")\n",
    "        break"
   ]
  },
  {
   "cell_type": "code",
   "execution_count": 8,
   "id": "7da4b582-d6f0-44ee-bf3e-58cf2671c7ff",
   "metadata": {},
   "outputs": [
    {
     "name": "stdin",
     "output_type": "stream",
     "text": [
      "Ingresa un numero:  Hola\n"
     ]
    },
    {
     "name": "stdout",
     "output_type": "stream",
     "text": [
      "Ha ocurrido un error\n",
      "No te fijaste bien que se preguntaba\n",
      "Esto de ejecuta siempre, exista o no un error\n"
     ]
    },
    {
     "name": "stdin",
     "output_type": "stream",
     "text": [
      "Ingresa un numero:  10\n"
     ]
    },
    {
     "name": "stdout",
     "output_type": "stream",
     "text": [
      "10.0/5=2.0\n",
      "Lo has hecho bien\n",
      "Esto de ejecuta siempre, exista o no un error\n"
     ]
    }
   ],
   "source": [
    "while True:\n",
    "    try:\n",
    "        m = 5\n",
    "        n = float(input(\"Ingresa un numero: \"))\n",
    "        print(\"{}/{}={}\".format(n,m,n/m))\n",
    "    except:\n",
    "        print(\"Ha ocurrido un error\")\n",
    "        print(\"No te fijaste bien que se preguntaba\")\n",
    "    else:\n",
    "        print(\"Lo has hecho bien\")\n",
    "        break\n",
    "    finally:\n",
    "        print(\"Esto de ejecuta siempre, exista o no un error\")"
   ]
  },
  {
   "cell_type": "code",
   "execution_count": 9,
   "id": "8eda166b-9221-474a-b13f-5cfac184a3e7",
   "metadata": {},
   "outputs": [],
   "source": [
    "# try: declara el bloque de codigo a examinar en caso de errores\n",
    "# except: define el bloque de codigo en caso de que si exista un error\n",
    "# else: define el bloque de codigo a ejecutar en caso de que no exista un error\n",
    "# finally: siempre se ejecuta, exista o no un error"
   ]
  },
  {
   "cell_type": "code",
   "execution_count": null,
   "id": "617ce05d-1fd9-478d-8315-8f7af8804531",
   "metadata": {},
   "outputs": [],
   "source": []
  }
 ],
 "metadata": {
  "kernelspec": {
   "display_name": "Python 3 (ipykernel)",
   "language": "python",
   "name": "python3"
  },
  "language_info": {
   "codemirror_mode": {
    "name": "ipython",
    "version": 3
   },
   "file_extension": ".py",
   "mimetype": "text/x-python",
   "name": "python",
   "nbconvert_exporter": "python",
   "pygments_lexer": "ipython3",
   "version": "3.12.5"
  }
 },
 "nbformat": 4,
 "nbformat_minor": 5
}
