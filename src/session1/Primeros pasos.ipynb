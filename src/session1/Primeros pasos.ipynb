{
 "cells": [
  {
   "cell_type": "markdown",
   "id": "24134964-fe11-40ca-834f-b04d4eb71346",
   "metadata": {},
   "source": [
    "# Curso de python\n",
    "## Subtítulo\n",
    "Esto es un texto de párrafo *esto está en cursiva* **esto está en negritas**"
   ]
  },
  {
   "cell_type": "code",
   "execution_count": 1,
   "id": "651e47e4-933e-4d2c-ae35-8c89a615f07f",
   "metadata": {},
   "outputs": [
    {
     "name": "stdout",
     "output_type": "stream",
     "text": [
      "Hola mundo loco\n"
     ]
    }
   ],
   "source": [
    "print(\"Hola mundo loco\")"
   ]
  },
  {
   "cell_type": "code",
   "execution_count": 2,
   "id": "999beb25-07e2-4739-8e90-b375c5f87ec8",
   "metadata": {},
   "outputs": [
    {
     "name": "stdout",
     "output_type": "stream",
     "text": [
      "La instrucción print envía un texto a la salida o consola\n"
     ]
    }
   ],
   "source": [
    "print(\"La instrucción print envía un texto a la salida o consola\")"
   ]
  },
  {
   "cell_type": "code",
   "execution_count": null,
   "id": "a9796479-3d97-4507-a163-80dacf9fc4bc",
   "metadata": {},
   "outputs": [],
   "source": []
  }
 ],
 "metadata": {
  "kernelspec": {
   "display_name": "Python 3 (ipykernel)",
   "language": "python",
   "name": "python3"
  },
  "language_info": {
   "codemirror_mode": {
    "name": "ipython",
    "version": 3
   },
   "file_extension": ".py",
   "mimetype": "text/x-python",
   "name": "python",
   "nbconvert_exporter": "python",
   "pygments_lexer": "ipython3",
   "version": "3.10.12"
  }
 },
 "nbformat": 4,
 "nbformat_minor": 5
}
