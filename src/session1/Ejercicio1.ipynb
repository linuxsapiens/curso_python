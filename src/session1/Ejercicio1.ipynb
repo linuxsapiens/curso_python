{
 "cells": [
  {
   "cell_type": "markdown",
   "id": "5db20665-929d-44c6-85fe-db464c4569ae",
   "metadata": {},
   "source": [
    "### Variables\n",
    "Un profesor quiere calcular la nota final de sus alumnos en base a dos exámenes y está desarrollando un algoritmo, el problema es que los exámenes cuentan diferente y no sabe cómo acabar el programa:\n",
    "\n",
    "* El primer examen nota_1 cuenta un 40% de la nota final.\n",
    "\n",
    "* El segundo examen nota_2 cuenta un 60% de la nota final.\n",
    "\n",
    "Modifica las instrucciones donde creas oportuno para ayudar al profesor a conseguir correctamente la **nota_final**"
   ]
  },
  {
   "cell_type": "code",
   "execution_count": null,
   "id": "70d37fff-77f3-4d52-84a4-ac269309d754",
   "metadata": {},
   "outputs": [],
   "source": [
    "# Variables del ejercicio\n",
    "nota_1 = 10\n",
    "nota_2 = 6\n",
    "\n",
    "# Calcula correctamente la nota_final\n",
    "nota_final = (nota_1 + nota_2) / 2\n",
    "print(nota_final)"
   ]
  }
 ],
 "metadata": {
  "kernelspec": {
   "display_name": "Python 3 (ipykernel)",
   "language": "python",
   "name": "python3"
  },
  "language_info": {
   "codemirror_mode": {
    "name": "ipython",
    "version": 3
   },
   "file_extension": ".py",
   "mimetype": "text/x-python",
   "name": "python",
   "nbconvert_exporter": "python",
   "pygments_lexer": "ipython3",
   "version": "3.10.12"
  }
 },
 "nbformat": 4,
 "nbformat_minor": 5
}
