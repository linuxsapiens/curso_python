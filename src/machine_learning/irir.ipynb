{
 "cells": [
  {
   "cell_type": "code",
   "execution_count": 1,
   "metadata": {},
   "outputs": [],
   "source": [
    "# Ejemplo \"iris\": mostrar como se pueden aplicar técnicas de machine learning para clasificar\n",
    "#   diferentes tipos de flores de irir basándose en sus características medibles:\n",
    "#   - Longitud de sépalo  - Ancho de sépalo  - Longitud de pétalo - Ancho de pétalo"
   ]
  },
  {
   "cell_type": "code",
   "execution_count": 2,
   "metadata": {},
   "outputs": [
    {
     "name": "stdout",
     "output_type": "stream",
     "text": [
      "Defaulting to user installation because normal site-packages is not writeable\n",
      "Collecting scikit-learn\n",
      "  Downloading scikit_learn-1.5.2-cp310-cp310-manylinux_2_17_x86_64.manylinux2014_x86_64.whl.metadata (13 kB)\n",
      "Requirement already satisfied: numpy>=1.19.5 in /home/gera/.local/lib/python3.10/site-packages (from scikit-learn) (2.1.1)\n",
      "Requirement already satisfied: scipy>=1.6.0 in /usr/local/lib/python3.10/dist-packages (from scikit-learn) (1.11.4)\n",
      "Collecting joblib>=1.2.0 (from scikit-learn)\n",
      "  Downloading joblib-1.4.2-py3-none-any.whl.metadata (5.4 kB)\n",
      "Collecting threadpoolctl>=3.1.0 (from scikit-learn)\n",
      "  Downloading threadpoolctl-3.5.0-py3-none-any.whl.metadata (13 kB)\n",
      "Collecting numpy>=1.19.5 (from scikit-learn)\n",
      "  Using cached numpy-1.26.4-cp310-cp310-manylinux_2_17_x86_64.manylinux2014_x86_64.whl.metadata (61 kB)\n",
      "Downloading scikit_learn-1.5.2-cp310-cp310-manylinux_2_17_x86_64.manylinux2014_x86_64.whl (13.3 MB)\n",
      "\u001b[2K   \u001b[90m━━━━━━━━━━━━━━━━━━━━━━━━━━━━━━━━━━━━━━━━\u001b[0m \u001b[32m13.3/13.3 MB\u001b[0m \u001b[31m8.3 MB/s\u001b[0m eta \u001b[36m0:00:00\u001b[0m00:01\u001b[0m:00:01\u001b[0m\n",
      "\u001b[?25hDownloading joblib-1.4.2-py3-none-any.whl (301 kB)\n",
      "\u001b[2K   \u001b[90m━━━━━━━━━━━━━━━━━━━━━━━━━━━━━━━━━━━━━━━━\u001b[0m \u001b[32m301.8/301.8 kB\u001b[0m \u001b[31m7.3 MB/s\u001b[0m eta \u001b[36m0:00:00\u001b[0m:00:01\u001b[0m\n",
      "\u001b[?25hUsing cached numpy-1.26.4-cp310-cp310-manylinux_2_17_x86_64.manylinux2014_x86_64.whl (18.2 MB)\n",
      "Downloading threadpoolctl-3.5.0-py3-none-any.whl (18 kB)\n",
      "Installing collected packages: threadpoolctl, numpy, joblib, scikit-learn\n",
      "  Attempting uninstall: numpy\n",
      "    Found existing installation: numpy 2.1.1\n",
      "    Uninstalling numpy-2.1.1:\n",
      "      Successfully uninstalled numpy-2.1.1\n",
      "Successfully installed joblib-1.4.2 numpy-1.26.4 scikit-learn-1.5.2 threadpoolctl-3.5.0\n",
      "\n",
      "\u001b[1m[\u001b[0m\u001b[34;49mnotice\u001b[0m\u001b[1;39;49m]\u001b[0m\u001b[39;49m A new release of pip is available: \u001b[0m\u001b[31;49m24.0\u001b[0m\u001b[39;49m -> \u001b[0m\u001b[32;49m24.2\u001b[0m\n",
      "\u001b[1m[\u001b[0m\u001b[34;49mnotice\u001b[0m\u001b[1;39;49m]\u001b[0m\u001b[39;49m To update, run: \u001b[0m\u001b[32;49mpip install --upgrade pip\u001b[0m\n"
     ]
    }
   ],
   "source": [
    "!pip install scikit-learn"
   ]
  },
  {
   "cell_type": "code",
   "execution_count": 3,
   "metadata": {},
   "outputs": [],
   "source": [
    "# Importamos las bibliotecas necesarias\n",
    "import numpy as np\n",
    "import matplotlib.pyplot as plt\n",
    "from sklearn import datasets\n",
    "from sklearn.model_selection import train_test_split\n",
    "from sklearn.preprocessing import StandardScaler\n",
    "from sklearn.svm import SVC\n",
    "from sklearn.metrics import classification_report, confusion_matrix"
   ]
  },
  {
   "cell_type": "code",
   "execution_count": 4,
   "metadata": {},
   "outputs": [],
   "source": [
    "# Paso 1: Carga de datos\n",
    "# Cargamos el dataset Iris, que es un conjunto de datos incorporado en scikit-learn\n",
    "iris = datasets.load_iris()\n",
    "X = iris.data  # Características (atributos) de las flores\n",
    "y = iris.target  # Etiquetas (especies de iris)"
   ]
  },
  {
   "cell_type": "code",
   "execution_count": 5,
   "metadata": {},
   "outputs": [
    {
     "name": "stdout",
     "output_type": "stream",
     "text": [
      "Información del dataset Iris:\n",
      "Número de muestras: 150\n",
      "Número de características: 4\n",
      "Clases: [0 1 2]\n",
      "Nombres de las características: ['sepal length (cm)', 'sepal width (cm)', 'petal length (cm)', 'petal width (cm)']\n",
      "Nombres de las clases: ['setosa' 'versicolor' 'virginica']\n"
     ]
    }
   ],
   "source": [
    "# Imprimimos información sobre el dataset\n",
    "print(\"Información del dataset Iris:\")\n",
    "print(f\"Número de muestras: {X.shape[0]}\")\n",
    "print(f\"Número de características: {X.shape[1]}\")\n",
    "print(f\"Clases: {np.unique(y)}\")\n",
    "print(f\"Nombres de las características: {iris.feature_names}\")\n",
    "print(f\"Nombres de las clases: {iris.target_names}\")"
   ]
  },
  {
   "cell_type": "code",
   "execution_count": 7,
   "metadata": {},
   "outputs": [
    {
     "name": "stdout",
     "output_type": "stream",
     "text": [
      "\n",
      "Tamaño del conjunto de entrenamiento: 105\n",
      "Tamaño del conjunto de prueba: 45\n"
     ]
    }
   ],
   "source": [
    "# Paso 2: Preprocesamiento de datos\n",
    "# Dividimos los datos en conjuntos de entrenamiento y prueba\n",
    "X_train, X_test, y_train, y_test = train_test_split(X, y, test_size=0.3, random_state=42)\n",
    "\n",
    "print(\"\\nTamaño del conjunto de entrenamiento:\", X_train.shape[0])\n",
    "print(\"Tamaño del conjunto de prueba:\", X_test.shape[0])"
   ]
  },
  {
   "cell_type": "code",
   "execution_count": 10,
   "metadata": {},
   "outputs": [],
   "source": [
    "# Estandarizamos las características\n",
    "# Esto es importante para muchos algoritmos de ML, incluyendo SVM\n",
    "# Se acostumbra escalar las características para que los cálculos sean mas simples \n",
    "scaler = StandardScaler()\n",
    "X_train_scaled = scaler.fit_transform(X_train)\n",
    "X_test_scaled = scaler.transform(X_test)"
   ]
  },
  {
   "cell_type": "code",
   "execution_count": 11,
   "metadata": {},
   "outputs": [],
   "source": [
    "# Paso 3: Selección y entrenamiento del modelo\n",
    "# Usaremos un clasificador SVM (Support Vector Machine) con kernel RBF\n",
    "svm_classifier = SVC(kernel='rbf', random_state=42)"
   ]
  },
  {
   "cell_type": "code",
   "execution_count": 13,
   "metadata": {},
   "outputs": [
    {
     "name": "stdout",
     "output_type": "stream",
     "text": [
      "\n",
      "Modelo SVM entrenado.\n"
     ]
    }
   ],
   "source": [
    "# Entrenamos el modelo\n",
    "svm_classifier.fit(X_train_scaled, y_train)\n",
    "\n",
    "print(\"\\nModelo SVM entrenado.\")"
   ]
  },
  {
   "cell_type": "code",
   "execution_count": 14,
   "metadata": {},
   "outputs": [],
   "source": [
    "# Paso 4: Evaluación del modelo\n",
    "# Hacemos predicciones en el conjunto de prueba\n",
    "y_pred = svm_classifier.predict(X_test_scaled)"
   ]
  },
  {
   "cell_type": "code",
   "execution_count": 15,
   "metadata": {},
   "outputs": [
    {
     "name": "stdout",
     "output_type": "stream",
     "text": [
      "\n",
      "Matriz de confusión:\n",
      "[[19  0  0]\n",
      " [ 0 13  0]\n",
      " [ 0  0 13]]\n"
     ]
    }
   ],
   "source": [
    "# Calculamos y mostramos la matriz de confusión\n",
    "cm = confusion_matrix(y_test, y_pred)\n",
    "print(\"\\nMatriz de confusión:\")\n",
    "print(cm)"
   ]
  },
  {
   "cell_type": "code",
   "execution_count": 16,
   "metadata": {},
   "outputs": [
    {
     "name": "stdout",
     "output_type": "stream",
     "text": [
      "\n",
      "Informe de clasificación:\n",
      "              precision    recall  f1-score   support\n",
      "\n",
      "      setosa       1.00      1.00      1.00        19\n",
      "  versicolor       1.00      1.00      1.00        13\n",
      "   virginica       1.00      1.00      1.00        13\n",
      "\n",
      "    accuracy                           1.00        45\n",
      "   macro avg       1.00      1.00      1.00        45\n",
      "weighted avg       1.00      1.00      1.00        45\n",
      "\n"
     ]
    }
   ],
   "source": [
    "# Mostramos el informe de clasificación\n",
    "print(\"\\nInforme de clasificación:\")\n",
    "print(classification_report(y_test, y_pred, target_names=iris.target_names))"
   ]
  },
  {
   "cell_type": "code",
   "execution_count": 17,
   "metadata": {},
   "outputs": [
    {
     "data": {
      "image/png": "[encoded data removed]",
      "text/plain": [
       "<Figure size 1000x800 with 2 Axes>"
      ]
     },
     "metadata": {},
     "output_type": "display_data"
    }
   ],
   "source": [
    "# Paso 5: Visualización (opcional)\n",
    "# Visualizamos la separación de clases en las dos primeras características\n",
    "plt.figure(figsize=(10, 8))\n",
    "plt.scatter(X_test_scaled[:, 0], X_test_scaled[:, 1], c=y_pred, cmap='viridis')\n",
    "plt.xlabel(iris.feature_names[0])\n",
    "plt.ylabel(iris.feature_names[1])\n",
    "plt.title('Clasificación SVM en el conjunto de prueba')\n",
    "plt.colorbar(ticks=range(3), label='Clase predicha')\n",
    "plt.clim(-0.5, 2.5)\n",
    "plt.show()"
   ]
  },
  {
   "cell_type": "code",
   "execution_count": 18,
   "metadata": {},
   "outputs": [
    {
     "name": "stdout",
     "output_type": "stream",
     "text": [
      "\n",
      "Interpretación de los resultados:\n",
      "1. El modelo SVM ha logrado una buena separación de las clases, como se puede ver en la visualización.\n",
      "2. La matriz de confusión muestra cuántas muestras de cada clase fueron clasificadas correctamente o incorrectamente.\n",
      "3. El informe de clasificación proporciona métricas detalladas por clase, incluyendo precisión, recall y F1-score.\n",
      "4. La precisión global del modelo se puede calcular como la suma de la diagonal principal de la matriz de confusión dividida por el total de muestras.\n",
      "\n",
      "Precisión global del modelo: 1.00\n"
     ]
    }
   ],
   "source": [
    "# Paso 6: Interpretación\n",
    "print(\"\\nInterpretación de los resultados:\")\n",
    "print(\"1. El modelo SVM ha logrado una buena separación de las clases, como se puede ver en la visualización.\")\n",
    "print(\"2. La matriz de confusión muestra cuántas muestras de cada clase fueron clasificadas correctamente o incorrectamente.\")\n",
    "print(\"3. El informe de clasificación proporciona métricas detalladas por clase, incluyendo precisión, recall y F1-score.\")\n",
    "print(\"4. La precisión global del modelo se puede calcular como la suma de la diagonal principal de la matriz de confusión dividida por el total de muestras.\")\n",
    "\n",
    "accuracy = np.sum(np.diag(cm)) / np.sum(cm)\n",
    "print(f\"\\nPrecisión global del modelo: {accuracy:.2f}\")"
   ]
  }
 ],
 "metadata": {
  "kernelspec": {
   "display_name": "Python 3",
   "language": "python",
   "name": "python3"
  },
  "language_info": {
   "codemirror_mode": {
    "name": "ipython",
    "version": 3
   },
   "file_extension": ".py",
   "mimetype": "text/x-python",
   "name": "python",
   "nbconvert_exporter": "python",
   "pygments_lexer": "ipython3",
   "version": "3.10.12"
  }
 },
 "nbformat": 4,
 "nbformat_minor": 2
}
