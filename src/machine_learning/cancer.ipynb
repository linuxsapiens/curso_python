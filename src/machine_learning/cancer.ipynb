{
 "cells": [
  {
   "cell_type": "code",
   "execution_count": 1,
   "metadata": {},
   "outputs": [],
   "source": [
    "# Ejemplo \"cancer\": demostrar cómo se puede usar scikit-learn para crear un modelo de\n",
    "#   clasificación que pueda distinguir entre tumores de mama benignos y malignos con base\n",
    "#   en cierta características de las células.\n",
    "# El Dataset contiene características de imágenes digitalizadas de aspirado con aguja fina\n",
    "#   (FNA) de masas mamarias. Incluye 569 instancias, cada una con 30 características cómo: \n",
    "#  - Radio ( media de la distancia desde el centre a los puntos del perímetro)\n",
    "#  - Textura ( desviación estándar de los valores de escala de gris )\n",
    "#  - Perímetro - Área - Suavidad - Compacidad - Concavidad - Puntos cóncavos - Simetría - Etc"
   ]
  },
  {
   "cell_type": "code",
   "execution_count": 2,
   "metadata": {},
   "outputs": [],
   "source": [
    "# Importamos las bibliotecas necesarias\n",
    "import numpy as np\n",
    "import matplotlib.pyplot as plt\n",
    "from sklearn.datasets import load_breast_cancer\n",
    "from sklearn.model_selection import train_test_split\n",
    "from sklearn.preprocessing import StandardScaler\n",
    "from sklearn.ensemble import RandomForestClassifier\n",
    "from sklearn.metrics import confusion_matrix, classification_report\n",
    "from sklearn.inspection import permutation_importance"
   ]
  },
  {
   "cell_type": "code",
   "execution_count": 3,
   "metadata": {},
   "outputs": [],
   "source": [
    "\n",
    "# Paso 1: Carga de datos\n",
    "# Cargamos el dataset de Cáncer de Mama de Wisconsin\n",
    "cancer = load_breast_cancer()\n",
    "X = cancer.data\n",
    "y = cancer.target"
   ]
  },
  {
   "cell_type": "code",
   "execution_count": 4,
   "metadata": {},
   "outputs": [
    {
     "name": "stdout",
     "output_type": "stream",
     "text": [
      "Información del dataset de Cáncer de Mama:\n",
      "Número de muestras: 569\n",
      "Número de características: 30\n",
      "Clases: [0 1]\n",
      "Nombres de las clases: ['malignant' 'benign']\n"
     ]
    }
   ],
   "source": [
    "\n",
    "# Imprimimos información sobre el dataset\n",
    "print(\"Información del dataset de Cáncer de Mama:\")\n",
    "print(f\"Número de muestras: {X.shape[0]}\")\n",
    "print(f\"Número de características: {X.shape[1]}\")\n",
    "print(f\"Clases: {np.unique(y)}\")\n",
    "print(f\"Nombres de las clases: {cancer.target_names}\")"
   ]
  },
  {
   "cell_type": "code",
   "execution_count": 5,
   "metadata": {},
   "outputs": [
    {
     "name": "stdout",
     "output_type": "stream",
     "text": [
      "\n",
      "Tamaño del conjunto de entrenamiento: 455\n",
      "Tamaño del conjunto de prueba: 114\n"
     ]
    }
   ],
   "source": [
    "# Paso 2: Preprocesamiento de datos\n",
    "# Dividimos los datos en conjuntos de entrenamiento y prueba\n",
    "X_train, X_test, y_train, y_test = train_test_split(X, y, test_size=0.2, random_state=42)\n",
    "\n",
    "print(\"\\nTamaño del conjunto de entrenamiento:\", X_train.shape[0])\n",
    "print(\"Tamaño del conjunto de prueba:\", X_test.shape[0])"
   ]
  },
  {
   "cell_type": "code",
   "execution_count": 6,
   "metadata": {},
   "outputs": [],
   "source": [
    "# Estandarizamos las características\n",
    "scaler = StandardScaler()\n",
    "X_train_scaled = scaler.fit_transform(X_train)\n",
    "X_test_scaled = scaler.transform(X_test)"
   ]
  },
  {
   "cell_type": "code",
   "execution_count": 7,
   "metadata": {},
   "outputs": [],
   "source": [
    "# Paso 3: Selección y entrenamiento del modelo\n",
    "# Usaremos un clasificador Random Forest\n",
    "rf_classifier = RandomForestClassifier(n_estimators=100, random_state=42)"
   ]
  },
  {
   "cell_type": "code",
   "execution_count": 9,
   "metadata": {},
   "outputs": [
    {
     "name": "stdout",
     "output_type": "stream",
     "text": [
      "\n",
      "Modelo Random Forest entrenado.\n"
     ]
    }
   ],
   "source": [
    "# Entrenamos el modelo\n",
    "rf_classifier.fit(X_train_scaled, y_train)\n",
    "\n",
    "print(\"\\nModelo Random Forest entrenado.\")"
   ]
  },
  {
   "cell_type": "code",
   "execution_count": 10,
   "metadata": {},
   "outputs": [],
   "source": [
    "# Paso 4: Evaluación del modelo\n",
    "# Hacemos predicciones en el conjunto de prueba\n",
    "y_pred = rf_classifier.predict(X_test_scaled)"
   ]
  },
  {
   "cell_type": "code",
   "execution_count": 11,
   "metadata": {},
   "outputs": [
    {
     "name": "stdout",
     "output_type": "stream",
     "text": [
      "\n",
      "Matriz de confusión:\n",
      "[[40  3]\n",
      " [ 1 70]]\n"
     ]
    }
   ],
   "source": [
    "# Calculamos y mostramos la matriz de confusión\n",
    "cm = confusion_matrix(y_test, y_pred)\n",
    "print(\"\\nMatriz de confusión:\")\n",
    "print(cm)"
   ]
  },
  {
   "cell_type": "code",
   "execution_count": 12,
   "metadata": {},
   "outputs": [
    {
     "name": "stdout",
     "output_type": "stream",
     "text": [
      "\n",
      "Informe de clasificación:\n",
      "              precision    recall  f1-score   support\n",
      "\n",
      "   malignant       0.98      0.93      0.95        43\n",
      "      benign       0.96      0.99      0.97        71\n",
      "\n",
      "    accuracy                           0.96       114\n",
      "   macro avg       0.97      0.96      0.96       114\n",
      "weighted avg       0.97      0.96      0.96       114\n",
      "\n"
     ]
    }
   ],
   "source": [
    "# Mostramos el informe de clasificación\n",
    "print(\"\\nInforme de clasificación:\")\n",
    "print(classification_report(y_test, y_pred, target_names=cancer.target_names))"
   ]
  },
  {
   "cell_type": "code",
   "execution_count": 13,
   "metadata": {},
   "outputs": [],
   "source": [
    "# Paso 5: Importancia de características\n",
    "# Calculamos la importancia de las características usando permutation importance\n",
    "perm_importance = permutation_importance(rf_classifier, X_test_scaled, y_test, n_repeats=10, random_state=42)"
   ]
  },
  {
   "cell_type": "code",
   "execution_count": 14,
   "metadata": {},
   "outputs": [],
   "source": [
    "# Ordenamos las características por importancia\n",
    "feature_importance = perm_importance.importances_mean\n",
    "sorted_idx = feature_importance.argsort()"
   ]
  },
  {
   "cell_type": "code",
   "execution_count": 15,
   "metadata": {},
   "outputs": [
    {
     "data": {
      "image/png": "[encoded data removed]",
      "text/plain": [
       "<Figure size 1000x800 with 1 Axes>"
      ]
     },
     "metadata": {},
     "output_type": "display_data"
    }
   ],
   "source": [
    "# Visualizamos la importancia de las características\n",
    "plt.figure(figsize=(10, 8))\n",
    "plt.barh(range(10), feature_importance[sorted_idx][-10:])\n",
    "plt.yticks(range(10), [cancer.feature_names[i] for i in sorted_idx[-10:]])\n",
    "plt.xlabel(\"Importancia de las características\")\n",
    "plt.title(\"Top 10 características más importantes\")\n",
    "plt.show()"
   ]
  },
  {
   "cell_type": "code",
   "execution_count": 16,
   "metadata": {},
   "outputs": [
    {
     "name": "stdout",
     "output_type": "stream",
     "text": [
      "\n",
      "Interpretación de los resultados:\n",
      "1. El modelo Random Forest ha logrado una buena precisión en la clasificación de tumores malignos y benignos.\n",
      "2. La matriz de confusión muestra cuántos casos fueron clasificados correctamente para cada clase.\n",
      "3. El informe de clasificación proporciona métricas detalladas, incluyendo precisión, recall y F1-score para cada clase.\n",
      "4. La visualización de importancia de características nos muestra qué atributos son más relevantes para la clasificación.\n",
      "\n",
      "Precisión global del modelo: 0.96\n"
     ]
    }
   ],
   "source": [
    "# Paso 6: Interpretación\n",
    "print(\"\\nInterpretación de los resultados:\")\n",
    "print(\"1. El modelo Random Forest ha logrado una buena precisión en la clasificación de tumores malignos y benignos.\")\n",
    "print(\"2. La matriz de confusión muestra cuántos casos fueron clasificados correctamente para cada clase.\")\n",
    "print(\"3. El informe de clasificación proporciona métricas detalladas, incluyendo precisión, recall y F1-score para cada clase.\")\n",
    "print(\"4. La visualización de importancia de características nos muestra qué atributos son más relevantes para la clasificación.\")\n",
    "\n",
    "accuracy = np.sum(np.diag(cm)) / np.sum(cm)\n",
    "print(f\"\\nPrecisión global del modelo: {accuracy:.2f}\")"
   ]
  }
 ],
 "metadata": {
  "kernelspec": {
   "display_name": "Python 3",
   "language": "python",
   "name": "python3"
  },
  "language_info": {
   "codemirror_mode": {
    "name": "ipython",
    "version": 3
   },
   "file_extension": ".py",
   "mimetype": "text/x-python",
   "name": "python",
   "nbconvert_exporter": "python",
   "pygments_lexer": "ipython3",
   "version": "3.10.12"
  }
 },
 "nbformat": 4,
 "nbformat_minor": 2
}
