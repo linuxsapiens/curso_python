{
 "cells": [
  {
   "cell_type": "code",
   "execution_count": 1,
   "id": "7f3bb7fc-4fe8-4e8c-afa4-f1a8c15c82af",
   "metadata": {},
   "outputs": [],
   "source": [
    "# Las funciones lamnda, son funciones de una sola linea, pueden tener cualquier cantidad de aegumentos, pero solo pueden tener \n",
    "#   una expresión, son útiles cuando se necesita una funcion simple por un periodo corto de tiempo, por ejemplo usandolas como \n",
    "#   parametros para otras funciones\n",
    "\n",
    "# Sintaxis\n",
    "#      lamnda argumentos: expresion"
   ]
  },
  {
   "cell_type": "code",
   "execution_count": 2,
   "id": "88830a84-0ce7-41d0-bd88-fee48b029537",
   "metadata": {},
   "outputs": [
    {
     "data": {
      "text/plain": [
       "8"
      ]
     },
     "execution_count": 2,
     "metadata": {},
     "output_type": "execute_result"
    }
   ],
   "source": [
    "# Ejemplos \n",
    "doble = lambda x: x * 2\n",
    "doble(4)\n"
   ]
  },
  {
   "cell_type": "code",
   "execution_count": 3,
   "id": "351b28b9-39b4-4ecb-93ba-a4597d05ac83",
   "metadata": {},
   "outputs": [
    {
     "data": {
      "text/plain": [
       "64"
      ]
     },
     "execution_count": 3,
     "metadata": {},
     "output_type": "execute_result"
    }
   ],
   "source": [
    "doble(32)"
   ]
  },
  {
   "cell_type": "code",
   "execution_count": 4,
   "id": "a11412a7-bb2e-421f-ac37-4a9baf434155",
   "metadata": {},
   "outputs": [
    {
     "data": {
      "text/plain": [
       "27"
      ]
     },
     "execution_count": 4,
     "metadata": {},
     "output_type": "execute_result"
    }
   ],
   "source": [
    "potencia = lambda x,y: x ** y\n",
    "potencia(3,3)"
   ]
  },
  {
   "cell_type": "code",
   "execution_count": 5,
   "id": "910a1582-2828-4802-bd13-ed89fed23d31",
   "metadata": {},
   "outputs": [
    {
     "data": {
      "text/plain": [
       "256"
      ]
     },
     "execution_count": 5,
     "metadata": {},
     "output_type": "execute_result"
    }
   ],
   "source": [
    "potencia(2,8)"
   ]
  },
  {
   "cell_type": "code",
   "execution_count": 6,
   "id": "59054be5-8040-4da5-a949-c2b1b419be25",
   "metadata": {},
   "outputs": [
    {
     "name": "stdout",
     "output_type": "stream",
     "text": [
      "[2, 4, 6, 8, 10]\n"
     ]
    }
   ],
   "source": [
    "# Impares, filtrado de listas, list y filter\n",
    "numeros = [1,2,3,4,5,6,7,8,9,10]\n",
    "impares = list(filter(lambda x: x % 2 == 0, numeros ))\n",
    "print(impares)"
   ]
  },
  {
   "cell_type": "code",
   "execution_count": 7,
   "id": "c2ce9c93-3871-477a-8b1d-2d6cd5847a8b",
   "metadata": {},
   "outputs": [
    {
     "name": "stdout",
     "output_type": "stream",
     "text": [
      "['Ana', 'Daniel', 'Gera', 'Jorge', 'Vero']\n"
     ]
    }
   ],
   "source": [
    "# ordenar, sorted\n",
    "cadenas = ['Jorge', 'Vero', 'Gera', 'Ana', 'Daniel']\n",
    "ordenados = sorted(cadenas, key=lambda x: x.lower())\n",
    "print(ordenados)"
   ]
  },
  {
   "cell_type": "code",
   "execution_count": 9,
   "id": "0d2556b4",
   "metadata": {},
   "outputs": [
    {
     "name": "stdout",
     "output_type": "stream",
     "text": [
      "nohtyp evol i\n"
     ]
    }
   ],
   "source": [
    "# reversa, slicing\n",
    "cadena = 'I LOVE PYTHON'\n",
    "reversa = lambda x: x.lower()[::-1]\n",
    "print(reversa(cadena))"
   ]
  },
  {
   "cell_type": "code",
   "execution_count": 11,
   "id": "cc26f696",
   "metadata": {},
   "outputs": [
    {
     "name": "stdout",
     "output_type": "stream",
     "text": [
      "[2, 4, 6, 8, 5, 6, 7, 8, 9, 10]\n"
     ]
    }
   ],
   "source": [
    "# condicionales, if-else inline\n",
    "clasifica = list(map(lambda x: x*2 if x<5 else x*1, numeros))\n",
    "print(clasifica)"
   ]
  },
  {
   "cell_type": "code",
   "execution_count": 12,
   "id": "ae008ceb",
   "metadata": {},
   "outputs": [
    {
     "name": "stdout",
     "output_type": "stream",
     "text": [
      "3367\n"
     ]
    }
   ],
   "source": [
    "# reduce, acumula los elementos de una lista\n",
    "from functools import reduce\n",
    "numeros = [15,772,83,94,50,654,3367,548,789,1990]\n",
    "max = reduce(lambda p,q: p if p > q else q, numeros)\n",
    "print(max)"
   ]
  },
  {
   "cell_type": "code",
   "execution_count": 13,
   "id": "eb49aa16",
   "metadata": {},
   "outputs": [
    {
     "name": "stdout",
     "output_type": "stream",
     "text": [
      "sumatoria: 10\n",
      "producto: 24\n"
     ]
    }
   ],
   "source": [
    "# mas ejemplos de reduce \n",
    "a = [1,2,3,4]\n",
    "sum_a = reduce(lambda x, y: x + y, a)\n",
    "pro_a = reduce(lambda x, y: x * y, a)\n",
    "print(f\"sumatoria: {sum_a}\")\n",
    "print(f\"producto: {pro_a}\")"
   ]
  },
  {
   "cell_type": "code",
   "execution_count": null,
   "id": "d432450b",
   "metadata": {},
   "outputs": [],
   "source": [
    "# Es muy util el uso de funciones de orden superior map(), list(), filter(), reduce()\n",
    "# Limitaciones.- Están una sola expresion, no pueden contener multiples lineas\n",
    "# Legibilidad.- Pueden afectar negativamente la legibilidad del codigo si se usan \n",
    "#               en exceso o en casos compleja.\n",
    "# Depuracion.- Puede ser mas dificil depurar estas funciones lambda en comparaciones\n",
    "#               explicitas. \n"
   ]
  }
 ],
 "metadata": {
  "kernelspec": {
   "display_name": "Python 3",
   "language": "python",
   "name": "python3"
  },
  "language_info": {
   "codemirror_mode": {
    "name": "ipython",
    "version": 3
   },
   "file_extension": ".py",
   "mimetype": "text/x-python",
   "name": "python",
   "nbconvert_exporter": "python",
   "pygments_lexer": "ipython3",
   "version": "3.10.12"
  }
 },
 "nbformat": 4,
 "nbformat_minor": 5
}
