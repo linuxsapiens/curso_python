{
 "cells": [
  {
   "cell_type": "code",
   "execution_count": 1,
   "id": "15e8abff-2fc4-4cec-a3d6-214fb96e5cb3",
   "metadata": {},
   "outputs": [],
   "source": [
    "# Son colecciones desordenadas de elementos unicos; se usan para hacer pruebas de pertenencia en grupos y eliminacion\n",
    "# de elmentos duplicados, soportan operaciones matematicas avanzadas, pero se veran mas adelante\n",
    "conjunto = set()"
   ]
  },
  {
   "cell_type": "code",
   "execution_count": 2,
   "id": "e5afabf3-ce19-4d6a-8523-89b073a6e526",
   "metadata": {},
   "outputs": [
    {
     "data": {
      "text/plain": [
       "set()"
      ]
     },
     "execution_count": 2,
     "metadata": {},
     "output_type": "execute_result"
    }
   ],
   "source": [
    "conjunto"
   ]
  },
  {
   "cell_type": "code",
   "execution_count": 5,
   "id": "1768c9f5-13af-4bd1-9c21-8e1e279defb2",
   "metadata": {},
   "outputs": [],
   "source": [
    "conjunto = {1,2,3}"
   ]
  },
  {
   "cell_type": "code",
   "execution_count": 6,
   "id": "d02c05a8-1aac-426e-b65a-c87ba25ce9d8",
   "metadata": {},
   "outputs": [
    {
     "data": {
      "text/plain": [
       "{1, 2, 3}"
      ]
     },
     "execution_count": 6,
     "metadata": {},
     "output_type": "execute_result"
    }
   ],
   "source": [
    "conjunto"
   ]
  },
  {
   "cell_type": "code",
   "execution_count": 7,
   "id": "f28fb4a8-9dd6-4d4f-b952-0c5834c045da",
   "metadata": {},
   "outputs": [],
   "source": [
    "# Se dice que son desordenados, por que si agredas, el orden puede cambiar\n",
    "conjunto.add(4)"
   ]
  },
  {
   "cell_type": "code",
   "execution_count": 8,
   "id": "edfe99ce-902a-42fd-bad0-39486df35c02",
   "metadata": {},
   "outputs": [
    {
     "data": {
      "text/plain": [
       "{1, 2, 3, 4}"
      ]
     },
     "execution_count": 8,
     "metadata": {},
     "output_type": "execute_result"
    }
   ],
   "source": [
    "conjunto"
   ]
  },
  {
   "cell_type": "code",
   "execution_count": 9,
   "id": "58713377-5283-4662-9b24-8917817e182e",
   "metadata": {},
   "outputs": [],
   "source": [
    "conjunto.add(0)"
   ]
  },
  {
   "cell_type": "code",
   "execution_count": 10,
   "id": "6c5abaf3-ad80-4db4-a773-d9fc4da1ef0e",
   "metadata": {},
   "outputs": [
    {
     "data": {
      "text/plain": [
       "{0, 1, 2, 3, 4}"
      ]
     },
     "execution_count": 10,
     "metadata": {},
     "output_type": "execute_result"
    }
   ],
   "source": [
    "conjunto"
   ]
  },
  {
   "cell_type": "code",
   "execution_count": 11,
   "id": "09112eca-8730-478d-b26f-441fd28958b3",
   "metadata": {},
   "outputs": [],
   "source": [
    "conjunto.add(\"H\")"
   ]
  },
  {
   "cell_type": "code",
   "execution_count": 12,
   "id": "36153a4a-615a-4181-8d0b-e786201e4f89",
   "metadata": {},
   "outputs": [
    {
     "data": {
      "text/plain": [
       "{0, 1, 2, 3, 4, 'H'}"
      ]
     },
     "execution_count": 12,
     "metadata": {},
     "output_type": "execute_result"
    }
   ],
   "source": [
    "conjunto"
   ]
  },
  {
   "cell_type": "code",
   "execution_count": 13,
   "id": "652ac985-bd87-491a-92a9-162e9eb05ece",
   "metadata": {},
   "outputs": [],
   "source": [
    "conjunto.add(\"A\")"
   ]
  },
  {
   "cell_type": "code",
   "execution_count": 14,
   "id": "f1268286-6998-4651-8866-5227fa5b69dd",
   "metadata": {},
   "outputs": [],
   "source": [
    "conjunto.add(\"Z\")"
   ]
  },
  {
   "cell_type": "code",
   "execution_count": 15,
   "id": "fa4b45d3-b59f-4b30-83c7-ba6381531b67",
   "metadata": {},
   "outputs": [
    {
     "data": {
      "text/plain": [
       "{0, 1, 2, 3, 4, 'A', 'H', 'Z'}"
      ]
     },
     "execution_count": 15,
     "metadata": {},
     "output_type": "execute_result"
    }
   ],
   "source": [
    "conjunto"
   ]
  },
  {
   "cell_type": "code",
   "execution_count": 16,
   "id": "f808850a-6ce0-420b-a413-8775d0677a70",
   "metadata": {},
   "outputs": [],
   "source": [
    "# usan para saber si un elemento esta en un grupo\n",
    "grupo = {\"Luis\", \"Gera\", \"Carlos\"}"
   ]
  },
  {
   "cell_type": "code",
   "execution_count": 17,
   "id": "4e837326-30d9-4a8e-ac93-8cca09cee610",
   "metadata": {},
   "outputs": [
    {
     "data": {
      "text/plain": [
       "False"
      ]
     },
     "execution_count": 17,
     "metadata": {},
     "output_type": "execute_result"
    }
   ],
   "source": [
    "\"Hector\" in grupo"
   ]
  },
  {
   "cell_type": "code",
   "execution_count": 18,
   "id": "1289eaf8-5132-4e99-aa99-5f000e59f910",
   "metadata": {},
   "outputs": [
    {
     "data": {
      "text/plain": [
       "True"
      ]
     },
     "execution_count": 18,
     "metadata": {},
     "output_type": "execute_result"
    }
   ],
   "source": [
    "\"Gera\" in grupo"
   ]
  },
  {
   "cell_type": "code",
   "execution_count": 19,
   "id": "adaff307-974c-4ddc-b2fa-d4fd0a7d4315",
   "metadata": {},
   "outputs": [
    {
     "data": {
      "text/plain": [
       "False"
      ]
     },
     "execution_count": 19,
     "metadata": {},
     "output_type": "execute_result"
    }
   ],
   "source": [
    "\"Carlos\" not in grupo"
   ]
  },
  {
   "cell_type": "code",
   "execution_count": 22,
   "id": "cb5d4abc-cb00-4874-868e-b80fecfd97a9",
   "metadata": {},
   "outputs": [],
   "source": [
    "# lo mas interesante es que no puede haber elementos duplicados\n",
    "test = {\"Uno\", \"Uno\", \"Uno\"}"
   ]
  },
  {
   "cell_type": "code",
   "execution_count": 23,
   "id": "805cf4d3-99cc-4998-9bc3-c5dfc062618c",
   "metadata": {},
   "outputs": [
    {
     "data": {
      "text/plain": [
       "{'Uno'}"
      ]
     },
     "execution_count": 23,
     "metadata": {},
     "output_type": "execute_result"
    }
   ],
   "source": [
    "test"
   ]
  },
  {
   "cell_type": "code",
   "execution_count": 24,
   "id": "0be4769a-1aea-4d05-9773-1701e068c0e4",
   "metadata": {},
   "outputs": [],
   "source": [
    "lista = [1,2,3,3,2,1]"
   ]
  },
  {
   "cell_type": "code",
   "execution_count": 25,
   "id": "98a19471-4307-4eab-8663-5b36846e6101",
   "metadata": {},
   "outputs": [
    {
     "data": {
      "text/plain": [
       "[1, 2, 3, 3, 2, 1]"
      ]
     },
     "execution_count": 25,
     "metadata": {},
     "output_type": "execute_result"
    }
   ],
   "source": [
    "lista"
   ]
  },
  {
   "cell_type": "code",
   "execution_count": 26,
   "id": "a2cdc4fa-2f0a-41e6-a8ac-c325e1a40576",
   "metadata": {},
   "outputs": [],
   "source": [
    "conj = set(lista)"
   ]
  },
  {
   "cell_type": "code",
   "execution_count": 27,
   "id": "89e17eb3-f8f1-4f69-a86b-ab1bcd32b6eb",
   "metadata": {},
   "outputs": [
    {
     "data": {
      "text/plain": [
       "{1, 2, 3}"
      ]
     },
     "execution_count": 27,
     "metadata": {},
     "output_type": "execute_result"
    }
   ],
   "source": [
    "conj"
   ]
  },
  {
   "cell_type": "code",
   "execution_count": 28,
   "id": "fe32eb68-321e-475b-889d-cb60069e8e97",
   "metadata": {},
   "outputs": [],
   "source": [
    "lista = list(conj)"
   ]
  },
  {
   "cell_type": "code",
   "execution_count": 29,
   "id": "48c058c6-c1be-4fa8-bd84-2bd1300d3b3a",
   "metadata": {},
   "outputs": [
    {
     "data": {
      "text/plain": [
       "[1, 2, 3]"
      ]
     },
     "execution_count": 29,
     "metadata": {},
     "output_type": "execute_result"
    }
   ],
   "source": [
    "lista"
   ]
  },
  {
   "cell_type": "code",
   "execution_count": 30,
   "id": "e9a53a6a-a833-4ef4-a01d-205f31ce2282",
   "metadata": {},
   "outputs": [],
   "source": [
    "l = [1,2,3,3,2,1]"
   ]
  },
  {
   "cell_type": "code",
   "execution_count": 31,
   "id": "fec60753-2e1e-44aa-a08f-1eaf9c70d172",
   "metadata": {},
   "outputs": [],
   "source": [
    "# Eliminar elementos duplicados\n",
    "l = list( set( l ) ) "
   ]
  },
  {
   "cell_type": "code",
   "execution_count": 32,
   "id": "51db9f40-c2ae-4922-8f83-40bb72d1b15b",
   "metadata": {},
   "outputs": [
    {
     "data": {
      "text/plain": [
       "[1, 2, 3]"
      ]
     },
     "execution_count": 32,
     "metadata": {},
     "output_type": "execute_result"
    }
   ],
   "source": [
    "l"
   ]
  },
  {
   "cell_type": "code",
   "execution_count": 34,
   "id": "e5dc1dd2-439e-4512-83f3-c203d4378b00",
   "metadata": {},
   "outputs": [
    {
     "data": {
      "text/plain": [
       "{' ', ',', '?', 'H', 'a', 'c', 'd', 'e', 'l', 'm', 'o', 's', 't', 'v'}"
      ]
     },
     "execution_count": 34,
     "metadata": {},
     "output_type": "execute_result"
    }
   ],
   "source": [
    "s = \"Hola a todos, como les va?\"\n",
    "set(s)"
   ]
  },
  {
   "cell_type": "code",
   "execution_count": null,
   "id": "149aa6a1-7c10-4ae6-bd2d-69df09868653",
   "metadata": {},
   "outputs": [],
   "source": []
  }
 ],
 "metadata": {
  "kernelspec": {
   "display_name": "Python 3 (ipykernel)",
   "language": "python",
   "name": "python3"
  },
  "language_info": {
   "codemirror_mode": {
    "name": "ipython",
    "version": 3
   },
   "file_extension": ".py",
   "mimetype": "text/x-python",
   "name": "python",
   "nbconvert_exporter": "python",
   "pygments_lexer": "ipython3",
   "version": "3.10.12"
  }
 },
 "nbformat": 4,
 "nbformat_minor": 5
}
