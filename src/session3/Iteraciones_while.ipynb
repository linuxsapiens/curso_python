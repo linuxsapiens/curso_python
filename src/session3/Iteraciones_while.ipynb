{
 "cells": [
  {
   "cell_type": "code",
   "execution_count": null,
   "id": "b511c6e7-1090-4dad-b673-18e2c4c3e072",
   "metadata": {},
   "outputs": [],
   "source": [
    "# Descripción de uso de la sentencia de control \"while\":\n",
    "# La sentencia \"while\" en Python se utiliza para repetir un bloque de código mientras una condición sea verdadera.\n",
    "# Es útil cuando no sabemos de antemano cuántas veces se necesita ejecutar el código.\n",
    "# Sintaxis básica:\n",
    "#   while condición:\n",
    "#       # Código a ejecutar mientras la condición sea verdadera\n",
    "#\n",
    "# Es importante asegurarse de que la condición eventualmente se vuelva falsa para evitar bucles infinitos."
   ]
  },
  {
   "cell_type": "code",
   "execution_count": null,
   "id": "5cac57ea-d83f-40ab-b5f7-8b6ab736fc24",
   "metadata": {},
   "outputs": [],
   "source": [
    "# Ejemplo 1: Bucle while simple\n",
    "print(\"Ejemplo 1: Contador simple\")\n",
    "contador = 0\n",
    "while contador < 5:\n",
    "    print(f\"El contador es: {contador}\")\n",
    "    contador += 1\n",
    "print(\"Fin del bucle\\n\")"
   ]
  },
  {
   "cell_type": "code",
   "execution_count": null,
   "id": "056f36b9-e142-4fca-a74e-25a13771b901",
   "metadata": {},
   "outputs": [],
   "source": [
    "# Ejemplo 2: Bucle while con break\n",
    "print(\"Ejemplo 2: Uso de break\")\n",
    "numero = 0\n",
    "while True:\n",
    "    if numero == 5:\n",
    "        break\n",
    "    print(f\"El número es: {numero}\")\n",
    "    numero += 1\n",
    "print(\"Salimos del bucle con break\\n\")"
   ]
  },
  {
   "cell_type": "code",
   "execution_count": 1,
   "id": "4cdea5d8-ae60-427b-8092-e8e6790c0cbe",
   "metadata": {},
   "outputs": [
    {
     "name": "stdout",
     "output_type": "stream",
     "text": [
      "Ejemplo 3: Uso de continue\n",
      "El número es: 1\n",
      "El número es: 2\n",
      "El número es: 4\n",
      "El número es: 5\n",
      "Fin del bucle\n",
      "\n"
     ]
    }
   ],
   "source": [
    "# Ejemplo 3: Bucle while con continue\n",
    "print(\"Ejemplo 3: Uso de continue\")\n",
    "numero = 0\n",
    "while numero < 5:\n",
    "    numero += 1\n",
    "    if numero == 3:\n",
    "        continue\n",
    "    print(f\"El número es: {numero}\")\n",
    "print(\"Fin del bucle\\n\")"
   ]
  },
  {
   "cell_type": "code",
   "execution_count": null,
   "id": "bb2f9b31-5903-478a-a82b-dcd040ec3efe",
   "metadata": {},
   "outputs": [],
   "source": [
    "# Ejemplo 4: Bucle while con else\n",
    "print(\"Ejemplo 4: While con else\")\n",
    "intento = 1\n",
    "while intento <= 3:\n",
    "    print(f\"Intento número {intento}\")\n",
    "    intento += 1\n",
    "else:\n",
    "    print(\"Se han agotado los intentos\")\n",
    "print(\"Fin del bucle\\n\")"
   ]
  },
  {
   "cell_type": "code",
   "execution_count": null,
   "id": "cdbbb34a-bc46-43eb-9354-90d6712553b6",
   "metadata": {},
   "outputs": [],
   "source": [
    "# Ejemplo 5: Validación de entrada de usuario\n",
    "print(\"Ejemplo 5: Validación de entrada\")\n",
    "while True:\n",
    "    entrada = input(\"Ingrese un número positivo: \")\n",
    "    if entrada.isdigit() and int(entrada) > 0:\n",
    "        print(f\"Has ingresado el número válido: {entrada}\")\n",
    "        breaels\n",
    "    else:\n",
    "        print(\"Entrada inválida. Intente de nuevo.\")\n",
    "print(\"Fin del programa\")"
   ]
  }
 ],
 "metadata": {
  "kernelspec": {
   "display_name": "Python 3 (ipykernel)",
   "language": "python",
   "name": "python3"
  },
  "language_info": {
   "codemirror_mode": {
    "name": "ipython",
    "version": 3
   },
   "file_extension": ".py",
   "mimetype": "text/x-python",
   "name": "python",
   "nbconvert_exporter": "python",
   "pygments_lexer": "ipython3",
   "version": "3.10.12"
  }
 },
 "nbformat": 4,
 "nbformat_minor": 5
}
