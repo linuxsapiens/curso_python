{
 "cells": [
  {
   "cell_type": "code",
   "execution_count": 1,
   "id": "f8504ce6-6092-4465-8e51-03167aa3d374",
   "metadata": {},
   "outputs": [],
   "source": [
    "# Son las colecciones mas utilizadas, una estructura mapeada llave-valor, o arreglo asociativo\n",
    "# la clave normalmente es una cadena\n",
    "vacio = {}"
   ]
  },
  {
   "cell_type": "code",
   "execution_count": 2,
   "id": "595f613a-a060-47f3-b8a2-37bc2d15b67d",
   "metadata": {},
   "outputs": [
    {
     "data": {
      "text/plain": [
       "{}"
      ]
     },
     "execution_count": 2,
     "metadata": {},
     "output_type": "execute_result"
    }
   ],
   "source": [
    "vacio"
   ]
  },
  {
   "cell_type": "code",
   "execution_count": 3,
   "id": "d757a80f-0dbc-42ab-9842-06349e395a9e",
   "metadata": {},
   "outputs": [
    {
     "data": {
      "text/plain": [
       "dict"
      ]
     },
     "execution_count": 3,
     "metadata": {},
     "output_type": "execute_result"
    }
   ],
   "source": [
    "type(vacio)"
   ]
  },
  {
   "cell_type": "code",
   "execution_count": 4,
   "id": "70b8f4f9-331a-41c2-97c4-ea579c9ce308",
   "metadata": {},
   "outputs": [],
   "source": [
    "colores = {'amarillo': 'yellow', 'azul': 'blue', 'verde': 'green'}"
   ]
  },
  {
   "cell_type": "code",
   "execution_count": 5,
   "id": "dcc99b01-d55d-4735-95ec-b8d358e30338",
   "metadata": {},
   "outputs": [
    {
     "data": {
      "text/plain": [
       "{'amarillo': 'yellow', 'azul': 'blue', 'verde': 'green'}"
      ]
     },
     "execution_count": 5,
     "metadata": {},
     "output_type": "execute_result"
    }
   ],
   "source": [
    "colores"
   ]
  },
  {
   "cell_type": "code",
   "execution_count": 6,
   "id": "903d7b8c-d5b7-45aa-913d-3bf1ce24a60f",
   "metadata": {},
   "outputs": [
    {
     "data": {
      "text/plain": [
       "'yellow'"
      ]
     },
     "execution_count": 6,
     "metadata": {},
     "output_type": "execute_result"
    }
   ],
   "source": [
    "# Son colecciones desordenadas, asi que a veces podria tener un orden distinto de la creacion\n",
    "colores['amarillo']"
   ]
  },
  {
   "cell_type": "code",
   "execution_count": 8,
   "id": "83a9082b-0fcb-44b5-a172-66d47e53444a",
   "metadata": {},
   "outputs": [
    {
     "data": {
      "text/plain": [
       "'blue'"
      ]
     },
     "execution_count": 8,
     "metadata": {},
     "output_type": "execute_result"
    }
   ],
   "source": [
    "colores['azul']"
   ]
  },
  {
   "cell_type": "code",
   "execution_count": 9,
   "id": "a6c77c10-6b56-44c6-b5f5-b589373e6e94",
   "metadata": {},
   "outputs": [],
   "source": [
    "numeros = {10:\"Diez\", 20:'Veinte'}"
   ]
  },
  {
   "cell_type": "code",
   "execution_count": 11,
   "id": "9a1a402d-094e-43cc-95e5-931b1b3f018a",
   "metadata": {},
   "outputs": [
    {
     "data": {
      "text/plain": [
       "'Diez'"
      ]
     },
     "execution_count": 11,
     "metadata": {},
     "output_type": "execute_result"
    }
   ],
   "source": [
    "numeros[10]"
   ]
  },
  {
   "cell_type": "code",
   "execution_count": 13,
   "id": "8eeb1c06-8f0e-46ab-a2b3-b43fc6e60d3e",
   "metadata": {},
   "outputs": [],
   "source": [
    "colores['amarillo'] = 'amarello'"
   ]
  },
  {
   "cell_type": "code",
   "execution_count": 15,
   "id": "cf093a58-19e9-4c0d-b581-af2b7eaeb2aa",
   "metadata": {},
   "outputs": [],
   "source": [
    "del(colores['amarillo'])"
   ]
  },
  {
   "cell_type": "code",
   "execution_count": 16,
   "id": "2743aa3a-6521-46fb-b4a8-3dcf2e4a332c",
   "metadata": {},
   "outputs": [
    {
     "data": {
      "text/plain": [
       "{'azul': 'blue', 'verde': 'green'}"
      ]
     },
     "execution_count": 16,
     "metadata": {},
     "output_type": "execute_result"
    }
   ],
   "source": [
    "colores"
   ]
  },
  {
   "cell_type": "code",
   "execution_count": 17,
   "id": "0afd163b-4664-4099-89f1-f4fbc8264370",
   "metadata": {},
   "outputs": [],
   "source": [
    "edades = {'Gera':49, 'Carlos':25, 'Ivan':19}"
   ]
  },
  {
   "cell_type": "code",
   "execution_count": 18,
   "id": "865144ce-7190-4ecc-9946-104aa22e4400",
   "metadata": {},
   "outputs": [
    {
     "data": {
      "text/plain": [
       "{'Gera': 49, 'Carlos': 25, 'Ivan': 19}"
      ]
     },
     "execution_count": 18,
     "metadata": {},
     "output_type": "execute_result"
    }
   ],
   "source": [
    "edades"
   ]
  },
  {
   "cell_type": "code",
   "execution_count": 23,
   "id": "8714005e-1a7c-4a48-9e52-7999064032a4",
   "metadata": {},
   "outputs": [],
   "source": [
    "edades['Ivan'] += 1"
   ]
  },
  {
   "cell_type": "code",
   "execution_count": 24,
   "id": "04887823-7ae0-4446-9789-ae8c124d0cf1",
   "metadata": {},
   "outputs": [
    {
     "data": {
      "text/plain": [
       "20"
      ]
     },
     "execution_count": 24,
     "metadata": {},
     "output_type": "execute_result"
    }
   ],
   "source": [
    "edades['Ivan']"
   ]
  },
  {
   "cell_type": "code",
   "execution_count": 26,
   "id": "81a87e7b-7e17-47ac-a926-339db1690784",
   "metadata": {},
   "outputs": [
    {
     "name": "stdout",
     "output_type": "stream",
     "text": [
      "Gera\n",
      "Carlos\n",
      "Ivan\n"
     ]
    }
   ],
   "source": [
    "for edad in edades:\n",
    "    print(edad)"
   ]
  },
  {
   "cell_type": "code",
   "execution_count": 27,
   "id": "36a3f1bb-a149-4fde-80aa-7c365600db8d",
   "metadata": {},
   "outputs": [
    {
     "name": "stdout",
     "output_type": "stream",
     "text": [
      "49\n",
      "25\n",
      "20\n"
     ]
    }
   ],
   "source": [
    "for clave in edades:\n",
    "    print(edades[clave])"
   ]
  },
  {
   "cell_type": "code",
   "execution_count": 29,
   "id": "6ddb6c0d-c52e-4ccd-a2be-cacdb96d06f0",
   "metadata": {},
   "outputs": [
    {
     "name": "stdout",
     "output_type": "stream",
     "text": [
      "Gera tiene 49 a~nos\n",
      "Carlos tiene 25 a~nos\n",
      "Ivan tiene 20 a~nos\n"
     ]
    }
   ],
   "source": [
    "for clave in edades:\n",
    "    print(f\"{clave} tiene {edades[clave]} a~nos\")"
   ]
  },
  {
   "cell_type": "code",
   "execution_count": 30,
   "id": "b527f501-34b9-470f-840d-7302111d11be",
   "metadata": {},
   "outputs": [
    {
     "name": "stdout",
     "output_type": "stream",
     "text": [
      "Gera tiene 49 anios\n",
      "Carlos tiene 25 anios\n",
      "Ivan tiene 20 anios\n"
     ]
    }
   ],
   "source": [
    "for clave, valor in edades.items():\n",
    "    print(f\"{clave} tiene {valor} anios\")"
   ]
  },
  {
   "cell_type": "code",
   "execution_count": 41,
   "id": "b0b31de3-5145-4c8f-8ad2-3d6ba50cd110",
   "metadata": {},
   "outputs": [],
   "source": [
    "# Se pueden combinar con las lista para crear colecciones de datos avanzadas\n",
    "personajes = []\n",
    "p = {'nombre': 'Han Solo', 'clase': 'Pistolero', 'raza': 'humano'}\n",
    "personajes.append(p)"
   ]
  },
  {
   "cell_type": "code",
   "execution_count": 42,
   "id": "252dcc49-69f0-408c-8288-e0bb1c84a7b0",
   "metadata": {},
   "outputs": [
    {
     "data": {
      "text/plain": [
       "[{'nombre': 'Han Solo', 'clase': 'Pistolero', 'raza': 'humano'}]"
      ]
     },
     "execution_count": 42,
     "metadata": {},
     "output_type": "execute_result"
    }
   ],
   "source": [
    "personajes"
   ]
  },
  {
   "cell_type": "code",
   "execution_count": 43,
   "id": "79470f94-b202-479c-bfad-c370082f277f",
   "metadata": {},
   "outputs": [],
   "source": [
    "p = {'nombre': 'Chew', 'clase': 'Piloto', 'raza': 'Wookie'}"
   ]
  },
  {
   "cell_type": "code",
   "execution_count": 44,
   "id": "e2901304-77a1-405b-a064-115cbe212cee",
   "metadata": {},
   "outputs": [],
   "source": [
    "personajes.append(p)"
   ]
  },
  {
   "cell_type": "code",
   "execution_count": 45,
   "id": "becaa9d5-6068-4ce0-bfc1-e1ea0a33d5b2",
   "metadata": {},
   "outputs": [
    {
     "data": {
      "text/plain": [
       "[{'nombre': 'Han Solo', 'clase': 'Pistolero', 'raza': 'humano'},\n",
       " {'nombre': 'Chew', 'clase': 'Piloto', 'raza': 'Wookie'}]"
      ]
     },
     "execution_count": 45,
     "metadata": {},
     "output_type": "execute_result"
    }
   ],
   "source": [
    "personajes"
   ]
  },
  {
   "cell_type": "code",
   "execution_count": 46,
   "id": "8a6627a2-bb5d-48a8-89f4-a30fe265b6f7",
   "metadata": {},
   "outputs": [],
   "source": [
    "p = {'nombre': 'Java', 'clase': 'Cazador', 'raza': 'Asqueroso'}"
   ]
  },
  {
   "cell_type": "code",
   "execution_count": 47,
   "id": "37284f92-e586-400b-a809-6fdab1136f83",
   "metadata": {},
   "outputs": [],
   "source": [
    "personajes.append(p)"
   ]
  },
  {
   "cell_type": "code",
   "execution_count": 48,
   "id": "7549673d-a0b6-499d-afc8-352eaa832f1e",
   "metadata": {},
   "outputs": [
    {
     "data": {
      "text/plain": [
       "[{'nombre': 'Han Solo', 'clase': 'Pistolero', 'raza': 'humano'},\n",
       " {'nombre': 'Chew', 'clase': 'Piloto', 'raza': 'Wookie'},\n",
       " {'nombre': 'Java', 'clase': 'Cazador', 'raza': 'Asqueroso'}]"
      ]
     },
     "execution_count": 48,
     "metadata": {},
     "output_type": "execute_result"
    }
   ],
   "source": [
    "personajes"
   ]
  },
  {
   "cell_type": "code",
   "execution_count": 49,
   "id": "977ce14e-aa40-440a-a42a-fb0e7bfa31e5",
   "metadata": {},
   "outputs": [
    {
     "name": "stdout",
     "output_type": "stream",
     "text": [
      "Han Solo Pistolero humano\n",
      "Chew Piloto Wookie\n",
      "Java Cazador Asqueroso\n"
     ]
    }
   ],
   "source": [
    "for p in personajes:\n",
    "    print(p['nombre'], p['clase'], p['raza'])"
   ]
  },
  {
   "cell_type": "code",
   "execution_count": null,
   "id": "fa1f1e41-d619-4db5-bc7d-0cbd9d2d2e3e",
   "metadata": {},
   "outputs": [],
   "source": []
  }
 ],
 "metadata": {
  "kernelspec": {
   "display_name": "Python 3 (ipykernel)",
   "language": "python",
   "name": "python3"
  },
  "language_info": {
   "codemirror_mode": {
    "name": "ipython",
    "version": 3
   },
   "file_extension": ".py",
   "mimetype": "text/x-python",
   "name": "python",
   "nbconvert_exporter": "python",
   "pygments_lexer": "ipython3",
   "version": "3.10.12"
  }
 },
 "nbformat": 4,
 "nbformat_minor": 5
}
