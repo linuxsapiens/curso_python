{
 "cells": [
  {
   "cell_type": "code",
   "execution_count": null,
   "id": "052dd50c-8445-4d43-be31-6d3fe6166098",
   "metadata": {},
   "outputs": [],
   "source": [
    "# Descripción de uso de la sentencia de control \"for\":\n",
    "# La sentencia \"for\" en Python se utiliza para iterar sobre una secuencia (como una lista, tupla, diccionario, conjunto o cadena)\n",
    "# o cualquier otro objeto iterable. Es especialmente útil cuando se conoce de antemano el número de iteraciones.\n",
    "# Sintaxis básica:\n",
    "#   for elemento in secuencia:\n",
    "#       # Código a ejecutar para cada elemento\n",
    "#\n",
    "# La función range() se usa comúnmente con for para generar una secuencia de números."
   ]
  },
  {
   "cell_type": "code",
   "execution_count": null,
   "id": "455f5e0b-d4c9-4eed-a958-590aaff428d0",
   "metadata": {},
   "outputs": [],
   "source": [
    "# Ejemplo 1: Iteración sobre una lista\n",
    "print(\"Ejemplo 1: Iteración sobre una lista\")\n",
    "frutas = [\"manzana\", \"banana\", \"cereza\"]\n",
    "for fruta in frutas:\n",
    "    print(f\"Me gusta la {fruta}\")\n",
    "print()"
   ]
  },
  {
   "cell_type": "code",
   "execution_count": null,
   "id": "e0f06361-e701-4958-8d02-5f796ddbdc51",
   "metadata": {},
   "outputs": [],
   "source": [
    "# Ejemplo 2: Uso de range() para generar una secuencia\n",
    "print(\"Ejemplo 2: Uso de range()\")\n",
    "for i in range(5):  # range(5) genera 0, 1, 2, 3, 4\n",
    "    print(f\"Número: {i}\")\n",
    "print()"
   ]
  },
  {
   "cell_type": "code",
   "execution_count": null,
   "id": "2b7528e5-83e8-4b43-9f3f-94b375e8b347",
   "metadata": {},
   "outputs": [],
   "source": [
    "# Ejemplo 3: Iteración sobre un diccionario\n",
    "print(\"Ejemplo 3: Iteración sobre un diccionario\")\n",
    "persona = {\"nombre\": \"Juan\", \"edad\": 30, \"ciudad\": \"Madrid\"}\n",
    "for clave, valor in persona.items():\n",
    "    print(f\"{clave}: {valor}\")\n",
    "print()"
   ]
  },
  {
   "cell_type": "code",
   "execution_count": null,
   "id": "858271cb-6d92-4738-b228-9be48949957d",
   "metadata": {},
   "outputs": [],
   "source": [
    "# Ejemplo 4: Uso de enumerate() para obtener índice y valor\n",
    "print(\"Ejemplo 4: Uso de enumerate()\")\n",
    "colores = [\"rojo\", \"verde\", \"azul\"]\n",
    "for indice, color in enumerate(colores):\n",
    "    print(f\"Color {indice + 1}: {color}\")\n",
    "print()"
   ]
  },
  {
   "cell_type": "code",
   "execution_count": null,
   "id": "56b2db51-20eb-4f9c-887f-a01aa106c89a",
   "metadata": {},
   "outputs": [],
   "source": [
    "# Ejemplo 5: Bucle for con else\n",
    "print(\"Ejemplo 5: Bucle for con else\")\n",
    "for num in range(1, 4):\n",
    "    print(f\"Número: {num}\")\n",
    "else:\n",
    "    print(\"Bucle completado sin interrupciones\")\n",
    "print()"
   ]
  },
  {
   "cell_type": "code",
   "execution_count": null,
   "id": "adf17b97-a4ec-472e-b1c2-691eb041b6a2",
   "metadata": {},
   "outputs": [],
   "source": [
    "# Ejemplo 6: Uso de break y continue en un bucle for\n",
    "print(\"Ejemplo 6: Uso de break y continue\")\n",
    "for num in range(10):\n",
    "    if num == 3:\n",
    "        continue  # Salta esta iteración\n",
    "    if num == 7:\n",
    "        break  # Sale del bucle\n",
    "    print(f\"Número: {num}\")\n",
    "print(\"Bucle terminado\")"
   ]
  }
 ],
 "metadata": {
  "kernelspec": {
   "display_name": "Python 3 (ipykernel)",
   "language": "python",
   "name": "python3"
  },
  "language_info": {
   "codemirror_mode": {
    "name": "ipython",
    "version": 3
   },
   "file_extension": ".py",
   "mimetype": "text/x-python",
   "name": "python",
   "nbconvert_exporter": "python",
   "pygments_lexer": "ipython3",
   "version": "3.10.12"
  }
 },
 "nbformat": 4,
 "nbformat_minor": 5
}
